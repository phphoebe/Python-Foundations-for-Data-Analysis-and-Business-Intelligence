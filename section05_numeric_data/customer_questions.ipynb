{
 "cells": [
  {
   "attachments": {},
   "cell_type": "markdown",
   "id": "302f56b8",
   "metadata": {},
   "source": [
    "###  What are the highest and lowest priced items we sell?\n",
    "\n",
    "Based on the list of prices below. Use Python to determine this."
   ]
  },
  {
   "cell_type": "code",
   "execution_count": 1,
   "id": "5c6e2489",
   "metadata": {},
   "outputs": [],
   "source": [
    "price_list = [129.99, 99.99, 119.19, 99.99, 89.99, 79.99, 49.99]"
   ]
  },
  {
   "cell_type": "code",
   "execution_count": 3,
   "id": "ce9298dc",
   "metadata": {},
   "outputs": [
    {
     "name": "stdout",
     "output_type": "stream",
     "text": [
      "49.99 129.99\n"
     ]
    }
   ],
   "source": [
    "# single line solution \n",
    "\n",
    "print(min(price_list), max(price_list))"
   ]
  },
  {
   "cell_type": "code",
   "execution_count": 4,
   "id": "f1c6a2ad",
   "metadata": {},
   "outputs": [
    {
     "name": "stdout",
     "output_type": "stream",
     "text": [
      "49.99 129.99\n",
      "The lowest price is: 49.99\n",
      "The highest price is: 129.99\n"
     ]
    }
   ],
   "source": [
    "# Variable Assignment\n",
    "\n",
    "lowest_price = min(price_list)\n",
    "highest_price = max(price_list)\n",
    "\n",
    "print(lowest_price, highest_price)\n",
    "\n",
    "print(\"The lowest price is: \" + str(lowest_price))\n",
    "print(\"The highest price is: \" + str(highest_price))"
   ]
  },
  {
   "attachments": {},
   "cell_type": "markdown",
   "id": "08a76ff6",
   "metadata": {},
   "source": [
    "How much would it cost for a customer to purchase two of every item in the price list?"
   ]
  },
  {
   "attachments": {},
   "cell_type": "markdown",
   "id": "15f33a90",
   "metadata": {},
   "source": [
    "Rounded to the nearest dollar."
   ]
  },
  {
   "cell_type": "code",
   "execution_count": 5,
   "id": "1b7429d2",
   "metadata": {},
   "outputs": [
    {
     "data": {
      "text/plain": [
       "1338"
      ]
     },
     "execution_count": 5,
     "metadata": {},
     "output_type": "execute_result"
    }
   ],
   "source": [
    "# single line solution\n",
    "\n",
    "round(2 * sum(price_list))"
   ]
  },
  {
   "cell_type": "code",
   "execution_count": 6,
   "id": "ec0c89e8",
   "metadata": {},
   "outputs": [
    {
     "data": {
      "text/plain": [
       "1338"
      ]
     },
     "execution_count": 6,
     "metadata": {},
     "output_type": "execute_result"
    }
   ],
   "source": [
    "# With variable assignment\n",
    "\n",
    "cost_of_items = sum(price_list)\n",
    "cost_multiplier = 2\n",
    "cost_of_2x = round(cost_of_items * cost_multiplier)\n",
    "\n",
    "cost_of_2x"
   ]
  }
 ],
 "metadata": {
  "kernelspec": {
   "display_name": "Python 3 (ipykernel)",
   "language": "python",
   "name": "python3"
  },
  "language_info": {
   "codemirror_mode": {
    "name": "ipython",
    "version": 3
   },
   "file_extension": ".py",
   "mimetype": "text/x-python",
   "name": "python",
   "nbconvert_exporter": "python",
   "pygments_lexer": "ipython3",
   "version": "3.10.11"
  }
 },
 "nbformat": 4,
 "nbformat_minor": 5
}
