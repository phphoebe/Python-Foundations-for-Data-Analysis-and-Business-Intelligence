{
 "cells": [
  {
   "attachments": {},
   "cell_type": "markdown",
   "metadata": {},
   "source": [
    "### Defining Functions \n",
    "\n",
    "```python\n",
    "def function_name(arguments):\n",
    "    do this \n",
    "    return output\n",
    "```"
   ]
  },
  {
   "cell_type": "code",
   "execution_count": 1,
   "metadata": {},
   "outputs": [],
   "source": [
    "# Example - Definiing a function that concatenantes two words, separated by a space \n",
    "\n",
    "def concatenator(string1, string2):\n",
    "    combined_string = string1 + \" \" + string2\n",
    "    return combined_string"
   ]
  },
  {
   "cell_type": "code",
   "execution_count": 2,
   "metadata": {},
   "outputs": [
    {
     "data": {
      "text/plain": [
       "'Hello World!'"
      ]
     },
     "execution_count": 2,
     "metadata": {},
     "output_type": "execute_result"
    }
   ],
   "source": [
    "concatenator(\"Hello\", \"World!\")"
   ]
  },
  {
   "attachments": {},
   "cell_type": "markdown",
   "metadata": {},
   "source": [
    "### The Docstring"
   ]
  },
  {
   "attachments": {},
   "cell_type": "markdown",
   "metadata": {},
   "source": [
    "You can create a **docstring** for your function\n",
    "* This is used to embed text describing its arguments and the actions it performs \n",
    "\n",
    "Use _**triple quotes**_ inside the function to create its docstring"
   ]
  },
  {
   "cell_type": "code",
   "execution_count": 3,
   "metadata": {},
   "outputs": [],
   "source": [
    "def concatenator(string1, string2):\n",
    "    \"\"\"combines two strings, separated by a space\n",
    "\n",
    "    Args:\n",
    "        string1 (str): string to put before space\n",
    "        string2 (str): string to put after space\n",
    "    \n",
    "    Returns: \n",
    "        str: string1 and string2 separated by a space\n",
    "    \"\"\"\n",
    "    return string1 + \" \" + string2"
   ]
  },
  {
   "attachments": {},
   "cell_type": "markdown",
   "metadata": {},
   "source": [
    "_Use **?** to retrieve the docstring, just like with built-in functions_\n",
    "\n",
    "```python\n",
    "concatenator?\n",
    "```"
   ]
  },
  {
   "cell_type": "code",
   "execution_count": 4,
   "metadata": {},
   "outputs": [
    {
     "name": "stdout",
     "output_type": "stream",
     "text": [
      "\u001b[0;31mSignature:\u001b[0m \u001b[0mconcatenator\u001b[0m\u001b[0;34m(\u001b[0m\u001b[0mstring1\u001b[0m\u001b[0;34m,\u001b[0m \u001b[0mstring2\u001b[0m\u001b[0;34m)\u001b[0m\u001b[0;34m\u001b[0m\u001b[0;34m\u001b[0m\u001b[0m\n",
      "\u001b[0;31mDocstring:\u001b[0m\n",
      "combines two strings, separated by a space\n",
      "\n",
      "Args:\n",
      "    string1 (str): string to put before space\n",
      "    string2 (str): string to put after space\n",
      "\n",
      "Returns: \n",
      "    str: string1 and string2 separated by a space\n",
      "\u001b[0;31mFile:\u001b[0m      /var/folders/bq/ykg85zb53szcclzhm6rr_hch0000gn/T/ipykernel_16562/4120216956.py\n",
      "\u001b[0;31mType:\u001b[0m      function"
     ]
    }
   ],
   "source": [
    "concatenator?"
   ]
  },
  {
   "attachments": {},
   "cell_type": "markdown",
   "metadata": {},
   "source": [
    "### Practice"
   ]
  },
  {
   "cell_type": "code",
   "execution_count": 1,
   "metadata": {},
   "outputs": [],
   "source": [
    "item_ratings = [\n",
    "    ['5 stars', '1 star', '3 stars'],\n",
    "    ['5 stars', '4 stars'],\n",
    "    ['4 stars', '2 stars'],\n",
    "    ['1 star']\n",
    "]"
   ]
  },
  {
   "cell_type": "code",
   "execution_count": 5,
   "metadata": {},
   "outputs": [],
   "source": [
    "def rating_cleaner(rating):\n",
    "    \"\"\"gets numeric portion from web rating\n",
    "\n",
    "    Args:\n",
    "        rating (str): text rating from web\n",
    "\n",
    "    Returns:\n",
    "        int: integer portion of rating\n",
    "    \"\"\"\n",
    "    numeric_rating = int(rating[0])\n",
    "    return numeric_rating"
   ]
  },
  {
   "cell_type": "code",
   "execution_count": 6,
   "metadata": {},
   "outputs": [
    {
     "data": {
      "text/plain": [
       "5"
      ]
     },
     "execution_count": 6,
     "metadata": {},
     "output_type": "execute_result"
    }
   ],
   "source": [
    "rating_cleaner('5 stars')"
   ]
  },
  {
   "cell_type": "code",
   "execution_count": 7,
   "metadata": {},
   "outputs": [
    {
     "name": "stdout",
     "output_type": "stream",
     "text": [
      "5\n",
      "1\n",
      "3\n",
      "5\n",
      "4\n",
      "4\n",
      "2\n",
      "1\n"
     ]
    }
   ],
   "source": [
    "for item in item_ratings:\n",
    "    for rating in item:\n",
    "        print(rating_cleaner(rating))"
   ]
  },
  {
   "cell_type": "code",
   "execution_count": 8,
   "metadata": {},
   "outputs": [
    {
     "name": "stdout",
     "output_type": "stream",
     "text": [
      "\u001b[0;31mSignature:\u001b[0m \u001b[0mrating_cleaner\u001b[0m\u001b[0;34m(\u001b[0m\u001b[0mrating\u001b[0m\u001b[0;34m)\u001b[0m\u001b[0;34m\u001b[0m\u001b[0;34m\u001b[0m\u001b[0m\n",
      "\u001b[0;31mDocstring:\u001b[0m\n",
      "gets numeric portion from web rating\n",
      "\n",
      "Args:\n",
      "    rating (str): text rating from web\n",
      "\n",
      "Returns:\n",
      "    int: integer portion of rating\n",
      "\u001b[0;31mFile:\u001b[0m      /var/folders/bq/ykg85zb53szcclzhm6rr_hch0000gn/T/ipykernel_16620/1919160544.py\n",
      "\u001b[0;31mType:\u001b[0m      function"
     ]
    }
   ],
   "source": [
    "rating_cleaner?"
   ]
  }
 ],
 "metadata": {
  "kernelspec": {
   "display_name": "data--n9soBp0",
   "language": "python",
   "name": "python3"
  },
  "language_info": {
   "codemirror_mode": {
    "name": "ipython",
    "version": 3
   },
   "file_extension": ".py",
   "mimetype": "text/x-python",
   "name": "python",
   "nbconvert_exporter": "python",
   "pygments_lexer": "ipython3",
   "version": "3.10.11"
  },
  "orig_nbformat": 4
 },
 "nbformat": 4,
 "nbformat_minor": 2
}
