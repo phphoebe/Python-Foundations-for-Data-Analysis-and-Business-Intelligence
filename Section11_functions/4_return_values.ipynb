{
 "cells": [
  {
   "attachments": {},
   "cell_type": "markdown",
   "metadata": {},
   "source": [
    "### RETURN VALUES"
   ]
  },
  {
   "attachments": {},
   "cell_type": "markdown",
   "metadata": {},
   "source": [
    "Functions can **return multiple values**\n",
    "\n",
    "* The values to return must be separated by commas\n",
    "\n",
    "* This return a tuple of the specified values"
   ]
  },
  {
   "cell_type": "code",
   "execution_count": 1,
   "metadata": {},
   "outputs": [],
   "source": [
    "def concatenantor(*words):\n",
    "    sentence = \"\"\n",
    "    for word in words:\n",
    "        sentence += word + \" \"\n",
    "    last_word = words[-1]\n",
    "    return sentence.rstrip(), last_word"
   ]
  },
  {
   "cell_type": "code",
   "execution_count": 2,
   "metadata": {},
   "outputs": [
    {
     "data": {
      "text/plain": [
       "('Hello World! How are you?', 'you?')"
      ]
     },
     "execution_count": 2,
     "metadata": {},
     "output_type": "execute_result"
    }
   ],
   "source": [
    "concatenantor('Hello', 'World!', 'How', 'are', 'you?')"
   ]
  },
  {
   "attachments": {},
   "cell_type": "markdown",
   "metadata": {},
   "source": [
    "You can unpack the tuple into variables during the function call"
   ]
  },
  {
   "cell_type": "code",
   "execution_count": 3,
   "metadata": {},
   "outputs": [
    {
     "name": "stdout",
     "output_type": "stream",
     "text": [
      "Hello World! How are you?\n",
      "you?\n"
     ]
    }
   ],
   "source": [
    "# The variable 'sentence' is assigned to the first element returned in the tuple\n",
    "# so if the order was switched, it would store 'you?'\n",
    "\n",
    "sentence, last_word = concatenantor('Hello', 'World!', 'How', 'are', 'you?')\n",
    "\n",
    "print(sentence)\n",
    "print(last_word)"
   ]
  },
  {
   "attachments": {},
   "cell_type": "markdown",
   "metadata": {},
   "source": [
    "Functions can return multiple values as **other types of iterables** as well "
   ]
  },
  {
   "cell_type": "code",
   "execution_count": 4,
   "metadata": {},
   "outputs": [],
   "source": [
    "# Wrap the comma-separated return values in squre brackets to return them inside a list\n",
    "\n",
    "def concatenantor(*words):\n",
    "    sentence = \"\"\n",
    "    for word in words:\n",
    "        sentence += word + ' '\n",
    "    last_word = words[-1]\n",
    "    return [sentence.rstrip(), last_word]"
   ]
  },
  {
   "cell_type": "code",
   "execution_count": 5,
   "metadata": {},
   "outputs": [
    {
     "data": {
      "text/plain": [
       "['Hello World! How are you?', 'you?']"
      ]
     },
     "execution_count": 5,
     "metadata": {},
     "output_type": "execute_result"
    }
   ],
   "source": [
    "concatenantor('Hello', 'World!', 'How', 'are', 'you?')"
   ]
  },
  {
   "attachments": {},
   "cell_type": "markdown",
   "metadata": {},
   "source": [
    "Or use dictionary notation to create a dictionary (this could be useful as input for another function)"
   ]
  },
  {
   "cell_type": "code",
   "execution_count": 6,
   "metadata": {},
   "outputs": [
    {
     "data": {
      "text/plain": [
       "{'Hello World! How are you?': 'you?'}"
      ]
     },
     "execution_count": 6,
     "metadata": {},
     "output_type": "execute_result"
    }
   ],
   "source": [
    "def concatenantor(*words):\n",
    "    sentence = \"\"\n",
    "    for word in words:\n",
    "        sentence += word + ' '\n",
    "    last_word = words[-1]\n",
    "    return {sentence.rstrip(): last_word}\n",
    "\n",
    "concatenantor('Hello', 'World!', 'How', 'are', 'you?')"
   ]
  },
  {
   "attachments": {},
   "cell_type": "markdown",
   "metadata": {},
   "source": [
    "### Practice"
   ]
  },
  {
   "cell_type": "code",
   "execution_count": 1,
   "metadata": {},
   "outputs": [],
   "source": [
    "website_ratings = [\"5 stars\", \"4 stars\", \"3 stars\"]"
   ]
  },
  {
   "cell_type": "code",
   "execution_count": 2,
   "metadata": {},
   "outputs": [],
   "source": [
    "def rating_cleaner(rating):\n",
    "    numeric_rating = int(rating[0])\n",
    "    return numeric_rating"
   ]
  },
  {
   "cell_type": "code",
   "execution_count": 3,
   "metadata": {},
   "outputs": [
    {
     "data": {
      "text/plain": [
       "5"
      ]
     },
     "execution_count": 3,
     "metadata": {},
     "output_type": "execute_result"
    }
   ],
   "source": [
    "rating_cleaner(website_ratings[0])"
   ]
  },
  {
   "cell_type": "code",
   "execution_count": 4,
   "metadata": {},
   "outputs": [],
   "source": [
    "# return both the original rating and the numeric rating\n",
    "\n",
    "def rating_cleaner(rating):\n",
    "    numeric_rating = int(rating[0])\n",
    "    return rating, numeric_rating"
   ]
  },
  {
   "cell_type": "code",
   "execution_count": 5,
   "metadata": {},
   "outputs": [
    {
     "data": {
      "text/plain": [
       "('5 stars', 5)"
      ]
     },
     "execution_count": 5,
     "metadata": {},
     "output_type": "execute_result"
    }
   ],
   "source": [
    "rating_cleaner(website_ratings[0])"
   ]
  },
  {
   "cell_type": "code",
   "execution_count": 6,
   "metadata": {},
   "outputs": [],
   "source": [
    "# return this as a list\n",
    "\n",
    "def rating_cleaner(rating):\n",
    "    numeric_rating = int(rating[0])\n",
    "    return [rating, numeric_rating]"
   ]
  },
  {
   "cell_type": "code",
   "execution_count": 7,
   "metadata": {},
   "outputs": [
    {
     "data": {
      "text/plain": [
       "['5 stars', 5]"
      ]
     },
     "execution_count": 7,
     "metadata": {},
     "output_type": "execute_result"
    }
   ],
   "source": [
    "rating_cleaner(website_ratings[0])"
   ]
  },
  {
   "cell_type": "code",
   "execution_count": 8,
   "metadata": {},
   "outputs": [],
   "source": [
    "# return this as a dictionary (need to specify key-value pairs)\n",
    "\n",
    "def rating_cleaner(rating):\n",
    "    numeric_rating = int(rating[0])\n",
    "    return {rating: numeric_rating}"
   ]
  },
  {
   "cell_type": "code",
   "execution_count": 9,
   "metadata": {},
   "outputs": [
    {
     "data": {
      "text/plain": [
       "{'5 stars': 5}"
      ]
     },
     "execution_count": 9,
     "metadata": {},
     "output_type": "execute_result"
    }
   ],
   "source": [
    "rating_cleaner(website_ratings[0])"
   ]
  },
  {
   "attachments": {},
   "cell_type": "markdown",
   "metadata": {},
   "source": [
    "* unpacking outputs of functions"
   ]
  },
  {
   "cell_type": "code",
   "execution_count": 11,
   "metadata": {},
   "outputs": [],
   "source": [
    "def rating_cleaner(rating):\n",
    "    numeric_rating = int(rating[0])\n",
    "    return rating, numeric_rating"
   ]
  },
  {
   "cell_type": "code",
   "execution_count": 12,
   "metadata": {},
   "outputs": [],
   "source": [
    "rating, numberic_rating = rating_cleaner(website_ratings[0])"
   ]
  },
  {
   "cell_type": "code",
   "execution_count": 13,
   "metadata": {},
   "outputs": [
    {
     "name": "stdout",
     "output_type": "stream",
     "text": [
      "5 stars\n"
     ]
    }
   ],
   "source": [
    "print(rating)"
   ]
  },
  {
   "cell_type": "code",
   "execution_count": 14,
   "metadata": {},
   "outputs": [
    {
     "name": "stdout",
     "output_type": "stream",
     "text": [
      "5\n"
     ]
    }
   ],
   "source": [
    "print(numberic_rating)"
   ]
  }
 ],
 "metadata": {
  "kernelspec": {
   "display_name": "data--n9soBp0",
   "language": "python",
   "name": "python3"
  },
  "language_info": {
   "codemirror_mode": {
    "name": "ipython",
    "version": 3
   },
   "file_extension": ".py",
   "mimetype": "text/x-python",
   "name": "python",
   "nbconvert_exporter": "python",
   "pygments_lexer": "ipython3",
   "version": "3.10.11"
  },
  "orig_nbformat": 4
 },
 "nbformat": 4,
 "nbformat_minor": 2
}
