{
 "cells": [
  {
   "attachments": {},
   "cell_type": "markdown",
   "metadata": {},
   "source": [
    "## LAMBDA FUNCTIONS"
   ]
  },
  {
   "attachments": {},
   "cell_type": "markdown",
   "metadata": {},
   "source": [
    "**Lambda functions** are single line, anonymous functions that are only used briefly\n",
    "```python\n",
    "lambda arguments: expression\n",
    "```"
   ]
  },
  {
   "cell_type": "code",
   "execution_count": 3,
   "metadata": {},
   "outputs": [
    {
     "data": {
      "text/plain": [
       "9"
      ]
     },
     "execution_count": 3,
     "metadata": {},
     "output_type": "execute_result"
    }
   ],
   "source": [
    "# Lambda functions can be called on a single value, but typically aren't used for this \n",
    "\n",
    "(lambda x: x**2)(3)"
   ]
  },
  {
   "cell_type": "code",
   "execution_count": null,
   "metadata": {},
   "outputs": [],
   "source": [
    "# They cannot have multiple outputs on expressions \n",
    "\n",
    "(lambda x: x**2, x**3)(3)\n",
    "\n",
    "# NameError "
   ]
  },
  {
   "cell_type": "code",
   "execution_count": 5,
   "metadata": {},
   "outputs": [
    {
     "data": {
      "text/plain": [
       "1.2"
      ]
     },
     "execution_count": 5,
     "metadata": {},
     "output_type": "execute_result"
    }
   ],
   "source": [
    "# They can take multiple arguments and leverage conditional logic \n",
    "\n",
    "(lambda x, y: x * y if y > 5 else x / y)(6, 5)"
   ]
  },
  {
   "cell_type": "code",
   "execution_count": 6,
   "metadata": {},
   "outputs": [
    {
     "data": {
      "text/plain": [
       "[5.27, 17.59, 21.99, 0.0, 65.99, 87.99]"
      ]
     },
     "execution_count": 6,
     "metadata": {},
     "output_type": "execute_result"
    }
   ],
   "source": [
    "# They are usually leveraged in combination with a function like map() or in a comprehension\n",
    "\n",
    "price_list = [5.99, 19.99, 24.99, 0, 74.99, 99.99]\n",
    "exchange_rate = 0.88\n",
    "\n",
    "converted = map(lambda x: round(x * exchange_rate, 2), price_list)\n",
    "list(converted)"
   ]
  }
 ],
 "metadata": {
  "kernelspec": {
   "display_name": "data--n9soBp0",
   "language": "python",
   "name": "python3"
  },
  "language_info": {
   "codemirror_mode": {
    "name": "ipython",
    "version": 3
   },
   "file_extension": ".py",
   "mimetype": "text/x-python",
   "name": "python",
   "nbconvert_exporter": "python",
   "pygments_lexer": "ipython3",
   "version": "3.10.11"
  },
  "orig_nbformat": 4
 },
 "nbformat": 4,
 "nbformat_minor": 2
}
