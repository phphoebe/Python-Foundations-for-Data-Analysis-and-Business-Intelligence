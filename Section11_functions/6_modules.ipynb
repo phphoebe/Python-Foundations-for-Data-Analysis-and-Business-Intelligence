{
 "cells": [
  {
   "attachments": {},
   "cell_type": "markdown",
   "metadata": {},
   "source": [
    "## MODULES"
   ]
  },
  {
   "attachments": {},
   "cell_type": "markdown",
   "metadata": {},
   "source": [
    "### CREATING MODULES\n",
    "\n",
    "To save your functions, **create a module** in Jupyter by using the `%%writefile` magic command and the `.py` extension"
   ]
  },
  {
   "attachments": {},
   "cell_type": "markdown",
   "metadata": {},
   "source": [
    "This creates a Python module that you can import functions from \n",
    "\n",
    "* Follow `%%writefile` with the name of the file and the `.py` extension\n",
    "\n",
    "* By default, the `.py` file is stored in the same folder as the notebook\n",
    "\n",
    "* You can share functions easily by sending this file to a friend or a colleague!"
   ]
  },
  {
   "cell_type": "code",
   "execution_count": 1,
   "metadata": {},
   "outputs": [
    {
     "name": "stdout",
     "output_type": "stream",
     "text": [
      "Writing saved_functions.py\n"
     ]
    }
   ],
   "source": [
    "%%writefile saved_functions.py\n",
    "\n",
    "def concatenantor(*words):\n",
    "    sentence = ''\n",
    "    for word in words:\n",
    "        sentence += word + ' '\n",
    "    last_word = words[-1]\n",
    "    return sentence.rstrip(), last_word"
   ]
  },
  {
   "attachments": {},
   "cell_type": "markdown",
   "metadata": {},
   "source": [
    "Multiple functions can be saved to the same module "
   ]
  },
  {
   "cell_type": "code",
   "execution_count": 2,
   "metadata": {},
   "outputs": [
    {
     "name": "stdout",
     "output_type": "stream",
     "text": [
      "Overwriting saved_functions.py\n"
     ]
    }
   ],
   "source": [
    "%%writefile saved_functions.py\n",
    "\n",
    "def concatenantor(*words):\n",
    "    sentence = ''\n",
    "    for word in words:\n",
    "        sentence += word + ' '\n",
    "    last_word = words[-1]\n",
    "    return sentence.rstrip(), last_word\n",
    "\n",
    "def multiplier(num1, num2):\n",
    "    return num1 * num2"
   ]
  },
  {
   "attachments": {},
   "cell_type": "markdown",
   "metadata": {},
   "source": [
    "### IMPORTING MODULES"
   ]
  },
  {
   "attachments": {},
   "cell_type": "markdown",
   "metadata": {},
   "source": [
    "To **import saved functions**, you can either import the entire module or import specific functions from the module "
   ]
  },
  {
   "attachments": {},
   "cell_type": "markdown",
   "metadata": {},
   "source": [
    "```python\n",
    "import module\n",
    "```\n",
    "reads in external Python modules\n",
    "\n",
    "_If you import the entire module, you need to reference it when calling its functions, in the form of **module.function()**_"
   ]
  },
  {
   "cell_type": "code",
   "execution_count": 3,
   "metadata": {},
   "outputs": [
    {
     "data": {
      "text/plain": [
       "('Hello World!', 'World!')"
      ]
     },
     "execution_count": 3,
     "metadata": {},
     "output_type": "execute_result"
    }
   ],
   "source": [
    "import saved_functions\n",
    "\n",
    "saved_functions.concatenantor('Hello', 'World!')"
   ]
  },
  {
   "cell_type": "code",
   "execution_count": 4,
   "metadata": {},
   "outputs": [
    {
     "data": {
      "text/plain": [
       "50"
      ]
     },
     "execution_count": 4,
     "metadata": {},
     "output_type": "execute_result"
    }
   ],
   "source": [
    "import saved_functions\n",
    "\n",
    "saved_functions.multiplier(5, 10)"
   ]
  },
  {
   "attachments": {},
   "cell_type": "markdown",
   "metadata": {},
   "source": [
    "```python\n",
    "from module import function\n",
    "```\n",
    "imports specific functions from modules \n",
    "\n",
    "_By importing specific functions, you don't need to reference the entire module name when calling a function_\n",
    "\n",
    "**!!! This method can lead to **naming conflicts** if another object has the same name**"
   ]
  },
  {
   "cell_type": "code",
   "execution_count": 5,
   "metadata": {},
   "outputs": [
    {
     "data": {
      "text/plain": [
       "('Hello World!', 'World!')"
      ]
     },
     "execution_count": 5,
     "metadata": {},
     "output_type": "execute_result"
    }
   ],
   "source": [
    "from saved_functions import concatenantor, multiplier\n",
    "\n",
    "concatenantor('Hello', 'World!')"
   ]
  },
  {
   "cell_type": "code",
   "execution_count": 6,
   "metadata": {},
   "outputs": [
    {
     "data": {
      "text/plain": [
       "50"
      ]
     },
     "execution_count": 6,
     "metadata": {},
     "output_type": "execute_result"
    }
   ],
   "source": [
    "multiplier(5, 10)"
   ]
  },
  {
   "attachments": {},
   "cell_type": "markdown",
   "metadata": {},
   "source": [
    "### Practice"
   ]
  },
  {
   "cell_type": "code",
   "execution_count": 1,
   "metadata": {},
   "outputs": [],
   "source": [
    "def rating_cleaner(rating):\n",
    "    \"\"\"gets numeric portion from web rating\n",
    "\n",
    "    Args:\n",
    "        rating (str): text rating from web\n",
    "\n",
    "    Returns:\n",
    "        int: integer portion of rating \n",
    "    \"\"\"\n",
    "\n",
    "    numeric_rating = int(rating[0])\n",
    "    return numeric_rating\n",
    "\n",
    "def rating_list_cleaner(rating_list):\n",
    "    \"\"\"cleans lists of ratings and returns numeric ratings lists\n",
    "\n",
    "    Args:\n",
    "        rating_list (list): list of text ratings \n",
    "\n",
    "    Returns:\n",
    "        list: list of integer ratings\n",
    "    \"\"\"\n",
    "\n",
    "    numeric_list = []\n",
    "    for rating in rating_list:\n",
    "        numeric_rating = rating_cleaner(rating)\n",
    "        numeric_list.append(numeric_rating)\n",
    "    return numeric_list"
   ]
  },
  {
   "cell_type": "code",
   "execution_count": 2,
   "metadata": {},
   "outputs": [],
   "source": [
    "website_ratings = [\"5 stars\", \"4 stars\", \"3 stars\"]"
   ]
  },
  {
   "cell_type": "code",
   "execution_count": 3,
   "metadata": {},
   "outputs": [
    {
     "data": {
      "text/plain": [
       "5"
      ]
     },
     "execution_count": 3,
     "metadata": {},
     "output_type": "execute_result"
    }
   ],
   "source": [
    "rating_cleaner(website_ratings[0])"
   ]
  },
  {
   "cell_type": "code",
   "execution_count": 4,
   "metadata": {},
   "outputs": [
    {
     "data": {
      "text/plain": [
       "[5, 4, 3]"
      ]
     },
     "execution_count": 4,
     "metadata": {},
     "output_type": "execute_result"
    }
   ],
   "source": [
    "rating_list_cleaner(website_ratings)"
   ]
  },
  {
   "attachments": {},
   "cell_type": "markdown",
   "metadata": {},
   "source": [
    "Create a module and package this up\n"
   ]
  },
  {
   "cell_type": "code",
   "execution_count": 5,
   "metadata": {},
   "outputs": [
    {
     "name": "stdout",
     "output_type": "stream",
     "text": [
      "Writing rating_cleaner.py\n"
     ]
    }
   ],
   "source": [
    "%%writefile rating_cleaner.py\n",
    "\n",
    "def rating_cleaner(rating):\n",
    "    \"\"\"gets numeric portion from web rating\n",
    "\n",
    "    Args:\n",
    "        rating (str): text rating from web\n",
    "\n",
    "    Returns:\n",
    "        int: integer portion of rating \n",
    "    \"\"\"\n",
    "\n",
    "    numeric_rating = int(rating[0])\n",
    "    return numeric_rating\n",
    "\n",
    "def rating_list_cleaner(rating_list):\n",
    "    \"\"\"cleans lists of ratings and returns numeric ratings lists\n",
    "\n",
    "    Args:\n",
    "        rating_list (list): list of text ratings \n",
    "\n",
    "    Returns:\n",
    "        list: list of integer ratings\n",
    "    \"\"\"\n",
    "\n",
    "    numeric_list = []\n",
    "    for rating in rating_list:\n",
    "        numeric_rating = rating_cleaner(rating)\n",
    "        numeric_list.append(numeric_rating)\n",
    "    return numeric_list"
   ]
  },
  {
   "cell_type": "code",
   "execution_count": 5,
   "metadata": {},
   "outputs": [],
   "source": [
    "import rating_cleaner as r "
   ]
  },
  {
   "cell_type": "code",
   "execution_count": 6,
   "metadata": {},
   "outputs": [],
   "source": [
    "website_ratings = [\"5 stars\", \"4 stars\", \"3 stars\"]"
   ]
  },
  {
   "cell_type": "code",
   "execution_count": 7,
   "metadata": {},
   "outputs": [
    {
     "data": {
      "text/plain": [
       "5"
      ]
     },
     "execution_count": 7,
     "metadata": {},
     "output_type": "execute_result"
    }
   ],
   "source": [
    "r.rating_cleaner(website_ratings[0])"
   ]
  },
  {
   "cell_type": "code",
   "execution_count": 8,
   "metadata": {},
   "outputs": [
    {
     "data": {
      "text/plain": [
       "[5, 4, 3]"
      ]
     },
     "execution_count": 8,
     "metadata": {},
     "output_type": "execute_result"
    }
   ],
   "source": [
    "r.rating_list_cleaner(website_ratings)"
   ]
  },
  {
   "cell_type": "code",
   "execution_count": 9,
   "metadata": {},
   "outputs": [],
   "source": [
    "from rating_cleaner import rating_list_cleaner"
   ]
  },
  {
   "cell_type": "code",
   "execution_count": 10,
   "metadata": {},
   "outputs": [
    {
     "data": {
      "text/plain": [
       "[5, 4, 3]"
      ]
     },
     "execution_count": 10,
     "metadata": {},
     "output_type": "execute_result"
    }
   ],
   "source": [
    "rating_list_cleaner(website_ratings)"
   ]
  }
 ],
 "metadata": {
  "kernelspec": {
   "display_name": "data--n9soBp0",
   "language": "python",
   "name": "python3"
  },
  "language_info": {
   "codemirror_mode": {
    "name": "ipython",
    "version": 3
   },
   "file_extension": ".py",
   "mimetype": "text/x-python",
   "name": "python",
   "nbconvert_exporter": "python",
   "pygments_lexer": "ipython3",
   "version": "3.10.11"
  },
  "orig_nbformat": 4
 },
 "nbformat": 4,
 "nbformat_minor": 2
}
