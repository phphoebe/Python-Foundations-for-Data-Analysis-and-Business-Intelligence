{
 "cells": [
  {
   "attachments": {},
   "cell_type": "markdown",
   "metadata": {},
   "source": [
    "## VARIABLE SCOPE"
   ]
  },
  {
   "attachments": {},
   "cell_type": "markdown",
   "metadata": {},
   "source": [
    "The **variable scope** is the region of the code where the variable was assigned \n",
    "\n",
    "1. **Local scope** - variables created inside of a function \n",
    "    * _These cannot be referenced outside of the function_\n",
    "2. **Global scope** - variables created outside of a function \n",
    "    * _These can be referenced outside of the function_"
   ]
  },
  {
   "cell_type": "code",
   "execution_count": 1,
   "metadata": {},
   "outputs": [
    {
     "ename": "NameError",
     "evalue": "name 'sentence' is not defined",
     "output_type": "error",
     "traceback": [
      "\u001b[0;31m---------------------------------------------------------------------------\u001b[0m",
      "\u001b[0;31mNameError\u001b[0m                                 Traceback (most recent call last)",
      "Cell \u001b[0;32mIn[1], line 13\u001b[0m\n\u001b[1;32m     10\u001b[0m     \u001b[39mreturn\u001b[39;00m sentence\u001b[39m.\u001b[39mrstrip(), last_word\n\u001b[1;32m     12\u001b[0m concatenantor(\u001b[39m'\u001b[39m\u001b[39mHello\u001b[39m\u001b[39m'\u001b[39m, \u001b[39m'\u001b[39m\u001b[39mworld!\u001b[39m\u001b[39m'\u001b[39m, \u001b[39m'\u001b[39m\u001b[39mHow\u001b[39m\u001b[39m'\u001b[39m, \u001b[39m'\u001b[39m\u001b[39mare\u001b[39m\u001b[39m'\u001b[39m, \u001b[39m'\u001b[39m\u001b[39myou?\u001b[39m\u001b[39m'\u001b[39m)\n\u001b[0;32m---> 13\u001b[0m \u001b[39mprint\u001b[39m(sentence)\n",
      "\u001b[0;31mNameError\u001b[0m: name 'sentence' is not defined"
     ]
    }
   ],
   "source": [
    "# Since the variable 'sentence' is assigned inside of the concatenantor function, it has local scope \n",
    "\n",
    "# Trying to print this variable outside of the function will then return a NameError\n",
    "\n",
    "def concatenantor(*words):\n",
    "    sentence = ''\n",
    "    for word in words:\n",
    "        sentence += word + ' '\n",
    "    last_word = words[-1]\n",
    "    return sentence.rstrip(), last_word\n",
    "\n",
    "concatenantor('Hello', 'world!', 'How', 'are', 'you?')\n",
    "print(sentence)"
   ]
  },
  {
   "attachments": {},
   "cell_type": "markdown",
   "metadata": {},
   "source": [
    "### CHANGING VARIABLE SCOPE\n",
    "\n",
    "You can **change variable scope** by using the _global_ keyword"
   ]
  },
  {
   "cell_type": "code",
   "execution_count": 2,
   "metadata": {},
   "outputs": [
    {
     "name": "stdout",
     "output_type": "stream",
     "text": [
      "Hello world! How are you? \n"
     ]
    }
   ],
   "source": [
    "# By declaring the variable 'sentence' as global, it is now recoganized outside of the function it was defined in\n",
    "def concatenantor(*words):\n",
    "    global sentence\n",
    "    sentence = ''\n",
    "    for word in words:\n",
    "        sentence += word + ' '\n",
    "    last_word = words[-1]\n",
    "    return sentence.rstrip(), last_word\n",
    "\n",
    "concatenantor('Hello', 'world!', 'How', 'are', 'you?')\n",
    "print(sentence)"
   ]
  },
  {
   "attachments": {},
   "cell_type": "markdown",
   "metadata": {},
   "source": [
    "Note that the variable must be declared as global _**before it is assigned a value**_, or you will receive a SyntaxError"
   ]
  },
  {
   "cell_type": "code",
   "execution_count": 3,
   "metadata": {},
   "outputs": [
    {
     "ename": "SyntaxError",
     "evalue": "name 'sentence' is assigned to before global declaration (2748989511.py, line 6)",
     "output_type": "error",
     "traceback": [
      "\u001b[0;36m  Cell \u001b[0;32mIn[3], line 6\u001b[0;36m\u001b[0m\n\u001b[0;31m    global sentence\u001b[0m\n\u001b[0m    ^\u001b[0m\n\u001b[0;31mSyntaxError\u001b[0m\u001b[0;31m:\u001b[0m name 'sentence' is assigned to before global declaration\n"
     ]
    }
   ],
   "source": [
    "def concatenantor(*words):\n",
    "    sentence = ''\n",
    "    for word in words:\n",
    "        sentence += word + ' '\n",
    "    last_word = words[-1]\n",
    "    global sentence\n",
    "    return sentence.rstrip(), last_word\n",
    "\n",
    "concatenantor('Hello', 'world!', 'How', 'are', 'you?')\n",
    "print(sentence)"
   ]
  },
  {
   "attachments": {},
   "cell_type": "markdown",
   "metadata": {},
   "source": [
    "### Practice"
   ]
  },
  {
   "cell_type": "code",
   "execution_count": 4,
   "metadata": {},
   "outputs": [],
   "source": [
    "website_ratings = [\"5 stars\", \"4 stars\", \"3 stars\"]"
   ]
  },
  {
   "cell_type": "code",
   "execution_count": 5,
   "metadata": {},
   "outputs": [],
   "source": [
    "def rating_cleaner(rating):\n",
    "    numeric_rating = int(rating[0])\n",
    "    return numeric_rating"
   ]
  },
  {
   "cell_type": "code",
   "execution_count": 6,
   "metadata": {},
   "outputs": [
    {
     "data": {
      "text/plain": [
       "5"
      ]
     },
     "execution_count": 6,
     "metadata": {},
     "output_type": "execute_result"
    }
   ],
   "source": [
    "rating_cleaner(website_ratings[0])"
   ]
  },
  {
   "cell_type": "code",
   "execution_count": 7,
   "metadata": {},
   "outputs": [
    {
     "ename": "NameError",
     "evalue": "name 'numeric_ratings' is not defined",
     "output_type": "error",
     "traceback": [
      "\u001b[0;31m---------------------------------------------------------------------------\u001b[0m",
      "\u001b[0;31mNameError\u001b[0m                                 Traceback (most recent call last)",
      "Cell \u001b[0;32mIn[7], line 1\u001b[0m\n\u001b[0;32m----> 1\u001b[0m numeric_ratings \n",
      "\u001b[0;31mNameError\u001b[0m: name 'numeric_ratings' is not defined"
     ]
    }
   ],
   "source": [
    "# numeric_rating is only defined within the scope of the function rating_cleaner\n",
    "\n",
    "numeric_ratings "
   ]
  },
  {
   "cell_type": "code",
   "execution_count": 11,
   "metadata": {},
   "outputs": [],
   "source": [
    "def rating_cleaner_new(rating):\n",
    "    global numeric_rating\n",
    "    numeric_rating = int(rating[0])\n",
    "    return numeric_rating"
   ]
  },
  {
   "cell_type": "code",
   "execution_count": 12,
   "metadata": {},
   "outputs": [
    {
     "data": {
      "text/plain": [
       "5"
      ]
     },
     "execution_count": 12,
     "metadata": {},
     "output_type": "execute_result"
    }
   ],
   "source": [
    "rating_cleaner_new(website_ratings[0])"
   ]
  },
  {
   "cell_type": "code",
   "execution_count": 13,
   "metadata": {},
   "outputs": [
    {
     "data": {
      "text/plain": [
       "5"
      ]
     },
     "execution_count": 13,
     "metadata": {},
     "output_type": "execute_result"
    }
   ],
   "source": [
    "numeric_rating"
   ]
  },
  {
   "cell_type": "code",
   "execution_count": 14,
   "metadata": {},
   "outputs": [],
   "source": [
    "# However, in general, we should avoid using global variables as much as possible\n",
    "# Instead, we could do the following - \n",
    "# put it in my return statement and assign it to a new variable explicitly\n",
    "\n",
    "def rating_cleaner(rating):\n",
    "    numeric_rating = int(rating[0])\n",
    "    return numeric_rating"
   ]
  },
  {
   "cell_type": "code",
   "execution_count": 15,
   "metadata": {},
   "outputs": [],
   "source": [
    "# call the function \n",
    "# store the value in a new variable called numeric_rating\n",
    "\n",
    "numeric_rating = rating_cleaner(website_ratings[0])"
   ]
  },
  {
   "cell_type": "code",
   "execution_count": 16,
   "metadata": {},
   "outputs": [
    {
     "data": {
      "text/plain": [
       "5"
      ]
     },
     "execution_count": 16,
     "metadata": {},
     "output_type": "execute_result"
    }
   ],
   "source": [
    "numeric_rating"
   ]
  }
 ],
 "metadata": {
  "kernelspec": {
   "display_name": "data--n9soBp0",
   "language": "python",
   "name": "python3"
  },
  "language_info": {
   "codemirror_mode": {
    "name": "ipython",
    "version": 3
   },
   "file_extension": ".py",
   "mimetype": "text/x-python",
   "name": "python",
   "nbconvert_exporter": "python",
   "pygments_lexer": "ipython3",
   "version": "3.10.11"
  },
  "orig_nbformat": 4
 },
 "nbformat": 4,
 "nbformat_minor": 2
}
