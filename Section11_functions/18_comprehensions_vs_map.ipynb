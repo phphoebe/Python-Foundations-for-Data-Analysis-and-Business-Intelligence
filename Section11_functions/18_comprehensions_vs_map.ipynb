{
 "cells": [
  {
   "attachments": {},
   "cell_type": "markdown",
   "metadata": {},
   "source": [
    "### COMPREHENSIONS VS MAP"
   ]
  },
  {
   "attachments": {},
   "cell_type": "markdown",
   "metadata": {},
   "source": [
    "Comprehensions, like map(), can apply functions to an entire sequence"
   ]
  },
  {
   "cell_type": "code",
   "execution_count": 1,
   "metadata": {},
   "outputs": [],
   "source": [
    "# Note that exchange_rate is a default argument equal to .88\n",
    "\n",
    "def currency_converter(price, exchange_rate=.88):\n",
    "    return round(float(price) * exchange_rate, 2)"
   ]
  },
  {
   "cell_type": "code",
   "execution_count": 2,
   "metadata": {},
   "outputs": [],
   "source": [
    "# Here, in both the comprehension and map(), \n",
    "# price_list is being passed as a positional argument to the currency_converter() function,\n",
    "# and the default exchange_rate is being applied\n",
    "\n",
    "price_list = [5.99, 19.99, 24.99, 0, 74.99, 99.99]"
   ]
  },
  {
   "cell_type": "code",
   "execution_count": 3,
   "metadata": {},
   "outputs": [
    {
     "data": {
      "text/plain": [
       "[5.27, 17.59, 21.99, 0.0, 65.99, 87.99]"
      ]
     },
     "execution_count": 3,
     "metadata": {},
     "output_type": "execute_result"
    }
   ],
   "source": [
    "[currency_converter(price) for price in price_list ]"
   ]
  },
  {
   "cell_type": "code",
   "execution_count": 4,
   "metadata": {},
   "outputs": [
    {
     "data": {
      "text/plain": [
       "[5.27, 17.59, 21.99, 0.0, 65.99, 87.99]"
      ]
     },
     "execution_count": 4,
     "metadata": {},
     "output_type": "execute_result"
    }
   ],
   "source": [
    "list(map(currency_converter, price_list))"
   ]
  },
  {
   "attachments": {},
   "cell_type": "markdown",
   "metadata": {},
   "source": [
    "_**But what if I want to change the exchange rate?**_"
   ]
  },
  {
   "cell_type": "code",
   "execution_count": 6,
   "metadata": {},
   "outputs": [
    {
     "data": {
      "text/plain": [
       "[5.09, 16.99, 21.24, 0.0, 63.74, 84.99]"
      ]
     },
     "execution_count": 6,
     "metadata": {},
     "output_type": "execute_result"
    }
   ],
   "source": [
    "# In the comphrension, the exchange_rate argument is easy to specify \n",
    "\n",
    "price_list = [5.99, 19.99, 24.99, 0, 74.99, 99.99]\n",
    "\n",
    "[currency_converter(price, exchange_rate=.85) for price in price_list]"
   ]
  },
  {
   "cell_type": "code",
   "execution_count": 7,
   "metadata": {},
   "outputs": [
    {
     "data": {
      "text/plain": [
       "[5.09, 16.99, 21.24, 0.0, 63.74, 84.99]"
      ]
     },
     "execution_count": 7,
     "metadata": {},
     "output_type": "execute_result"
    }
   ],
   "source": [
    "# To do so with map(), you need to create a partial function\n",
    "# (outside the course scope)\n",
    "\n",
    "import functools\n",
    "list(map(functools.partial(currency_converter, exchange_rate=.85), price_list))"
   ]
  },
  {
   "attachments": {},
   "cell_type": "markdown",
   "metadata": {},
   "source": [
    "```\n",
    "In general, both methods provide an efficient way to apply a function to a list - \n",
    "Comprehensions are usually preferred, as they are more efficient and highly readable, \n",
    "but there will be instances when using map with lambda is preferred \n",
    "(like manipulating a Pandas Column)\n",
    "\n",
    "You may prefer not to use comprehensions for particularly complex logic \n",
    "(nested loops, multiple sequences, lots of conditions), \n",
    "but for most use cases comprehensions are a best practice for creating new sequences based off others.\n",
    "```"
   ]
  }
 ],
 "metadata": {
  "kernelspec": {
   "display_name": "Python 3",
   "language": "python",
   "name": "python3"
  },
  "language_info": {
   "codemirror_mode": {
    "name": "ipython",
    "version": 3
   },
   "file_extension": ".py",
   "mimetype": "text/x-python",
   "name": "python",
   "nbconvert_exporter": "python",
   "pygments_lexer": "ipython3",
   "version": "3.10.11"
  },
  "orig_nbformat": 4
 },
 "nbformat": 4,
 "nbformat_minor": 2
}
