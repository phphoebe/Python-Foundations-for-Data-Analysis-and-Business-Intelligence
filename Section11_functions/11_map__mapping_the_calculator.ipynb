{
 "cells": [
  {
   "attachments": {},
   "cell_type": "markdown",
   "id": "f2dfb940",
   "metadata": {},
   "source": [
    "### Mapping the tax calculator\n",
    "\n",
    "Now that we've successfully got our tax calculator working, can you apply it to the subtotals below?\n",
    "\n",
    "Should be quick! Thanks!\n",
    "\n",
    "P.S. Don't use a loop!"
   ]
  },
  {
   "cell_type": "code",
   "execution_count": 1,
   "id": "420bf3a9",
   "metadata": {},
   "outputs": [
    {
     "data": {
      "text/plain": [
       "[[1799.94, 108.0, 1907.94],\n",
       " [99.99, 6.0, 105.99],\n",
       " [254.95, 15.3, 270.25],\n",
       " [29.98, 1.8, 31.78],\n",
       " [99.99, 6.0, 105.99]]"
      ]
     },
     "execution_count": 1,
     "metadata": {},
     "output_type": "execute_result"
    }
   ],
   "source": [
    "from tax_calculator import tax_calculator\n",
    "\n",
    "subtotals = [1799.94, 99.99, 254.95, 29.98, 99.99]\n",
    "\n",
    "list(map(tax_calculator, subtotals))"
   ]
  },
  {
   "cell_type": "code",
   "execution_count": 1,
   "id": "8d0d3efb",
   "metadata": {},
   "outputs": [
    {
     "data": {
      "text/plain": [
       "[[1799.94, 108.0, 1907.94],\n",
       " [99.99, 6.0, 105.99],\n",
       " [254.95, 15.3, 270.25],\n",
       " [29.98, 1.8, 31.78],\n",
       " [99.99, 6.0, 105.99]]"
      ]
     },
     "execution_count": 1,
     "metadata": {},
     "output_type": "execute_result"
    }
   ],
   "source": [
    "import tax_calculator as tc\n",
    "\n",
    "subtotals = [1799.94, 99.99, 254.95, 29.98, 99.99]\n",
    "\n",
    "list(map(tc.tax_calculator, subtotals))"
   ]
  }
 ],
 "metadata": {
  "kernelspec": {
   "display_name": "Python 3 (ipykernel)",
   "language": "python",
   "name": "python3"
  },
  "language_info": {
   "codemirror_mode": {
    "name": "ipython",
    "version": 3
   },
   "file_extension": ".py",
   "mimetype": "text/x-python",
   "name": "python",
   "nbconvert_exporter": "python",
   "pygments_lexer": "ipython3",
   "version": "3.10.11"
  }
 },
 "nbformat": 4,
 "nbformat_minor": 5
}
