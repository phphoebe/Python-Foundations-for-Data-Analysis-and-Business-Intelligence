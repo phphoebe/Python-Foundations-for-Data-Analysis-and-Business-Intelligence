{
 "cells": [
  {
   "attachments": {},
   "cell_type": "markdown",
   "id": "15a7a09a",
   "metadata": {},
   "source": [
    "### Transaction Dictionary Creator\n",
    "\n",
    "Hi there, we need to make some final updates to our tax calculator function.\n",
    "\n",
    "We need a function takes a list of customer_ids, a list of subtotals, and a tax rate, that calls the tax_calculator on a list of subtotals, then returns a dictionary with customer_IDs as keys, and the lists returned from tax_calculator as the values.\n",
    "\n",
    "A dictionary comprehension would be very helpful here.\n",
    "\n",
    "Your function will need the following arguments:\n",
    "\n",
    "* customer_ids - a list of strings\n",
    "* subtotals - a list of numbers\n",
    "* tax_rate - the tax rate which will be passed to tax_calculator\n",
    "\n",
    "The output will be a dictionary with:\n",
    "\n",
    "* Customer IDs as keys\n",
    "* [subtotal, tax, total] as values\n",
    "\n"
   ]
  },
  {
   "cell_type": "code",
   "execution_count": 1,
   "id": "cd849cc8",
   "metadata": {},
   "outputs": [],
   "source": [
    "from tax_calculator import tax_calculator\n",
    "\n",
    "customer_ids = ['C00004', 'C00007', 'C00015', 'C00016', 'C00020', 'C00010']\n",
    "\n",
    "subtotals = [15.98, 899.97, 799.97, 117.96, 5.99, 599.99]"
   ]
  },
  {
   "cell_type": "code",
   "execution_count": 2,
   "id": "0b087eb8",
   "metadata": {},
   "outputs": [],
   "source": [
    "def transaction_dict_creator(customer_ids, subtotals, tax_rate):\n",
    "    \"\"\"\n",
    "    this function builds a dictionary with customer IDs and transaction info\n",
    "    \n",
    "    Args:\n",
    "        customer_ids (list): list of customer_ids\n",
    "        subtotals (list): list of subtotals\n",
    "        tax_rate (float): tax rate at store location.\n",
    "        \n",
    "    Returns:\n",
    "        dict: dictionary with customer_ids as keys, transaction info as values\n",
    "    \n",
    "    \"\"\"\n",
    "    customer_dict = {\n",
    "        customer_id: tax_calculator(subtotal, tax_rate)\n",
    "        for customer_id, subtotal in zip(customer_ids, subtotals)\n",
    "    }\n",
    "\n",
    "    return customer_dict"
   ]
  },
  {
   "cell_type": "code",
   "execution_count": 3,
   "id": "a2820944",
   "metadata": {},
   "outputs": [
    {
     "data": {
      "text/plain": [
       "{'C00004': [15.98, 1.28, 17.26],\n",
       " 'C00007': [899.97, 72.0, 971.97],\n",
       " 'C00015': [799.97, 64.0, 863.97],\n",
       " 'C00016': [117.96, 9.44, 127.4],\n",
       " 'C00020': [5.99, 0.48, 6.47],\n",
       " 'C00010': [599.99, 48.0, 647.99]}"
      ]
     },
     "execution_count": 3,
     "metadata": {},
     "output_type": "execute_result"
    }
   ],
   "source": [
    "transaction_dict_creator(customer_ids, subtotals, .08)"
   ]
  },
  {
   "cell_type": "code",
   "execution_count": 4,
   "id": "94c17fbd",
   "metadata": {},
   "outputs": [
    {
     "data": {
      "text/plain": [
       "{'C00004': [15.98, 1.28, 17.26],\n",
       " 'C00007': [899.97, 72.0, 971.97],\n",
       " 'C00015': [799.97, 64.0, 863.97],\n",
       " 'C00016': [117.96, 9.44, 127.4],\n",
       " 'C00020': [5.99, 0.48, 6.47],\n",
       " 'C00010': [599.99, 48.0, 647.99]}"
      ]
     },
     "execution_count": 4,
     "metadata": {},
     "output_type": "execute_result"
    }
   ],
   "source": [
    "# alternative comprehension with enumerate - not quite as clean,\n",
    "# because we're referring to an index but still works!\n",
    "\n",
    "customer_dict = {\n",
    "    customer_ids[i]: tax_calculator(subtotal, 0.08)\n",
    "    for i, subtotal in enumerate(subtotals)\n",
    "}\n",
    "\n",
    "customer_dict"
   ]
  }
 ],
 "metadata": {
  "kernelspec": {
   "display_name": "Python 3 (ipykernel)",
   "language": "python",
   "name": "python3"
  },
  "language_info": {
   "codemirror_mode": {
    "name": "ipython",
    "version": 3
   },
   "file_extension": ".py",
   "mimetype": "text/x-python",
   "name": "python",
   "nbconvert_exporter": "python",
   "pygments_lexer": "ipython3",
   "version": "3.10.11"
  }
 },
 "nbformat": 4,
 "nbformat_minor": 5
}
