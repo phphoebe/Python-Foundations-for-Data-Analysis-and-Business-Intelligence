{
 "cells": [
  {
   "attachments": {},
   "cell_type": "markdown",
   "metadata": {},
   "source": [
    "### DICTIONARY COMPREHENSIONS"
   ]
  },
  {
   "attachments": {},
   "cell_type": "markdown",
   "metadata": {},
   "source": [
    "Comprehensions can also **create dictionaries** from other iterables"
   ]
  },
  {
   "attachments": {},
   "cell_type": "markdown",
   "metadata": {},
   "source": [
    "Syntax:\n",
    "\n",
    "```python\n",
    "new_dict = {key: value for key, value in other_iterable(if condition)}\n",
    "```\n",
    "\n",
    "* key & value - these can be expressions (including function calls!)"
   ]
  },
  {
   "attachments": {},
   "cell_type": "markdown",
   "metadata": {},
   "source": [
    "#### EXAMPLE"
   ]
  },
  {
   "attachments": {},
   "cell_type": "markdown",
   "metadata": {},
   "source": [
    "_Creating a dictionary of inventory costs per item (stock quantity * price)_"
   ]
  },
  {
   "attachments": {},
   "cell_type": "markdown",
   "metadata": {},
   "source": [
    "* This is creating a dictionary by using _**items**_ as keys, and the product of _**status[0]**_ and _**status[1]**_ as values\n",
    "\n",
    "* zip() is being used to stitch the two lists together into a single iteralbe"
   ]
  },
  {
   "cell_type": "code",
   "execution_count": 1,
   "metadata": {},
   "outputs": [
    {
     "data": {
      "text/plain": [
       "{'skis': 1249.95, 'snowboard': 0.0, 'goggles': 0.0, 'boots': 959.88}"
      ]
     },
     "execution_count": 1,
     "metadata": {},
     "output_type": "execute_result"
    }
   ],
   "source": [
    "items = ['skis', 'snowboard', 'goggles', 'boots']\n",
    "status = [[5, 249.99], [0, 219.99], [0, 99.99], [12, 79.99]]\n",
    "\n",
    "inventory_costs = {k: round(v[0] * v[1], 2) for k, v in zip(items, status)}\n",
    "\n",
    "inventory_costs"
   ]
  },
  {
   "attachments": {},
   "cell_type": "markdown",
   "metadata": {},
   "source": [
    "* You can still use conditional logic!"
   ]
  },
  {
   "cell_type": "code",
   "execution_count": 2,
   "metadata": {},
   "outputs": [
    {
     "data": {
      "text/plain": [
       "{'skis': 1249.95, 'boots': 959.88}"
      ]
     },
     "execution_count": 2,
     "metadata": {},
     "output_type": "execute_result"
    }
   ],
   "source": [
    "inventory_costs = {\n",
    "    k: round(v[0] * v[1], 2) for k, v in zip(items, status) if v[0] > 0\n",
    "}\n",
    "\n",
    "inventory_costs"
   ]
  }
 ],
 "metadata": {
  "kernelspec": {
   "display_name": "data--n9soBp0",
   "language": "python",
   "name": "python3"
  },
  "language_info": {
   "codemirror_mode": {
    "name": "ipython",
    "version": 3
   },
   "file_extension": ".py",
   "mimetype": "text/x-python",
   "name": "python",
   "nbconvert_exporter": "python",
   "pygments_lexer": "ipython3",
   "version": "3.10.11"
  },
  "orig_nbformat": 4
 },
 "nbformat": 4,
 "nbformat_minor": 2
}
