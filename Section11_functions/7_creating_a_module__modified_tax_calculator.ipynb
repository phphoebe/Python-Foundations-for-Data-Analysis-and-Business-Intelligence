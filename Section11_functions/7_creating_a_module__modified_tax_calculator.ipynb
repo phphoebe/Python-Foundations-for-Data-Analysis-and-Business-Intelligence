{
 "cells": [
  {
   "attachments": {},
   "cell_type": "markdown",
   "id": "489b9d5b",
   "metadata": {},
   "source": [
    "### Modified Tax Calculator\n",
    "\n",
    "Since the tax calculator we made was primarily for our Stowe employees, let's modify the tax calculator below to have a default tax rate of 6%. \n",
    "\n",
    "Also, we want the output of the function to return a list containing the subtotal, tax, and totals."
   ]
  },
  {
   "cell_type": "code",
   "execution_count": 1,
   "id": "4105f94b",
   "metadata": {},
   "outputs": [],
   "source": [
    "# Modify the previous function to have a default of .06 for tax rate\n",
    "# (just use = while defining to assign default value)\n",
    "# Then return a list by wrapping comma separated values in brackets"
   ]
  },
  {
   "cell_type": "code",
   "execution_count": 2,
   "id": "aecf9eba",
   "metadata": {},
   "outputs": [],
   "source": [
    "def tax_calculator(subtotal, sales_tax=.06):\n",
    "    \n",
    "    tax = round(subtotal * sales_tax, 2)\n",
    "    total = round(subtotal + tax, 2)\n",
    "\n",
    "    return [subtotal, tax, total]"
   ]
  },
  {
   "cell_type": "code",
   "execution_count": 3,
   "id": "e822b638",
   "metadata": {},
   "outputs": [
    {
     "data": {
      "text/plain": [
       "[100, 6.0, 106.0]"
      ]
     },
     "execution_count": 3,
     "metadata": {},
     "output_type": "execute_result"
    }
   ],
   "source": [
    "tax_calculator(100)"
   ]
  },
  {
   "cell_type": "code",
   "execution_count": 4,
   "id": "7c016acf",
   "metadata": {},
   "outputs": [
    {
     "name": "stdout",
     "output_type": "stream",
     "text": [
      "Writing tax_calculator.py\n"
     ]
    }
   ],
   "source": [
    "%%writefile tax_calculator.py\n",
    "\n",
    "def tax_calculator(subtotal, sales_tax=.06):\n",
    "    \"\"\"takes in a subtotal and tax rate and returns [subtotal, tax, total]\n",
    "    \n",
    "    Args:\n",
    "        subtotal (float, int): cost of items in transaction\n",
    "        tax_rate (float, optional): tax rate at store location. Defaults to .06.\n",
    "        \n",
    "    Returns:\n",
    "        list: list containing subtotal, total, and tax\n",
    "    \"\"\"\n",
    "    tax = round(subtotal * sales_tax, 2)\n",
    "    total = round(subtotal + tax, 2)\n",
    "\n",
    "    return [subtotal, tax, total]"
   ]
  }
 ],
 "metadata": {
  "kernelspec": {
   "display_name": "Python 3 (ipykernel)",
   "language": "python",
   "name": "python3"
  },
  "language_info": {
   "codemirror_mode": {
    "name": "ipython",
    "version": 3
   },
   "file_extension": ".py",
   "mimetype": "text/x-python",
   "name": "python",
   "nbconvert_exporter": "python",
   "pygments_lexer": "ipython3",
   "version": "3.10.11"
  }
 },
 "nbformat": 4,
 "nbformat_minor": 5
}
