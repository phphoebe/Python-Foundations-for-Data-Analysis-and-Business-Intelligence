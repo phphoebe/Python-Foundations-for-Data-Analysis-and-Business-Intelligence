{
 "cells": [
  {
   "attachments": {},
   "cell_type": "markdown",
   "metadata": {},
   "source": [
    "## SET OPERATIONS"
   ]
  },
  {
   "attachments": {},
   "cell_type": "markdown",
   "metadata": {},
   "source": [
    "Python has useful **operations** that can be performed between sets\n",
    "* **union** - Returns all unique values in both sets\n",
    "```python\n",
    "set1.union(set2)\n",
    "```\n",
    "* **intersection** - Returns values present in both sets \n",
    "```python\n",
    "set1.intersection(set2)\n",
    "```\n",
    "* **difference** - Returns values present in set 1, but not set 2\n",
    "```python\n",
    "set1.difference(set2)\n",
    "```\n",
    "* **symmetric difference** - Returns values not shared between sets (opposite of intersection)\n",
    "```python\n",
    "set1.symmetric_difference(set2)\n",
    "```\n",
    "\n",
    "**PRO TIP:** Chain set operations to capture the relationship between three or more sets, for example - \n",
    "```python\n",
    "set1.union(set2).union(set3)\n",
    "```"
   ]
  },
  {
   "cell_type": "code",
   "execution_count": 1,
   "metadata": {},
   "outputs": [],
   "source": [
    "friday_items = {'snowboard', 'snowboard', 'skis', 'snowboard', 'sled'}\n",
    "\n",
    "satuarday_items = {'goggles', 'helmet', 'snowboard', 'skis', 'goggles'}\n",
    "\n",
    "sunday_items = {'coffee'}"
   ]
  },
  {
   "cell_type": "code",
   "execution_count": 2,
   "metadata": {},
   "outputs": [
    {
     "data": {
      "text/plain": [
       "{'goggles', 'helmet', 'skis', 'sled', 'snowboard'}"
      ]
     },
     "execution_count": 2,
     "metadata": {},
     "output_type": "execute_result"
    }
   ],
   "source": [
    "# UNION \n",
    "\n",
    "friday_items.union(satuarday_items)"
   ]
  },
  {
   "cell_type": "code",
   "execution_count": 3,
   "metadata": {},
   "outputs": [
    {
     "data": {
      "text/plain": [
       "{'coffee', 'goggles', 'helmet', 'skis', 'sled', 'snowboard'}"
      ]
     },
     "execution_count": 3,
     "metadata": {},
     "output_type": "execute_result"
    }
   ],
   "source": [
    "friday_items.union(satuarday_items).union(sunday_items)"
   ]
  },
  {
   "cell_type": "code",
   "execution_count": 4,
   "metadata": {},
   "outputs": [
    {
     "data": {
      "text/plain": [
       "{'skis', 'snowboard'}"
      ]
     },
     "execution_count": 4,
     "metadata": {},
     "output_type": "execute_result"
    }
   ],
   "source": [
    "# INTERSECTION\n",
    "\n",
    "friday_items.intersection(satuarday_items)"
   ]
  },
  {
   "cell_type": "code",
   "execution_count": 5,
   "metadata": {},
   "outputs": [
    {
     "data": {
      "text/plain": [
       "set()"
      ]
     },
     "execution_count": 5,
     "metadata": {},
     "output_type": "execute_result"
    }
   ],
   "source": [
    "# since no value is present in all three sets, an empty set is returned\n",
    "\n",
    "friday_items.intersection(satuarday_items).intersection(sunday_items)"
   ]
  },
  {
   "cell_type": "code",
   "execution_count": 6,
   "metadata": {},
   "outputs": [
    {
     "data": {
      "text/plain": [
       "{'sled'}"
      ]
     },
     "execution_count": 6,
     "metadata": {},
     "output_type": "execute_result"
    }
   ],
   "source": [
    "# DIFFERENCE\n",
    "# 'sled' is the only value in friday_items that is NOT in satuarday_items\n",
    "\n",
    "friday_items.difference(satuarday_items)"
   ]
  },
  {
   "cell_type": "code",
   "execution_count": 7,
   "metadata": {},
   "outputs": [
    {
     "data": {
      "text/plain": [
       "{'goggles', 'helmet'}"
      ]
     },
     "execution_count": 7,
     "metadata": {},
     "output_type": "execute_result"
    }
   ],
   "source": [
    "# If you reverse the order, the output changes -- \n",
    "# 'goggles' and 'helmet' are in satuarday_items but NOT in friday_items\n",
    "# Note that the subtraction sign can be used instead of the difference method\n",
    "\n",
    "satuarday_items - friday_items"
   ]
  },
  {
   "cell_type": "code",
   "execution_count": 8,
   "metadata": {},
   "outputs": [
    {
     "data": {
      "text/plain": [
       "{'goggles', 'helmet', 'sled'}"
      ]
     },
     "execution_count": 8,
     "metadata": {},
     "output_type": "execute_result"
    }
   ],
   "source": [
    "# SYMMETRIC DIFFERENCE\n",
    "# 'sled' is only in set 1, and 'goggles' and 'helmet' are only in set 2\n",
    "\n",
    "friday_items.symmetric_difference(satuarday_items)"
   ]
  },
  {
   "attachments": {},
   "cell_type": "markdown",
   "metadata": {},
   "source": [
    "### SET USE CASES"
   ]
  },
  {
   "attachments": {},
   "cell_type": "markdown",
   "metadata": {},
   "source": [
    "1. Sets are more efficient than lists for performing **membership tests**"
   ]
  },
  {
   "cell_type": "code",
   "execution_count": 9,
   "metadata": {},
   "outputs": [],
   "source": [
    "time_list = list(range(1000000))\n",
    "time_set = set(range(1000000))"
   ]
  },
  {
   "cell_type": "code",
   "execution_count": 14,
   "metadata": {},
   "outputs": [
    {
     "name": "stdout",
     "output_type": "stream",
     "text": [
      "CPU times: user 712 µs, sys: 0 ns, total: 712 µs\n",
      "Wall time: 716 µs\n"
     ]
    },
    {
     "data": {
      "text/plain": [
       "True"
      ]
     },
     "execution_count": 14,
     "metadata": {},
     "output_type": "execute_result"
    }
   ],
   "source": [
    "%%time\n",
    "100000 in time_list"
   ]
  },
  {
   "cell_type": "code",
   "execution_count": 15,
   "metadata": {},
   "outputs": [
    {
     "name": "stdout",
     "output_type": "stream",
     "text": [
      "CPU times: user 2 µs, sys: 6 µs, total: 8 µs\n",
      "Wall time: 7.87 µs\n"
     ]
    },
    {
     "data": {
      "text/plain": [
       "True"
      ]
     },
     "execution_count": 15,
     "metadata": {},
     "output_type": "execute_result"
    }
   ],
   "source": [
    "%%time\n",
    "100000 in time_set"
   ]
  },
  {
   "attachments": {},
   "cell_type": "markdown",
   "metadata": {},
   "source": [
    "Sets are implemented as **hash tables**, which makes looking up values extremely fast; the downside is that\n",
    "they cannot preserve order (lists rely on dynamic arrays that preserve order but have slower performance)"
   ]
  },
  {
   "attachments": {},
   "cell_type": "markdown",
   "metadata": {},
   "source": [
    "2. Sets can **gather unique values** efficiently without looping "
   ]
  },
  {
   "cell_type": "code",
   "execution_count": 16,
   "metadata": {},
   "outputs": [],
   "source": [
    "shipment_today = ['ski', 'snowboard', 'ski', 'ski', 'helmet', 'hat', 'goggles']\n",
    "shipment_yesterday = ['hat', 'goggles', 'snowboard', 'hat', 'bindings']"
   ]
  },
  {
   "cell_type": "code",
   "execution_count": 17,
   "metadata": {},
   "outputs": [
    {
     "name": "stdout",
     "output_type": "stream",
     "text": [
      "CPU times: user 12 µs, sys: 0 ns, total: 12 µs\n",
      "Wall time: 14.1 µs\n"
     ]
    },
    {
     "data": {
      "text/plain": [
       "['ski', 'snowboard', 'helmet', 'hat', 'goggles']"
      ]
     },
     "execution_count": 17,
     "metadata": {},
     "output_type": "execute_result"
    }
   ],
   "source": [
    "%%time\n",
    "unique_items = []\n",
    "\n",
    "for item in shipment_today:\n",
    "    if item not in unique_items:\n",
    "        unique_items.append(item)\n",
    "\n",
    "unique_items"
   ]
  },
  {
   "cell_type": "code",
   "execution_count": 18,
   "metadata": {},
   "outputs": [
    {
     "name": "stdout",
     "output_type": "stream",
     "text": [
      "CPU times: user 3 µs, sys: 0 ns, total: 3 µs\n",
      "Wall time: 3.81 µs\n"
     ]
    },
    {
     "data": {
      "text/plain": [
       "['ski', 'hat', 'snowboard', 'goggles', 'helmet']"
      ]
     },
     "execution_count": 18,
     "metadata": {},
     "output_type": "execute_result"
    }
   ],
   "source": [
    "%%time\n",
    "list(set(shipment_today))"
   ]
  },
  {
   "attachments": {},
   "cell_type": "markdown",
   "metadata": {},
   "source": [
    "3. Set operations can find the **data shared, or not shared, between items** without looping"
   ]
  },
  {
   "cell_type": "code",
   "execution_count": 20,
   "metadata": {},
   "outputs": [
    {
     "data": {
      "text/plain": [
       "['ski', 'helmet']"
      ]
     },
     "execution_count": 20,
     "metadata": {},
     "output_type": "execute_result"
    }
   ],
   "source": [
    "shipment_today = ['ski', 'snowboard', 'ski', 'ski', 'helmet', 'hat', 'goggles']\n",
    "shipment_yesterday = ['hat', 'goggles', 'snowboard', 'hat', 'bindings']\n",
    "\n",
    "unique_today = []\n",
    "for item_t in shipment_today:\n",
    "    if item_t not in shipment_yesterday:\n",
    "        if item_t not in unique_today:\n",
    "            unique_today.append(item_t)\n",
    "\n",
    "unique_today"
   ]
  },
  {
   "cell_type": "code",
   "execution_count": 21,
   "metadata": {},
   "outputs": [
    {
     "data": {
      "text/plain": [
       "{'helmet', 'ski'}"
      ]
     },
     "execution_count": 21,
     "metadata": {},
     "output_type": "execute_result"
    }
   ],
   "source": [
    "set(shipment_today).difference(set(shipment_yesterday))"
   ]
  },
  {
   "attachments": {},
   "cell_type": "markdown",
   "metadata": {},
   "source": [
    "### Practice"
   ]
  },
  {
   "cell_type": "code",
   "execution_count": 22,
   "metadata": {},
   "outputs": [],
   "source": [
    "transaction1 = ['snowboard', 'helmet', 'boots', 'hat', 'sweater', 'sweater']\n",
    "transaction2 = ['helmet', 'boots', 'skis', 'keychain', 'coffee', 'hat']\n",
    "transaction3 = ['snowboard', 'helmet', 'boots', 'ski poles']"
   ]
  },
  {
   "cell_type": "code",
   "execution_count": 23,
   "metadata": {},
   "outputs": [],
   "source": [
    "transaction1_set = set(transaction1)\n",
    "transaction2_set = set(transaction2)\n",
    "transaction3_set = set(transaction3)"
   ]
  },
  {
   "cell_type": "code",
   "execution_count": 24,
   "metadata": {},
   "outputs": [
    {
     "data": {
      "text/plain": [
       "{'boots', 'hat', 'helmet', 'ski poles', 'snowboard', 'sweater'}"
      ]
     },
     "execution_count": 24,
     "metadata": {},
     "output_type": "execute_result"
    }
   ],
   "source": [
    "# transaction1 and transaction3 were non sale days, group them together\n",
    "\n",
    "non_sale_set = transaction1_set.union(transaction3_set)\n",
    "\n",
    "non_sale_set"
   ]
  },
  {
   "cell_type": "code",
   "execution_count": 25,
   "metadata": {},
   "outputs": [
    {
     "data": {
      "text/plain": [
       "{'boots', 'hat', 'helmet'}"
      ]
     },
     "execution_count": 25,
     "metadata": {},
     "output_type": "execute_result"
    }
   ],
   "source": [
    "# what non sale days had in common with sale days\n",
    "# what was shared across all three days\n",
    "\n",
    "non_sale_set.intersection(transaction2_set)"
   ]
  },
  {
   "cell_type": "code",
   "execution_count": 26,
   "metadata": {},
   "outputs": [
    {
     "data": {
      "text/plain": [
       "{'boots', 'hat', 'helmet'}"
      ]
     },
     "execution_count": 26,
     "metadata": {},
     "output_type": "execute_result"
    }
   ],
   "source": [
    "transaction2_set.intersection(non_sale_set)"
   ]
  },
  {
   "cell_type": "code",
   "execution_count": 28,
   "metadata": {},
   "outputs": [
    {
     "data": {
      "text/plain": [
       "{'coffee', 'keychain', 'skis'}"
      ]
     },
     "execution_count": 28,
     "metadata": {},
     "output_type": "execute_result"
    }
   ],
   "source": [
    "# what wasn't shared?\n",
    "# because I'm really interested in my sale day, I'm going to take the difference between transaction2 and non_sale_set\n",
    "# output - 3 unique items that were purchased in transaction2 that weren't purchased in non sale days\n",
    "\n",
    "transaction2_set.difference(non_sale_set)"
   ]
  },
  {
   "cell_type": "code",
   "execution_count": 29,
   "metadata": {},
   "outputs": [
    {
     "data": {
      "text/plain": [
       "{'coffee', 'keychain', 'skis'}"
      ]
     },
     "execution_count": 29,
     "metadata": {},
     "output_type": "execute_result"
    }
   ],
   "source": [
    "# I remember we had a special anniversary keychain on sale, a discount on coffee, \n",
    "# and I guess what that person was in the shop, they decided to buy another pair of skis, so this was a pretty effective promotion\n",
    "# we should really look into doing more coffee and keychain promotions in the future\n",
    "\n",
    "transaction2_set - non_sale_set"
   ]
  },
  {
   "cell_type": "code",
   "execution_count": 31,
   "metadata": {},
   "outputs": [
    {
     "data": {
      "text/plain": [
       "{'coffee', 'keychain', 'ski poles', 'skis', 'snowboard', 'sweater'}"
      ]
     },
     "execution_count": 31,
     "metadata": {},
     "output_type": "execute_result"
    }
   ],
   "source": [
    "non_sale_set.symmetric_difference(transaction2_set)"
   ]
  }
 ],
 "metadata": {
  "kernelspec": {
   "display_name": "data--n9soBp0",
   "language": "python",
   "name": "python3"
  },
  "language_info": {
   "codemirror_mode": {
    "name": "ipython",
    "version": 3
   },
   "file_extension": ".py",
   "mimetype": "text/x-python",
   "name": "python",
   "nbconvert_exporter": "python",
   "pygments_lexer": "ipython3",
   "version": "3.10.11"
  },
  "orig_nbformat": 4
 },
 "nbformat": 4,
 "nbformat_minor": 2
}
