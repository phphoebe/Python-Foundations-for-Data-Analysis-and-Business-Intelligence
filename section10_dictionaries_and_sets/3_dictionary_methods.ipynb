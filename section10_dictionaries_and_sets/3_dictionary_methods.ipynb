{
 "cells": [
  {
   "attachments": {},
   "cell_type": "markdown",
   "metadata": {},
   "source": [
    "## DICTIONARY METHODS"
   ]
  },
  {
   "attachments": {},
   "cell_type": "markdown",
   "metadata": {},
   "source": [
    "```python\n",
    ".keys()\n",
    "```\n",
    "* _Returns the keys from a dictionary_\n",
    "```python\n",
    ".values()** \n",
    "```\n",
    "* _Returns the values from a dictionary_\n",
    "```python\n",
    ".items()\n",
    "```\n",
    "* _Returns key value pairs from a dictionary as a list of tuples_\n",
    "```python\n",
    ".get(_key, value if key not found_) \n",
    "```\n",
    "* _Returns a value from a given key, or an optional value if the key isn't found_\n",
    "```python\n",
    ".update(_key:value pairs_)\n",
    "```\n",
    "* _Appends specified key-value pairs, including entire dictionaries_"
   ]
  },
  {
   "attachments": {},
   "cell_type": "markdown",
   "metadata": {},
   "source": [
    "### Keys & Values Methods"
   ]
  },
  {
   "attachments": {},
   "cell_type": "markdown",
   "metadata": {},
   "source": [
    "#### KEYS"
   ]
  },
  {
   "attachments": {},
   "cell_type": "markdown",
   "metadata": {},
   "source": [
    "* The **.keys()** method returns the keys from a dictionary\n",
    "* .keys() returns a **view object** that represents the keys as a list (this is more memory efficient than creating a list)"
   ]
  },
  {
   "cell_type": "code",
   "execution_count": 1,
   "metadata": {},
   "outputs": [
    {
     "data": {
      "text/plain": [
       "dict_keys(['skis', 'snowboard', 'goggles', 'boots'])"
      ]
     },
     "execution_count": 1,
     "metadata": {},
     "output_type": "execute_result"
    }
   ],
   "source": [
    "item_details = {\n",
    "    'skis': [249.99, 10, 'in stock'],\n",
    "    'snowboard': [219.99, 0, 'sold out'],\n",
    "    'goggles': [99.99, 0, 'sold out'],\n",
    "    'boots': [79.99, 7, 'in stock']\n",
    "}\n",
    "\n",
    "item_details.keys()"
   ]
  },
  {
   "cell_type": "code",
   "execution_count": 2,
   "metadata": {},
   "outputs": [
    {
     "name": "stdout",
     "output_type": "stream",
     "text": [
      "skis\n",
      "snowboard\n",
      "goggles\n",
      "boots\n"
     ]
    }
   ],
   "source": [
    "# This view object can be iterated through, which has the same behavior as looping through the dictionary keys directly\n",
    "\n",
    "for item in item_details.keys():\n",
    "    print(item)"
   ]
  },
  {
   "cell_type": "code",
   "execution_count": 3,
   "metadata": {},
   "outputs": [
    {
     "name": "stdout",
     "output_type": "stream",
     "text": [
      "['skis', 'snowboard', 'goggles', 'boots']\n"
     ]
    }
   ],
   "source": [
    "# This view object can be converted into a list or a tuple if needed \n",
    "\n",
    "key_list = list(item_details.keys())\n",
    "\n",
    "print(key_list)"
   ]
  },
  {
   "attachments": {},
   "cell_type": "markdown",
   "metadata": {},
   "source": [
    "#### VALUES"
   ]
  },
  {
   "attachments": {},
   "cell_type": "markdown",
   "metadata": {},
   "source": [
    "* THe **.values()** method returns the values from a dictionary\n",
    "* .values() returns a **view object** that represents the values as a list (this is more memory efficient than creating a list)"
   ]
  },
  {
   "cell_type": "code",
   "execution_count": 4,
   "metadata": {},
   "outputs": [
    {
     "data": {
      "text/plain": [
       "dict_values([[249.99, 10], [219.99, 0], [99.99, 0], [79.99, 7]])"
      ]
     },
     "execution_count": 4,
     "metadata": {},
     "output_type": "execute_result"
    }
   ],
   "source": [
    "item_details = {\n",
    "    'skis': [249.99, 10],\n",
    "    'snowboard': [219.99, 0],\n",
    "    'goggles': [99.99, 0],\n",
    "    'boots': [79.99, 7]\n",
    "}\n",
    "\n",
    "item_details.values()"
   ]
  },
  {
   "cell_type": "code",
   "execution_count": 5,
   "metadata": {},
   "outputs": [
    {
     "name": "stdout",
     "output_type": "stream",
     "text": [
      "[249.99, 219.99, 99.99, 79.99]\n"
     ]
    }
   ],
   "source": [
    "# This view object can be looped through as well.\n",
    "\n",
    "# Here we're grabbing the first element from each of the lists returned by .values() and appending them to a new list \n",
    "\n",
    "price_list = []\n",
    "for attribute in item_details.values():\n",
    "    price_list.append(attribute[0])\n",
    "\n",
    "print(price_list)"
   ]
  },
  {
   "attachments": {},
   "cell_type": "markdown",
   "metadata": {},
   "source": [
    "### Get, Items & Update Methods"
   ]
  },
  {
   "attachments": {},
   "cell_type": "markdown",
   "metadata": {},
   "source": [
    "#### ITEMS\n",
    "* The **.items()** method returns key-value pairs from a dictionary as a list of tuples\n",
    "* .item() returns a **view object** that represents the key-value pairs as a list of tuples"
   ]
  },
  {
   "cell_type": "code",
   "execution_count": 16,
   "metadata": {},
   "outputs": [
    {
     "data": {
      "text/plain": [
       "dict_items([('skis', [249.99, 10]), ('snowboard', [219.99, 0]), ('goggles', [99.99, 0]), ('boots', [79.99, 7])])"
      ]
     },
     "execution_count": 16,
     "metadata": {},
     "output_type": "execute_result"
    }
   ],
   "source": [
    "item_details = {\n",
    "    'skis': [249.99, 10],\n",
    "    'snowboard': [219.99, 0],\n",
    "    'goggles': [99.99, 0],\n",
    "    'boots': [79.99, 7]\n",
    "}\n",
    "\n",
    "item_details.items()"
   ]
  },
  {
   "attachments": {},
   "cell_type": "markdown",
   "metadata": {},
   "source": [
    "You can **unpack** the tuple to retrieve individual keys and values"
   ]
  },
  {
   "cell_type": "code",
   "execution_count": 17,
   "metadata": {},
   "outputs": [
    {
     "name": "stdout",
     "output_type": "stream",
     "text": [
      "The skis costs 249.99.\n",
      "The snowboard costs 219.99.\n",
      "The goggles costs 99.99.\n",
      "The boots costs 79.99.\n"
     ]
    }
   ],
   "source": [
    "# You can give these variables intuitive names, \n",
    "# although k, v is common to represent keys and values\n",
    "\n",
    "for key, item_attributes in item_details.items():\n",
    "    print(f'The {key} costs {item_attributes[0]}.')"
   ]
  },
  {
   "attachments": {},
   "cell_type": "markdown",
   "metadata": {},
   "source": [
    "### GET\n",
    "The **.get()** method returns the values associated with a dictionary key\n",
    "* It won't return a KeyError if the key isn't found\n",
    "* You can specify an optional value to return if the key is not found"
   ]
  },
  {
   "cell_type": "code",
   "execution_count": 9,
   "metadata": {},
   "outputs": [
    {
     "data": {
      "text/plain": [
       "[79.99, 7, 'in stock']"
      ]
     },
     "execution_count": 9,
     "metadata": {},
     "output_type": "execute_result"
    }
   ],
   "source": [
    "item_details = {\n",
    "    'skis': [249.99, 10, 'in stock'],\n",
    "    'snowboard': [219.99, 0, 'sold out'],\n",
    "    'goggles': [99.99, 0, 'sold out'],\n",
    "    'boots': [79.99, 7, 'in stock']\n",
    "}\n",
    "\n",
    "# .get() returns the value associated with the 'boots' key\n",
    "item_details.get('boots')"
   ]
  },
  {
   "attachments": {},
   "cell_type": "markdown",
   "metadata": {},
   "source": [
    "* The difference between using .get() and simply entering the key directly is that .get() will not return an error if the key is not found\n",
    "* And you can specify an optional value to retun if the key is not found \n",
    "\n",
    "```python\n",
    ".get(key, value if not found)\n",
    "```"
   ]
  },
  {
   "cell_type": "code",
   "execution_count": 10,
   "metadata": {},
   "outputs": [
    {
     "ename": "KeyError",
     "evalue": "'bindings'",
     "output_type": "error",
     "traceback": [
      "\u001b[0;31m---------------------------------------------------------------------------\u001b[0m",
      "\u001b[0;31mKeyError\u001b[0m                                  Traceback (most recent call last)",
      "Cell \u001b[0;32mIn[10], line 1\u001b[0m\n\u001b[0;32m----> 1\u001b[0m item_details[\u001b[39m'\u001b[39;49m\u001b[39mbindings\u001b[39;49m\u001b[39m'\u001b[39;49m]\n",
      "\u001b[0;31mKeyError\u001b[0m: 'bindings'"
     ]
    }
   ],
   "source": [
    "item_details['bindings']"
   ]
  },
  {
   "cell_type": "code",
   "execution_count": 11,
   "metadata": {},
   "outputs": [],
   "source": [
    "item_details.get('bindings')"
   ]
  },
  {
   "cell_type": "code",
   "execution_count": 12,
   "metadata": {},
   "outputs": [
    {
     "data": {
      "text/plain": [
       "\"Sorry we don't carry that item.\""
      ]
     },
     "execution_count": 12,
     "metadata": {},
     "output_type": "execute_result"
    }
   ],
   "source": [
    "item_details.get('bindings', \"Sorry we don't carry that item.\")"
   ]
  },
  {
   "attachments": {},
   "cell_type": "markdown",
   "metadata": {},
   "source": [
    "#### UPDATE\n",
    "* The **.update()** method appends key-value pairs to a dictionary"
   ]
  },
  {
   "cell_type": "code",
   "execution_count": 13,
   "metadata": {},
   "outputs": [
    {
     "data": {
      "text/plain": [
       "{'skis': [249.99, 10, 'in stock'],\n",
       " 'snowboard': [219.99, 0, 'sold out'],\n",
       " 'goggles': [99.99, 0, 'sold out'],\n",
       " 'boots': [79.99, 7, 'in stock'],\n",
       " 'bindings': [139.99, 0, 'out of stock']}"
      ]
     },
     "execution_count": 13,
     "metadata": {},
     "output_type": "execute_result"
    }
   ],
   "source": [
    "# .update() appends a new key-value pair to a dictionary, in this case, a single pair for a key of 'bindings'\n",
    "\n",
    "item_details = {\n",
    "    'skis': [249.99, 10, 'in stock'],\n",
    "    'snowboard': [219.99, 0, 'sold out'],\n",
    "    'goggles': [99.99, 0, 'sold out'],\n",
    "    'boots': [79.99, 7, 'in stock']\n",
    "}\n",
    "\n",
    "item_details.update({'bindings': [139.99, 0, 'out of stock']})\n",
    "item_details"
   ]
  },
  {
   "attachments": {},
   "cell_type": "markdown",
   "metadata": {},
   "source": [
    "* _This is the preferred way to **combine dictionaries**_"
   ]
  },
  {
   "cell_type": "code",
   "execution_count": 14,
   "metadata": {},
   "outputs": [
    {
     "data": {
      "text/plain": [
       "{'skis': [249.99, 10, 'in stock'],\n",
       " 'snowboard': [219.99, 0, 'sold out'],\n",
       " 'goggles': [99.99, 0, 'sold out'],\n",
       " 'boots': [79.99, 7, 'in stock'],\n",
       " 'bindings': [139.99, 0, 'out of stock'],\n",
       " 'scarf': [19.99, 100, 'in stock'],\n",
       " 'snowpants': 'N/A'}"
      ]
     },
     "execution_count": 14,
     "metadata": {},
     "output_type": "execute_result"
    }
   ],
   "source": [
    "# As a reminder, dictionary values do not need to be the same type;\n",
    "# note that the value for 'snowpants' is 'N/A', while the values for the rest of the keys are lists \n",
    "\n",
    "new_items = {'scarf': [19.99, 100, 'in stock'], 'snowpants': 'N/A'}\n",
    "\n",
    "item_details.update(new_items)\n",
    "item_details"
   ]
  },
  {
   "attachments": {},
   "cell_type": "markdown",
   "metadata": {},
   "source": [
    "### PRACTICE"
   ]
  },
  {
   "cell_type": "code",
   "execution_count": 18,
   "metadata": {},
   "outputs": [],
   "source": [
    "# customer recent transactions (in the last month)\n",
    "customer_sales = {\n",
    "    'C00001': [224.99, 87.36],\n",
    "    'C00004': [125.56],\n",
    "    'C00014': [99.99, 104.26, 23.57],\n",
    "    'C00015': [82.65, 56.88, 201.82, 519.55],\n",
    "}"
   ]
  },
  {
   "cell_type": "code",
   "execution_count": 21,
   "metadata": {},
   "outputs": [
    {
     "data": {
      "text/plain": [
       "['C00001', 'C00004', 'C00014', 'C00015']"
      ]
     },
     "execution_count": 21,
     "metadata": {},
     "output_type": "execute_result"
    }
   ],
   "source": [
    "customer_ids = list(customer_sales.keys())\n",
    "\n",
    "customer_ids"
   ]
  },
  {
   "cell_type": "code",
   "execution_count": 22,
   "metadata": {},
   "outputs": [
    {
     "data": {
      "text/plain": [
       "[[224.99, 87.36],\n",
       " [125.56],\n",
       " [99.99, 104.26, 23.57],\n",
       " [82.65, 56.88, 201.82, 519.55]]"
      ]
     },
     "execution_count": 22,
     "metadata": {},
     "output_type": "execute_result"
    }
   ],
   "source": [
    "# first, create a list of customer values \n",
    "list(customer_sales.values())"
   ]
  },
  {
   "cell_type": "code",
   "execution_count": 23,
   "metadata": {},
   "outputs": [
    {
     "name": "stdout",
     "output_type": "stream",
     "text": [
      "312.35\n",
      "125.56\n",
      "227.82\n",
      "860.9\n"
     ]
    }
   ],
   "source": [
    "# if we want to perform analysis on these values\n",
    "# e.g. sum the values of each of the customer's sales (sum the lists)\n",
    "\n",
    "for sales in customer_sales.values():\n",
    "    print(sum(sales))"
   ]
  },
  {
   "cell_type": "code",
   "execution_count": 24,
   "metadata": {},
   "outputs": [
    {
     "data": {
      "text/plain": [
       "{'C00001': 312.35, 'C00004': 125.56, 'C00014': 227.82, 'C00015': 860.9}"
      ]
     },
     "execution_count": 24,
     "metadata": {},
     "output_type": "execute_result"
    }
   ],
   "source": [
    "# want a new dictionary where the values will be the sum of the sales for each customer\n",
    "# i.e. aggregate values stored in the dictionary\n",
    "# we can do this by assignment\n",
    "\n",
    "total_sales = {}\n",
    "\n",
    "for customer_id, sales in customer_sales.items():\n",
    "    total_sales[customer_id] = sum(sales)\n",
    "\n",
    "total_sales"
   ]
  },
  {
   "cell_type": "code",
   "execution_count": 25,
   "metadata": {},
   "outputs": [
    {
     "name": "stdout",
     "output_type": "stream",
     "text": [
      "[224.99, 87.36]\n"
     ]
    },
    {
     "ename": "KeyError",
     "evalue": "'C00003'",
     "output_type": "error",
     "traceback": [
      "\u001b[0;31m---------------------------------------------------------------------------\u001b[0m",
      "\u001b[0;31mKeyError\u001b[0m                                  Traceback (most recent call last)",
      "Cell \u001b[0;32mIn[25], line 7\u001b[0m\n\u001b[1;32m      4\u001b[0m vip_customers \u001b[39m=\u001b[39m [\u001b[39m'\u001b[39m\u001b[39mC00001\u001b[39m\u001b[39m'\u001b[39m, \u001b[39m'\u001b[39m\u001b[39mC00003\u001b[39m\u001b[39m'\u001b[39m, \u001b[39m'\u001b[39m\u001b[39mC00014\u001b[39m\u001b[39m'\u001b[39m]\n\u001b[1;32m      6\u001b[0m \u001b[39mfor\u001b[39;00m customer \u001b[39min\u001b[39;00m vip_customers:\n\u001b[0;32m----> 7\u001b[0m     \u001b[39mprint\u001b[39m(customer_sales[customer])\n\u001b[1;32m      9\u001b[0m \u001b[39m# we would get a KeyError since C00003 is not in the dictionary\u001b[39;00m\n",
      "\u001b[0;31mKeyError\u001b[0m: 'C00003'"
     ]
    }
   ],
   "source": [
    "# look in the dictionary for a specific set of customers\n",
    "# pull the values of each of those customers that I'm looking for\n",
    "\n",
    "vip_customers = ['C00001', 'C00003', 'C00014']\n",
    "\n",
    "for customer in vip_customers:\n",
    "    print(customer_sales[customer])\n",
    "\n",
    "# we would get a KeyError since C00003 is not in the dictionary"
   ]
  },
  {
   "cell_type": "code",
   "execution_count": 26,
   "metadata": {},
   "outputs": [
    {
     "name": "stdout",
     "output_type": "stream",
     "text": [
      "[224.99, 87.36]\n",
      "None\n",
      "[99.99, 104.26, 23.57]\n"
     ]
    }
   ],
   "source": [
    "# this is where the .get() method comes in handy\n",
    "\n",
    "vip_customers = ['C00001', 'C00003', 'C00014']\n",
    "\n",
    "for customer in vip_customers:\n",
    "    print(customer_sales.get(customer))"
   ]
  },
  {
   "cell_type": "code",
   "execution_count": 27,
   "metadata": {},
   "outputs": [
    {
     "name": "stdout",
     "output_type": "stream",
     "text": [
      "[224.99, 87.36]\n",
      "No longer VIP\n",
      "[99.99, 104.26, 23.57]\n"
     ]
    }
   ],
   "source": [
    "# we could also specify an optional default value to return if the key is not found\n",
    "\n",
    "vip_customers = ['C00001', 'C00003', 'C00014']\n",
    "\n",
    "for customer in vip_customers:\n",
    "    print(customer_sales.get(customer, 'No longer VIP'))"
   ]
  },
  {
   "cell_type": "code",
   "execution_count": 28,
   "metadata": {},
   "outputs": [
    {
     "data": {
      "text/plain": [
       "{'C00001': [224.99, 87.36],\n",
       " 'C00004': [125.56],\n",
       " 'C00014': [99.99, 104.26, 23.57],\n",
       " 'C00015': [82.65, 56.88, 201.82, 519.55],\n",
       " 'C00005': [105.44],\n",
       " 'C00022': [28.99]}"
      ]
     },
     "execution_count": 28,
     "metadata": {},
     "output_type": "execute_result"
    }
   ],
   "source": [
    "# The .update() method is a really handy way to combine dictionaries\n",
    "# add two customers to our customer_sales dictionary\n",
    "\n",
    "new_customers = {'C00005': [105.44], 'C00022': [28.99]}\n",
    "\n",
    "customer_sales.update(new_customers)\n",
    "\n",
    "customer_sales"
   ]
  }
 ],
 "metadata": {
  "kernelspec": {
   "display_name": "data--n9soBp0",
   "language": "python",
   "name": "python3"
  },
  "language_info": {
   "codemirror_mode": {
    "name": "ipython",
    "version": 3
   },
   "file_extension": ".py",
   "mimetype": "text/x-python",
   "name": "python",
   "nbconvert_exporter": "python",
   "pygments_lexer": "ipython3",
   "version": "3.10.11"
  },
  "orig_nbformat": 4
 },
 "nbformat": 4,
 "nbformat_minor": 2
}
