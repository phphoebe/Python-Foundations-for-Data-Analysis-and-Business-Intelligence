{
 "cells": [
  {
   "attachments": {},
   "cell_type": "markdown",
   "id": "ebb23cb2",
   "metadata": {},
   "source": [
    "### Weekend Sales Follow-Up Analysis\n",
    "\n",
    "Hey there, \n",
    "\n",
    "There are three lists below representing the customers who made purchases on Friday, Saturday, and Sunday.\n",
    "\n",
    "We want to target customers who made purchases on Friday and either Saturday or Sunday with follow up promotions.\n",
    "\n",
    "Run the cell below to create the customer lists."
   ]
  },
  {
   "cell_type": "code",
   "execution_count": 1,
   "id": "d08a9a39",
   "metadata": {},
   "outputs": [],
   "source": [
    "friday_customers = [\n",
    "    'C00004', 'C00007', 'C00015', 'C00016', 'C00020',\n",
    "    'C00010', 'C00006', 'C00001', 'C00003', 'C00014',\n",
    "    'C00001', 'C00001', 'C00005', 'C00008', 'C00013'\n",
    "]\n",
    "\n",
    "saturday_customers = [\n",
    "    'C00004', 'C00017', 'C00019', 'C00002', 'C00008',\n",
    "    'C00021', 'C00022'\n",
    "]\n",
    "\n",
    "sunday_customers = ['C00006', 'C00018', 'C00018', 'C00010', 'C00016']"
   ]
  },
  {
   "attachments": {},
   "cell_type": "markdown",
   "id": "ca2d21a0",
   "metadata": {},
   "source": [
    "#### Collect Unique Weekend Customers\n",
    "\n",
    "First, can you gather all the unique customers from the weekend (`saturday_customers` and `sunday_customers`)? Create a set called `weekend_set` to store them."
   ]
  },
  {
   "cell_type": "code",
   "execution_count": 2,
   "id": "01892d0d",
   "metadata": {},
   "outputs": [
    {
     "data": {
      "text/plain": [
       "{'C00002',\n",
       " 'C00004',\n",
       " 'C00006',\n",
       " 'C00008',\n",
       " 'C00010',\n",
       " 'C00016',\n",
       " 'C00017',\n",
       " 'C00018',\n",
       " 'C00019',\n",
       " 'C00021',\n",
       " 'C00022'}"
      ]
     },
     "execution_count": 2,
     "metadata": {},
     "output_type": "execute_result"
    }
   ],
   "source": [
    "# Collect Unique Weekend Customers - Union between Saturday and Sunday\n",
    "\n",
    "weekend_set = set(saturday_customers).union(set(sunday_customers))\n",
    "\n",
    "weekend_set"
   ]
  },
  {
   "cell_type": "code",
   "execution_count": 3,
   "id": "6c2f0c2e",
   "metadata": {},
   "outputs": [
    {
     "data": {
      "text/plain": [
       "11"
      ]
     },
     "execution_count": 3,
     "metadata": {},
     "output_type": "execute_result"
    }
   ],
   "source": [
    "len(weekend_set)"
   ]
  },
  {
   "attachments": {},
   "cell_type": "markdown",
   "id": "40dadd50",
   "metadata": {},
   "source": [
    "#### Friday Customers Who Came Back During the Weekend\n",
    "\n",
    "Now that you've got that, can you see which customers made a purchase on Friday AND made a purchase during the weekend?\n",
    "\n"
   ]
  },
  {
   "cell_type": "code",
   "execution_count": 4,
   "id": "b1cc556b",
   "metadata": {},
   "outputs": [
    {
     "data": {
      "text/plain": [
       "{'C00004', 'C00006', 'C00008', 'C00010', 'C00016'}"
      ]
     },
     "execution_count": 4,
     "metadata": {},
     "output_type": "execute_result"
    }
   ],
   "source": [
    "# Collect Customers who purchased on Friday AND on weekend\n",
    "# Intersection between Friday and Weekend Sets\n",
    "\n",
    "set(friday_customers).intersection(weekend_set)"
   ]
  },
  {
   "cell_type": "code",
   "execution_count": 5,
   "id": "deebe86b",
   "metadata": {},
   "outputs": [
    {
     "data": {
      "text/plain": [
       "5"
      ]
     },
     "execution_count": 5,
     "metadata": {},
     "output_type": "execute_result"
    }
   ],
   "source": [
    "len(set(friday_customers).intersection(weekend_set))"
   ]
  }
 ],
 "metadata": {
  "kernelspec": {
   "display_name": "Python 3 (ipykernel)",
   "language": "python",
   "name": "python3"
  },
  "language_info": {
   "codemirror_mode": {
    "name": "ipython",
    "version": 3
   },
   "file_extension": ".py",
   "mimetype": "text/x-python",
   "name": "python",
   "nbconvert_exporter": "python",
   "pygments_lexer": "ipython3",
   "version": "3.10.11"
  }
 },
 "nbformat": 4,
 "nbformat_minor": 5
}
