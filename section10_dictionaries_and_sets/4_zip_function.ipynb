{
 "cells": [
  {
   "attachments": {},
   "cell_type": "markdown",
   "metadata": {},
   "source": [
    "## ZIP"
   ]
  },
  {
   "attachments": {},
   "cell_type": "markdown",
   "metadata": {},
   "source": [
    "The **zip()** function combines two iterables, like lists, into a single iterator of _**tuples**_\n",
    "* first_iterable[0] gets paired with second_iterable[0], and so on"
   ]
  },
  {
   "cell_type": "code",
   "execution_count": 1,
   "metadata": {},
   "outputs": [
    {
     "data": {
      "text/plain": [
       "<zip at 0x106b90840>"
      ]
     },
     "execution_count": 1,
     "metadata": {},
     "output_type": "execute_result"
    }
   ],
   "source": [
    "# Here, we're zipping together two lists and returning a **zip object** \n",
    "# that contains the instructions for pairing the 1st object from each iterable\n",
    "\n",
    "item_list = ['skis', 'snowboards', 'goggles', 'boots']\n",
    "price_list = [249.99, 219.99, 99.99, 79.99]\n",
    "inventory = [10, 0, 0, 7]\n",
    "\n",
    "zip(price_list, inventory)"
   ]
  },
  {
   "cell_type": "code",
   "execution_count": 2,
   "metadata": {},
   "outputs": [
    {
     "data": {
      "text/plain": [
       "[(249.99, 10), (219.99, 0), (99.99, 0), (79.99, 7)]"
      ]
     },
     "execution_count": 2,
     "metadata": {},
     "output_type": "execute_result"
    }
   ],
   "source": [
    "# When you create a list from the zip object, you get a list with the 1st element from each iterable paired togeter in a tuple\n",
    "\n",
    "item_attributes = list(zip(price_list, inventory))\n",
    "\n",
    "item_attributes"
   ]
  },
  {
   "cell_type": "code",
   "execution_count": 3,
   "metadata": {},
   "outputs": [
    {
     "data": {
      "text/plain": [
       "[('skis', 249.99, 10),\n",
       " ('snowboards', 219.99, 0),\n",
       " ('goggles', 99.99, 0),\n",
       " ('boots', 79.99, 7)]"
      ]
     },
     "execution_count": 3,
     "metadata": {},
     "output_type": "execute_result"
    }
   ],
   "source": [
    "# Any number of iterables can be combined this way\n",
    "\n",
    "list(zip(item_list, price_list, inventory))"
   ]
  },
  {
   "attachments": {},
   "cell_type": "markdown",
   "metadata": {},
   "source": [
    "The **zip()** function is commonly used to build dictionaries"
   ]
  },
  {
   "cell_type": "code",
   "execution_count": 7,
   "metadata": {},
   "outputs": [
    {
     "data": {
      "text/plain": [
       "{'skis': [249.99, 10, 'in stock'],\n",
       " 'snowboard': [219.99, 0, 'sold out'],\n",
       " 'goggles': [99.99, 0, 'sold out'],\n",
       " 'boots': [79.99, 7, 'in stock']}"
      ]
     },
     "execution_count": 7,
     "metadata": {},
     "output_type": "execute_result"
    }
   ],
   "source": [
    "# When creating a dictionary from the zip object, \n",
    "# the elements of the 1st iterable become the keys,\n",
    "# and the 2nd become the values\n",
    "\n",
    "item_details = [\n",
    "    [249.99, 10, 'in stock'],\n",
    "    [219.99, 0, 'sold out'],\n",
    "    [99.99, 0, 'sold out'],\n",
    "    [79.99, 7, 'in stock']\n",
    "]\n",
    "\n",
    "item_names = ['skis', 'snowboard', 'goggles', 'boots']\n",
    "\n",
    "item_dic = dict(zip(item_names, item_details))\n",
    "\n",
    "item_dic"
   ]
  },
  {
   "attachments": {},
   "cell_type": "markdown",
   "metadata": {},
   "source": [
    "Note that you can only create a dictionary from a zip object with two iterables"
   ]
  },
  {
   "cell_type": "code",
   "execution_count": 8,
   "metadata": {},
   "outputs": [
    {
     "ename": "ValueError",
     "evalue": "dictionary update sequence element #0 has length 3; 2 is required",
     "output_type": "error",
     "traceback": [
      "\u001b[0;31m---------------------------------------------------------------------------\u001b[0m",
      "\u001b[0;31mValueError\u001b[0m                                Traceback (most recent call last)",
      "Cell \u001b[0;32mIn[8], line 1\u001b[0m\n\u001b[0;32m----> 1\u001b[0m \u001b[39mdict\u001b[39;49m(\u001b[39mzip\u001b[39;49m(item_list, price_list, inventory))\n",
      "\u001b[0;31mValueError\u001b[0m: dictionary update sequence element #0 has length 3; 2 is required"
     ]
    }
   ],
   "source": [
    "dict(zip(item_list, price_list, inventory))"
   ]
  },
  {
   "attachments": {},
   "cell_type": "markdown",
   "metadata": {},
   "source": [
    "But you can zip iterables together within the second argument"
   ]
  },
  {
   "cell_type": "code",
   "execution_count": 9,
   "metadata": {},
   "outputs": [
    {
     "data": {
      "text/plain": [
       "{'skis': (249.99, 10),\n",
       " 'snowboards': (219.99, 0),\n",
       " 'goggles': (99.99, 0),\n",
       " 'boots': (79.99, 7)}"
      ]
     },
     "execution_count": 9,
     "metadata": {},
     "output_type": "execute_result"
    }
   ],
   "source": [
    "item_dict = dict(zip(item_list, zip(price_list, inventory)))\n",
    "\n",
    "item_dict"
   ]
  }
 ],
 "metadata": {
  "kernelspec": {
   "display_name": "data--n9soBp0",
   "language": "python",
   "name": "python3"
  },
  "language_info": {
   "codemirror_mode": {
    "name": "ipython",
    "version": 3
   },
   "file_extension": ".py",
   "mimetype": "text/x-python",
   "name": "python",
   "nbconvert_exporter": "python",
   "pygments_lexer": "ipython3",
   "version": "3.10.11"
  },
  "orig_nbformat": 4
 },
 "nbformat": 4,
 "nbformat_minor": 2
}
