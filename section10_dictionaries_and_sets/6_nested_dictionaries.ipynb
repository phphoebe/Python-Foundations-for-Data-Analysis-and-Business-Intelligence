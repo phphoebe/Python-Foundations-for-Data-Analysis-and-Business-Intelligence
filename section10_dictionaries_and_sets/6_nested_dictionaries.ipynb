{
 "cells": [
  {
   "attachments": {},
   "cell_type": "markdown",
   "metadata": {},
   "source": [
    "## NESTED DICTIONARIES"
   ]
  },
  {
   "attachments": {},
   "cell_type": "markdown",
   "metadata": {},
   "source": [
    "You can **nest dictionaries** as values of another dictionary \n",
    "* The nested dictionary is referred to as an *inner* dictionary (the other is an _outer_ dictionary)"
   ]
  },
  {
   "cell_type": "code",
   "execution_count": 1,
   "metadata": {},
   "outputs": [
    {
     "data": {
      "text/plain": [
       "{2019: {'skis': [249.99, 10, 'in stock'],\n",
       "  'snowboard': [219.99, 0, 'sold out']},\n",
       " 2020: {'skis': [259.99, 10, 'in stock'],\n",
       "  'snowboard': [229.99, 0, 'sold out']},\n",
       " 2021: {'skis': [269.99, 10, 'in stock'],\n",
       "  'snowboard': [239.99, 0, 'sold out']}}"
      ]
     },
     "execution_count": 1,
     "metadata": {},
     "output_type": "execute_result"
    }
   ],
   "source": [
    "# The outer dictionary here has years as keys, and inner dictionaries as values\n",
    "# The inner dictionaries have items as keys, and lists with item attributes as values\n",
    "\n",
    "item_history = {\n",
    "    2019: {\"skis\": [249.99, 10, \"in stock\"], \"snowboard\": [219.99, 0, \"sold out\"]},\n",
    "    2020: {\"skis\": [259.99, 10, \"in stock\"], \"snowboard\": [229.99, 0, \"sold out\"]},\n",
    "    2021: {\"skis\": [269.99, 10, \"in stock\"], \"snowboard\": [239.99, 0, \"sold out\"]}\n",
    "}\n",
    "\n",
    "item_history"
   ]
  },
  {
   "cell_type": "code",
   "execution_count": 2,
   "metadata": {},
   "outputs": [
    {
     "data": {
      "text/plain": [
       "{'skis': [259.99, 10, 'in stock'], 'snowboard': [229.99, 0, 'sold out']}"
      ]
     },
     "execution_count": 2,
     "metadata": {},
     "output_type": "execute_result"
    }
   ],
   "source": [
    "# To access an inner dictionary, reference the outer dictionary key \n",
    "\n",
    "item_history[2020]"
   ]
  },
  {
   "cell_type": "code",
   "execution_count": 3,
   "metadata": {},
   "outputs": [
    {
     "data": {
      "text/plain": [
       "[259.99, 10, 'in stock']"
      ]
     },
     "execution_count": 3,
     "metadata": {},
     "output_type": "execute_result"
    }
   ],
   "source": [
    "# To access the values of an inner dictionary, \n",
    "# reference the outer dictionary key, then the inner dictionary key of interest\n",
    "\n",
    "item_history[2020]['skis']"
   ]
  },
  {
   "attachments": {},
   "cell_type": "markdown",
   "metadata": {},
   "source": [
    "### PRACTICE"
   ]
  },
  {
   "cell_type": "code",
   "execution_count": 4,
   "metadata": {},
   "outputs": [
    {
     "data": {
      "text/plain": [
       "{'India': {'Uttar Pradesh': {'population': 241, 'gdb': 220},\n",
       "  'Rajasthan': {'population': 200, 'gdb': 130}},\n",
       " 'China': {'Guangdong': {'population': 126, 'gdb': 1960},\n",
       "  'Fujian': {'population': 42, 'gdb': 757}}}"
      ]
     },
     "execution_count": 4,
     "metadata": {},
     "output_type": "execute_result"
    }
   ],
   "source": [
    "economic_data = {\n",
    "    \"India\": {\n",
    "        \"Uttar Pradesh\": {\"population\": 241, \"gdb\": 220},\n",
    "        \"Rajasthan\": {\"population\": 200, \"gdb\": 130},\n",
    "    },\n",
    "    \"China\": {\n",
    "        \"Guangdong\": {\"population\": 126, \"gdb\": 1960},\n",
    "        \"Fujian\": {\"population\": 42, \"gdb\": 757},\n",
    "    }\n",
    "}\n",
    "\n",
    "economic_data"
   ]
  },
  {
   "cell_type": "code",
   "execution_count": 5,
   "metadata": {},
   "outputs": [
    {
     "data": {
      "text/plain": [
       "{'Uttar Pradesh': {'population': 241, 'gdb': 220},\n",
       " 'Rajasthan': {'population': 200, 'gdb': 130}}"
      ]
     },
     "execution_count": 5,
     "metadata": {},
     "output_type": "execute_result"
    }
   ],
   "source": [
    "economic_data[\"India\"]"
   ]
  },
  {
   "cell_type": "code",
   "execution_count": 6,
   "metadata": {},
   "outputs": [
    {
     "data": {
      "text/plain": [
       "{'population': 200, 'gdb': 130}"
      ]
     },
     "execution_count": 6,
     "metadata": {},
     "output_type": "execute_result"
    }
   ],
   "source": [
    "economic_data[\"India\"][\"Rajasthan\"]"
   ]
  },
  {
   "cell_type": "code",
   "execution_count": 7,
   "metadata": {},
   "outputs": [
    {
     "data": {
      "text/plain": [
       "200"
      ]
     },
     "execution_count": 7,
     "metadata": {},
     "output_type": "execute_result"
    }
   ],
   "source": [
    "economic_data[\"India\"][\"Rajasthan\"][\"population\"]"
   ]
  },
  {
   "cell_type": "code",
   "execution_count": 8,
   "metadata": {},
   "outputs": [
    {
     "name": "stdout",
     "output_type": "stream",
     "text": [
      "{'population': 241, 'gdb': 220}\n",
      "{'population': 200, 'gdb': 130}\n"
     ]
    }
   ],
   "source": [
    "# grab population of all the states in India\n",
    "# loop through the values of the country India\n",
    "\n",
    "# create an empty list \n",
    "population = []\n",
    "\n",
    "for state in economic_data[\"India\"].values():\n",
    "    print(state)\n"
   ]
  },
  {
   "cell_type": "code",
   "execution_count": 9,
   "metadata": {},
   "outputs": [
    {
     "name": "stdout",
     "output_type": "stream",
     "text": [
      "241\n",
      "200\n"
     ]
    }
   ],
   "source": [
    "population = []\n",
    "\n",
    "for state in economic_data[\"India\"].values():\n",
    "    print(state[\"population\"])\n"
   ]
  },
  {
   "cell_type": "code",
   "execution_count": 10,
   "metadata": {},
   "outputs": [
    {
     "data": {
      "text/plain": [
       "[241, 200]"
      ]
     },
     "execution_count": 10,
     "metadata": {},
     "output_type": "execute_result"
    }
   ],
   "source": [
    "population = []\n",
    "\n",
    "for state in economic_data[\"India\"].values():\n",
    "    population.append(state[\"population\"])\n",
    "\n",
    "population"
   ]
  },
  {
   "attachments": {},
   "cell_type": "markdown",
   "metadata": {},
   "source": [
    "This helps with working with JSON data - we just need to go one layer at a time."
   ]
  }
 ],
 "metadata": {
  "kernelspec": {
   "display_name": "data--n9soBp0",
   "language": "python",
   "name": "python3"
  },
  "language_info": {
   "codemirror_mode": {
    "name": "ipython",
    "version": 3
   },
   "file_extension": ".py",
   "mimetype": "text/x-python",
   "name": "python",
   "nbconvert_exporter": "python",
   "pygments_lexer": "ipython3",
   "version": "3.10.11"
  },
  "orig_nbformat": 4
 },
 "nbformat": 4,
 "nbformat_minor": 2
}
