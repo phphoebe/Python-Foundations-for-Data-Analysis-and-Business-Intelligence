{
 "cells": [
  {
   "attachments": {},
   "cell_type": "markdown",
   "metadata": {},
   "source": [
    "## Dictionary Overview"
   ]
  },
  {
   "attachments": {},
   "cell_type": "markdown",
   "metadata": {},
   "source": [
    "**Dictionaries** store key-value pairs, where keys are used to look up values \n",
    "* **keys** must be unique & immutable _(simple data types like strings are immutable)_\n",
    "* **Values** do not need to be unique and can be any data type\n",
    "\n",
    "\n",
    "Dictionary values can be lists, so to access individual attributes:\n",
    "1. Retrieve the **list** by looking up its **key**\n",
    "2. Retrieve the **list element** by using its **index**\n",
    "\n",
    "You can conduct **membership tests** on dictionary keys"
   ]
  },
  {
   "attachments": {},
   "cell_type": "markdown",
   "metadata": {},
   "source": [
    "## Accessing & Modifying Dictionary Values"
   ]
  },
  {
   "attachments": {},
   "cell_type": "markdown",
   "metadata": {},
   "source": [
    "Referencing a _new_ key and assigning it a value will **add a new key-value pair**, while referencing an _existing_ key will **overwrite the existing pair**"
   ]
  },
  {
   "attachments": {},
   "cell_type": "markdown",
   "metadata": {},
   "source": [
    "Use the **del** keyword to delete key-value pairs"
   ]
  },
  {
   "attachments": {},
   "cell_type": "markdown",
   "metadata": {},
   "source": [
    "## Practice - Dictionary Operations"
   ]
  },
  {
   "cell_type": "code",
   "execution_count": 1,
   "metadata": {},
   "outputs": [],
   "source": [
    "item_prices = {\n",
    "    'skis': 249.99,\n",
    "    'snowboard': 219.99,\n",
    "    'goggles': 99.99,\n",
    "    'boots': [79.99, 89.99]\n",
    "}"
   ]
  },
  {
   "cell_type": "code",
   "execution_count": 2,
   "metadata": {},
   "outputs": [
    {
     "data": {
      "text/plain": [
       "{'skis': 249.99,\n",
       " 'snowboard': 219.99,\n",
       " 'goggles': 99.99,\n",
       " 'boots': [79.99, 89.99]}"
      ]
     },
     "execution_count": 2,
     "metadata": {},
     "output_type": "execute_result"
    }
   ],
   "source": [
    "item_prices"
   ]
  },
  {
   "cell_type": "code",
   "execution_count": 3,
   "metadata": {},
   "outputs": [
    {
     "data": {
      "text/plain": [
       "249.99"
      ]
     },
     "execution_count": 3,
     "metadata": {},
     "output_type": "execute_result"
    }
   ],
   "source": [
    "item_prices['skis'] "
   ]
  },
  {
   "cell_type": "code",
   "execution_count": 4,
   "metadata": {},
   "outputs": [
    {
     "data": {
      "text/plain": [
       "89.99"
      ]
     },
     "execution_count": 4,
     "metadata": {},
     "output_type": "execute_result"
    }
   ],
   "source": [
    "item_prices['boots'][1]"
   ]
  },
  {
   "cell_type": "code",
   "execution_count": 5,
   "metadata": {},
   "outputs": [
    {
     "ename": "KeyError",
     "evalue": "'hat'",
     "output_type": "error",
     "traceback": [
      "\u001b[0;31m---------------------------------------------------------------------------\u001b[0m",
      "\u001b[0;31mKeyError\u001b[0m                                  Traceback (most recent call last)",
      "Cell \u001b[0;32mIn[5], line 1\u001b[0m\n\u001b[0;32m----> 1\u001b[0m item_prices[\u001b[39m'\u001b[39;49m\u001b[39mhat\u001b[39;49m\u001b[39m'\u001b[39;49m] \n",
      "\u001b[0;31mKeyError\u001b[0m: 'hat'"
     ]
    }
   ],
   "source": [
    "item_prices['hat'] # key error"
   ]
  },
  {
   "cell_type": "code",
   "execution_count": 6,
   "metadata": {},
   "outputs": [
    {
     "ename": "KeyError",
     "evalue": "1",
     "output_type": "error",
     "traceback": [
      "\u001b[0;31m---------------------------------------------------------------------------\u001b[0m",
      "\u001b[0;31mKeyError\u001b[0m                                  Traceback (most recent call last)",
      "Cell \u001b[0;32mIn[6], line 1\u001b[0m\n\u001b[0;32m----> 1\u001b[0m item_prices[\u001b[39m1\u001b[39;49m] \n",
      "\u001b[0;31mKeyError\u001b[0m: 1"
     ]
    }
   ],
   "source": [
    "item_prices[1] # key error"
   ]
  },
  {
   "cell_type": "code",
   "execution_count": 7,
   "metadata": {},
   "outputs": [
    {
     "data": {
      "text/plain": [
       "True"
      ]
     },
     "execution_count": 7,
     "metadata": {},
     "output_type": "execute_result"
    }
   ],
   "source": [
    "# perform membership tests on keys\n",
    "\n",
    "'skis' in item_prices"
   ]
  },
  {
   "cell_type": "code",
   "execution_count": 8,
   "metadata": {},
   "outputs": [
    {
     "name": "stdout",
     "output_type": "stream",
     "text": [
      "skis\n",
      "snowboard\n",
      "goggles\n",
      "boots\n"
     ]
    }
   ],
   "source": [
    "# print all keys\n",
    "\n",
    "for item in item_prices:\n",
    "    print(item)"
   ]
  },
  {
   "cell_type": "code",
   "execution_count": 9,
   "metadata": {},
   "outputs": [
    {
     "data": {
      "text/plain": [
       "{'skis': 274.99,\n",
       " 'snowboard': 219.99,\n",
       " 'goggles': 99.99,\n",
       " 'boots': [79.99, 89.99]}"
      ]
     },
     "execution_count": 9,
     "metadata": {},
     "output_type": "execute_result"
    }
   ],
   "source": [
    "# change the value of an existing key\n",
    "\n",
    "item_prices['skis'] = round(item_prices['skis'] * 1.1, 2)\n",
    "\n",
    "item_prices"
   ]
  },
  {
   "cell_type": "code",
   "execution_count": 10,
   "metadata": {},
   "outputs": [],
   "source": [
    "# create a new key-value pair\n",
    "\n",
    "item_prices['hat'] = 14.99"
   ]
  },
  {
   "cell_type": "code",
   "execution_count": 11,
   "metadata": {},
   "outputs": [
    {
     "data": {
      "text/plain": [
       "{'skis': 274.99,\n",
       " 'snowboard': 219.99,\n",
       " 'goggles': 99.99,\n",
       " 'boots': [79.99, 89.99],\n",
       " 'hat': 14.99}"
      ]
     },
     "execution_count": 11,
     "metadata": {},
     "output_type": "execute_result"
    }
   ],
   "source": [
    "item_prices"
   ]
  },
  {
   "cell_type": "code",
   "execution_count": 12,
   "metadata": {},
   "outputs": [],
   "source": [
    "new_items = ['coffee', 'helmet']\n",
    "new_prices = [5.99, 99.99]"
   ]
  },
  {
   "cell_type": "code",
   "execution_count": 13,
   "metadata": {},
   "outputs": [
    {
     "data": {
      "text/plain": [
       "{'skis': 274.99,\n",
       " 'snowboard': 219.99,\n",
       " 'goggles': 99.99,\n",
       " 'boots': [79.99, 89.99],\n",
       " 'hat': 14.99,\n",
       " 'coffee': 5.99,\n",
       " 'helmet': 99.99}"
      ]
     },
     "execution_count": 13,
     "metadata": {},
     "output_type": "execute_result"
    }
   ],
   "source": [
    "# use loop to create new key-value pairs\n",
    "# add new key-value pairs to dictionary\n",
    "\n",
    "for i, item in enumerate(new_items):\n",
    "    item_prices[item] = new_prices[i]\n",
    "\n",
    "item_prices"
   ]
  },
  {
   "cell_type": "code",
   "execution_count": 14,
   "metadata": {},
   "outputs": [],
   "source": [
    "# delete coffee which isn't the same type of product (use the del keyword)\n",
    "\n",
    "del item_prices['coffee']"
   ]
  },
  {
   "cell_type": "code",
   "execution_count": 15,
   "metadata": {},
   "outputs": [
    {
     "data": {
      "text/plain": [
       "{'skis': 274.99,\n",
       " 'snowboard': 219.99,\n",
       " 'goggles': 99.99,\n",
       " 'boots': [79.99, 89.99],\n",
       " 'hat': 14.99,\n",
       " 'helmet': 99.99}"
      ]
     },
     "execution_count": 15,
     "metadata": {},
     "output_type": "execute_result"
    }
   ],
   "source": [
    "item_prices"
   ]
  },
  {
   "cell_type": "code",
   "execution_count": 16,
   "metadata": {},
   "outputs": [],
   "source": [
    "# delete one of the values in the value list, use the same method\n",
    "\n",
    "del item_prices['boots'][1]"
   ]
  },
  {
   "cell_type": "code",
   "execution_count": 17,
   "metadata": {},
   "outputs": [
    {
     "data": {
      "text/plain": [
       "{'skis': 274.99,\n",
       " 'snowboard': 219.99,\n",
       " 'goggles': 99.99,\n",
       " 'boots': [79.99],\n",
       " 'hat': 14.99,\n",
       " 'helmet': 99.99}"
      ]
     },
     "execution_count": 17,
     "metadata": {},
     "output_type": "execute_result"
    }
   ],
   "source": [
    "item_prices"
   ]
  },
  {
   "cell_type": "code",
   "execution_count": 18,
   "metadata": {},
   "outputs": [],
   "source": [
    "# we can also assign new values to the key 'boots' (instead of deleting, we could just reassign the entire value, depends on the situation)\n",
    "\n",
    "item_prices['boots'] = 79.99"
   ]
  },
  {
   "cell_type": "code",
   "execution_count": 19,
   "metadata": {},
   "outputs": [
    {
     "data": {
      "text/plain": [
       "{'skis': 274.99,\n",
       " 'snowboard': 219.99,\n",
       " 'goggles': 99.99,\n",
       " 'boots': 79.99,\n",
       " 'hat': 14.99,\n",
       " 'helmet': 99.99}"
      ]
     },
     "execution_count": 19,
     "metadata": {},
     "output_type": "execute_result"
    }
   ],
   "source": [
    "item_prices"
   ]
  }
 ],
 "metadata": {
  "kernelspec": {
   "display_name": "data--n9soBp0",
   "language": "python",
   "name": "python3"
  },
  "language_info": {
   "codemirror_mode": {
    "name": "ipython",
    "version": 3
   },
   "file_extension": ".py",
   "mimetype": "text/x-python",
   "name": "python",
   "nbconvert_exporter": "python",
   "pygments_lexer": "ipython3",
   "version": "3.10.11"
  },
  "orig_nbformat": 4
 },
 "nbformat": 4,
 "nbformat_minor": 2
}
