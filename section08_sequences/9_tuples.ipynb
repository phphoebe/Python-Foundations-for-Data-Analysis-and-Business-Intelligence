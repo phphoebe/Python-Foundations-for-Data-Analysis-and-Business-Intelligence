{
 "cells": [
  {
   "attachments": {},
   "cell_type": "markdown",
   "metadata": {},
   "source": [
    "## WHY USE TUPLES?"
   ]
  },
  {
   "attachments": {},
   "cell_type": "markdown",
   "metadata": {},
   "source": [
    "### 1. Tuples require **less memory** than a list "
   ]
  },
  {
   "cell_type": "code",
   "execution_count": 2,
   "metadata": {},
   "outputs": [
    {
     "name": "stdout",
     "output_type": "stream",
     "text": [
      "The list is 104 Bytes\n",
      "The tuple is 80 Bytes\n"
     ]
    }
   ],
   "source": [
    "import sys\n",
    "\n",
    "item_list = ['Snowboard', 'Boots', 'Helmet', 'Goggles', 'Bindings']\n",
    "item_tuple = ('Snowboard', 'Boots', 'Helmet', 'Goggles', 'Bindings')\n",
    "\n",
    "print(f\"The list is {sys.getsizeof(item_list)} Bytes\")\n",
    "print(f\"The tuple is {sys.getsizeof(item_tuple)} Bytes\")\n",
    "\n",
    "# For heavy data processing, this can be a huge difference in memory usage."
   ]
  },
  {
   "attachments": {},
   "cell_type": "markdown",
   "metadata": {},
   "source": [
    "### 2. Operations **execute quicker** on tuples than on lists "
   ]
  },
  {
   "cell_type": "code",
   "execution_count": 3,
   "metadata": {},
   "outputs": [
    {
     "name": "stdout",
     "output_type": "stream",
     "text": [
      "0.0003827920008916408\n",
      "5.983300070511177e-05\n"
     ]
    }
   ],
   "source": [
    "# along the same lines, tuples are faster to process than lists\n",
    "\n",
    "import timeit\n",
    "\n",
    "# calculate time of summing list 10000 times \n",
    "print(timeit.timeit(stmt=\"[1,2,3,4,5]\", number=10000))\n",
    "\n",
    "# calculate time of summing tuple 10000 times\n",
    "print(timeit.timeit(stmt=\"(1,2,3,4,5)\", number=10000))\n"
   ]
  },
  {
   "cell_type": "code",
   "execution_count": 4,
   "metadata": {},
   "outputs": [
    {
     "name": "stdout",
     "output_type": "stream",
     "text": [
      "0.0013887909954064526\n",
      "0.0010265419987263158\n"
     ]
    }
   ],
   "source": [
    "# calculate time of summing list 10000 times \n",
    "print(timeit.timeit(\"sum([10.44, 20.56, 200.14, 1242.66, 2.07, 8.01])\", number=10000))\n",
    "\n",
    "# calculate time of summing tuple 10000 times\n",
    "print(timeit.timeit(\"sum((10.44, 20.56, 200.14, 1242.66, 2.07, 8.01))\", number=10000))\n"
   ]
  },
  {
   "attachments": {},
   "cell_type": "markdown",
   "metadata": {},
   "source": [
    "### 3. Tuples **reduce user error** by preventing modification to data "
   ]
  },
  {
   "attachments": {},
   "cell_type": "markdown",
   "metadata": {},
   "source": [
    "* There are cases in which you explicitly do not want others to be able to modify data"
   ]
  },
  {
   "attachments": {},
   "cell_type": "markdown",
   "metadata": {},
   "source": [
    "### 4. Tuples are common output in **imported** functions "
   ]
  },
  {
   "cell_type": "code",
   "execution_count": 5,
   "metadata": {},
   "outputs": [
    {
     "data": {
      "text/plain": [
       "(1, 2, 3)"
      ]
     },
     "execution_count": 5,
     "metadata": {},
     "output_type": "execute_result"
    }
   ],
   "source": [
    "# Even asking to return multiple variables in a code cell returns them as a tuple \n",
    "\n",
    "a = 1\n",
    "b = 2\n",
    "c = 3\n",
    "\n",
    "a, b, c \n",
    "\n",
    "# retuns a tuple by default"
   ]
  },
  {
   "attachments": {},
   "cell_type": "markdown",
   "metadata": {},
   "source": [
    "## Practice"
   ]
  },
  {
   "cell_type": "code",
   "execution_count": 6,
   "metadata": {},
   "outputs": [],
   "source": [
    "price_tuple = ('$3.50', '$99.99', '$149.99')"
   ]
  },
  {
   "cell_type": "code",
   "execution_count": 7,
   "metadata": {},
   "outputs": [
    {
     "data": {
      "text/plain": [
       "'$3.50'"
      ]
     },
     "execution_count": 7,
     "metadata": {},
     "output_type": "execute_result"
    }
   ],
   "source": [
    "# grab the 1st element \n",
    "price_tuple[0]"
   ]
  },
  {
   "cell_type": "code",
   "execution_count": 8,
   "metadata": {},
   "outputs": [
    {
     "data": {
      "text/plain": [
       "('$99.99', '$149.99')"
      ]
     },
     "execution_count": 8,
     "metadata": {},
     "output_type": "execute_result"
    }
   ],
   "source": [
    "# slice a tuple - grab the last 2 elements\n",
    "price_tuple[-2:] # or price_tuple[1:]"
   ]
  },
  {
   "cell_type": "code",
   "execution_count": 9,
   "metadata": {},
   "outputs": [
    {
     "data": {
      "text/plain": [
       "True"
      ]
     },
     "execution_count": 9,
     "metadata": {},
     "output_type": "execute_result"
    }
   ],
   "source": [
    "# We can also conduct Membership Tests on tuples\n",
    "\n",
    "'$3.50' in price_tuple"
   ]
  },
  {
   "cell_type": "code",
   "execution_count": 10,
   "metadata": {},
   "outputs": [
    {
     "ename": "TypeError",
     "evalue": "'tuple' object does not support item assignment",
     "output_type": "error",
     "traceback": [
      "\u001b[0;31m---------------------------------------------------------------------------\u001b[0m",
      "\u001b[0;31mTypeError\u001b[0m                                 Traceback (most recent call last)",
      "Cell \u001b[0;32mIn[10], line 4\u001b[0m\n\u001b[1;32m      1\u001b[0m \u001b[39m# we can't modify the values inside of tuples, \u001b[39;00m\n\u001b[1;32m      2\u001b[0m \u001b[39m# nor can we add or remove elements from a tuple\u001b[39;00m\n\u001b[0;32m----> 4\u001b[0m price_tuple[\u001b[39m0\u001b[39;49m] \u001b[39m=\u001b[39m \u001b[39m'\u001b[39m\u001b[39m$3.99\u001b[39m\u001b[39m'\u001b[39m\n",
      "\u001b[0;31mTypeError\u001b[0m: 'tuple' object does not support item assignment"
     ]
    }
   ],
   "source": [
    "# we can't modify the values inside of tuples, \n",
    "# nor can we add or remove elements from a tuple\n",
    "\n",
    "price_tuple[0] = '$3.99'"
   ]
  },
  {
   "cell_type": "code",
   "execution_count": 11,
   "metadata": {},
   "outputs": [
    {
     "ename": "AttributeError",
     "evalue": "'tuple' object has no attribute 'append'",
     "output_type": "error",
     "traceback": [
      "\u001b[0;31m---------------------------------------------------------------------------\u001b[0m",
      "\u001b[0;31mAttributeError\u001b[0m                            Traceback (most recent call last)",
      "Cell \u001b[0;32mIn[11], line 3\u001b[0m\n\u001b[1;32m      1\u001b[0m \u001b[39m# again, tuples are immutable\u001b[39;00m\n\u001b[0;32m----> 3\u001b[0m price_tuple\u001b[39m.\u001b[39;49mappend(\u001b[39m'\u001b[39m\u001b[39m$19.99\u001b[39m\u001b[39m'\u001b[39m)\n",
      "\u001b[0;31mAttributeError\u001b[0m: 'tuple' object has no attribute 'append'"
     ]
    }
   ],
   "source": [
    "# again, tuples are immutable\n",
    "\n",
    "price_tuple.append('$19.99')"
   ]
  },
  {
   "cell_type": "code",
   "execution_count": 12,
   "metadata": {},
   "outputs": [
    {
     "data": {
      "text/plain": [
       "['$3.50', '$99.99', '$149.99']"
      ]
     },
     "execution_count": 12,
     "metadata": {},
     "output_type": "execute_result"
    }
   ],
   "source": [
    "list(price_tuple) # convert tuple to list"
   ]
  },
  {
   "cell_type": "code",
   "execution_count": 13,
   "metadata": {},
   "outputs": [
    {
     "name": "stdout",
     "output_type": "stream",
     "text": [
      "$3.50 $99.99\n"
     ]
    }
   ],
   "source": [
    "# tuple unpacking\n",
    "\n",
    "price1, price2, price3 = price_tuple\n",
    "\n",
    "print(price1, price2)"
   ]
  },
  {
   "cell_type": "code",
   "execution_count": 15,
   "metadata": {},
   "outputs": [
    {
     "data": {
      "text/plain": [
       "3.5"
      ]
     },
     "execution_count": 15,
     "metadata": {},
     "output_type": "execute_result"
    }
   ],
   "source": [
    "# in order to do data analysis \n",
    "\n",
    "float(price1.strip('$')) # convert string to float"
   ]
  },
  {
   "cell_type": "code",
   "execution_count": 16,
   "metadata": {},
   "outputs": [
    {
     "data": {
      "text/plain": [
       "103.49"
      ]
     },
     "execution_count": 16,
     "metadata": {},
     "output_type": "execute_result"
    }
   ],
   "source": [
    "float(price1.strip('$')) + float(price2.strip('$')) "
   ]
  }
 ],
 "metadata": {
  "kernelspec": {
   "display_name": "data--n9soBp0",
   "language": "python",
   "name": "python3"
  },
  "language_info": {
   "codemirror_mode": {
    "name": "ipython",
    "version": 3
   },
   "file_extension": ".py",
   "mimetype": "text/x-python",
   "name": "python",
   "nbconvert_exporter": "python",
   "pygments_lexer": "ipython3",
   "version": "3.10.11"
  },
  "orig_nbformat": 4
 },
 "nbformat": 4,
 "nbformat_minor": 2
}
