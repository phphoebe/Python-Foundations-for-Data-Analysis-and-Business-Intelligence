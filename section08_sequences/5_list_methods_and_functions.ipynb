{
 "cells": [
  {
   "attachments": {},
   "cell_type": "markdown",
   "metadata": {},
   "source": [
    "### LIST FUNCTIONS"
   ]
  },
  {
   "attachments": {},
   "cell_type": "markdown",
   "metadata": {},
   "source": [
    "\n",
    "**len(list_name)** Returns the number of elements in a list\n",
    "\n",
    "**sum(list_name)** Returns the sum of elements in the list\n",
    "\n",
    "**min(list_name)** Returns the smallest of elements in the list\n",
    "\n",
    "**max(list_name)** Returns the largest of elements in the list\n"
   ]
  },
  {
   "attachments": {},
   "cell_type": "markdown",
   "metadata": {},
   "source": [
    "There are two ways to **sort** lists elements:\n",
    "1. The **.sort()** method sorts the list permanently _(in place)_\n",
    "2. The **sorted** function retuns a sorted list, but does not change the original _(not in place)_\n",
    "\n",
    "**PRO TIP:** Don't sort in place until you're positive the code works as expected and you no longer need to preserve the original list"
   ]
  },
  {
   "attachments": {},
   "cell_type": "markdown",
   "metadata": {},
   "source": [
    "### LIST METHODS"
   ]
  },
  {
   "attachments": {},
   "cell_type": "markdown",
   "metadata": {},
   "source": [
    "\n",
    "**.index(_value_)** Returns the index of a specified value within a list (returns -1 if not found)\n",
    "\n",
    "**.count()** Counts the number of times a given value occurs in a list\n",
    "\n",
    "**.reverse()** Reverses the order of the list elements in place (is going to permanently change the list)\n",
    "\n",
    "**PRO TIP:** Use a negative slice to reverse the order \"not in place\""
   ]
  }
 ],
 "metadata": {
  "language_info": {
   "name": "python"
  },
  "orig_nbformat": 4
 },
 "nbformat": 4,
 "nbformat_minor": 2
}
