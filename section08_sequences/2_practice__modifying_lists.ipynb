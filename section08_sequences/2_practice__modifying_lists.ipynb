{
 "cells": [
  {
   "cell_type": "code",
   "execution_count": null,
   "metadata": {},
   "outputs": [],
   "source": [
    "# .append(element) -- adds element to the end of the list\n",
    "# .insert(index, element) -- inserts element at the given index, shifting elements to the right (adds an element to the specified index in the list)\n",
    "\n",
    "# combining & repeating lists -- Lists can be combined, or concatenated, with + and repeated with * (just like strings)\n",
    "\n",
    "# Removing list elements -- There are two ways to remove list elements:\n",
    "    # 1. del statement -- If you know the index of the element you want, you can use the del statement: del list[index]\n",
    "    # The del keyword deletes the selected elements from the list and shifts and shortens the list.\n",
    "    # 2. .remove(element) -- If you know the value of the element you want to remove, you can use the .remove(element) method.\n",
    "    # The .remove(element) method deletes the first instance/occurrence of the specified value from the list. "
   ]
  },
  {
   "cell_type": "code",
   "execution_count": 1,
   "metadata": {},
   "outputs": [
    {
     "data": {
      "text/plain": [
       "['C00001', 'C00003', 'C00005', 'C00010']"
      ]
     },
     "execution_count": 1,
     "metadata": {},
     "output_type": "execute_result"
    }
   ],
   "source": [
    "customer_ids = ['C00001', 'C00003', 'C00005', 'C00010']\n",
    "\n",
    "customer_ids"
   ]
  },
  {
   "cell_type": "code",
   "execution_count": 2,
   "metadata": {},
   "outputs": [
    {
     "data": {
      "text/plain": [
       "['C00001', 'C00004', 'C00005', 'C00010']"
      ]
     },
     "execution_count": 2,
     "metadata": {},
     "output_type": "execute_result"
    }
   ],
   "source": [
    "customer_ids[1] = 'C00004' # we can only use this method to change an element, not add a new element \n",
    "\n",
    "customer_ids"
   ]
  },
  {
   "cell_type": "code",
   "execution_count": 3,
   "metadata": {},
   "outputs": [
    {
     "data": {
      "text/plain": [
       "['C00001', 'C00004', 'C00005', 'C00010', 'C00011']"
      ]
     },
     "execution_count": 3,
     "metadata": {},
     "output_type": "execute_result"
    }
   ],
   "source": [
    "customer_ids.append('C00011') # adds a new element to the end of the list\n",
    "\n",
    "customer_ids"
   ]
  },
  {
   "cell_type": "code",
   "execution_count": 4,
   "metadata": {},
   "outputs": [
    {
     "data": {
      "text/plain": [
       "['C00001', 'C00003', 'C00004', 'C00005', 'C00010', 'C00011']"
      ]
     },
     "execution_count": 4,
     "metadata": {},
     "output_type": "execute_result"
    }
   ],
   "source": [
    "customer_ids.insert(1, 'C00003') # adds back the element we changed in the list\n",
    "\n",
    "customer_ids"
   ]
  },
  {
   "cell_type": "code",
   "execution_count": 5,
   "metadata": {},
   "outputs": [
    {
     "data": {
      "text/plain": [
       "['C00001',\n",
       " 'C00003',\n",
       " 'C00004',\n",
       " 'C00005',\n",
       " 'C00010',\n",
       " 'C00011',\n",
       " 'C00012',\n",
       " 'C00015']"
      ]
     },
     "execution_count": 5,
     "metadata": {},
     "output_type": "execute_result"
    }
   ],
   "source": [
    "new_customer_ids = ['C00012', 'C00015']\n",
    "\n",
    "all_customers = customer_ids + new_customer_ids # using the addition operator to combine the two lists\n",
    "\n",
    "all_customers"
   ]
  },
  {
   "cell_type": "code",
   "execution_count": 6,
   "metadata": {},
   "outputs": [
    {
     "data": {
      "text/plain": [
       "['C00001', 'C00004', 'C00005', 'C00010', 'C00011', 'C00012', 'C00015']"
      ]
     },
     "execution_count": 6,
     "metadata": {},
     "output_type": "execute_result"
    }
   ],
   "source": [
    "del all_customers[1] \n",
    "\n",
    "all_customers"
   ]
  },
  {
   "cell_type": "code",
   "execution_count": 7,
   "metadata": {},
   "outputs": [
    {
     "data": {
      "text/plain": [
       "['C00001', 'C00004', 'C00010', 'C00011', 'C00012', 'C00015']"
      ]
     },
     "execution_count": 7,
     "metadata": {},
     "output_type": "execute_result"
    }
   ],
   "source": [
    "# assume customer 1 and customer 5 are duplicates and we should only have one of them in the list\n",
    "\n",
    "if 'C00001' in all_customers:\n",
    "    all_customers.remove('C00005')\n",
    "\n",
    "all_customers"
   ]
  }
 ],
 "metadata": {
  "kernelspec": {
   "display_name": "data--n9soBp0",
   "language": "python",
   "name": "python3"
  },
  "language_info": {
   "codemirror_mode": {
    "name": "ipython",
    "version": 3
   },
   "file_extension": ".py",
   "mimetype": "text/x-python",
   "name": "python",
   "nbconvert_exporter": "python",
   "pygments_lexer": "ipython3",
   "version": "3.10.11"
  },
  "orig_nbformat": 4
 },
 "nbformat": 4,
 "nbformat_minor": 2
}
