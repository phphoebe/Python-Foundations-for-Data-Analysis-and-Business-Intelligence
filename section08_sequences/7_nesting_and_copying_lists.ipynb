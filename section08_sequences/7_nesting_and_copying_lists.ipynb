{
 "cells": [
  {
   "attachments": {},
   "cell_type": "markdown",
   "metadata": {},
   "source": [
    "### There are 3 different ways to copy lists:\n",
    "\n",
    "1. **Variable assignment** - assigning a list to a new variable creates a \"view\"\n",
    "    * _Any changes made to one of the lists will be reflected in the other_\n",
    "\n",
    "2. **.copy()** - applying this method to a list creates a 'shallow' copy\n",
    "    * _Changes to entire elements (nested lists) will not carry over between original and copy_\n",
    "    * _Changes to individual elements within a nested list will still be reflected in both_\n",
    "\n",
    "3. **.deepcopy()** -- using this function on alist creates entirely independent lists \n",
    "    * _Any changes made to one of the lists will NOT impact the other_ (very rarely used)\n",
    "    * this funciton is not part of base Python, so the copy library must be imported: from copy import deepcopy"
   ]
  },
  {
   "cell_type": "code",
   "execution_count": 1,
   "metadata": {},
   "outputs": [],
   "source": [
    "items = ['skis', 'snowboards', 'goggles', 'boots']\n",
    "\n",
    "item_details = [[5, 249.99], [0, 219.99], [0, 99.99], [12, 79.99]] # [inventory, price]"
   ]
  },
  {
   "cell_type": "code",
   "execution_count": 2,
   "metadata": {},
   "outputs": [
    {
     "data": {
      "text/plain": [
       "[0, 219.99]"
      ]
     },
     "execution_count": 2,
     "metadata": {},
     "output_type": "execute_result"
    }
   ],
   "source": [
    "item_details[1]"
   ]
  },
  {
   "cell_type": "code",
   "execution_count": 3,
   "metadata": {},
   "outputs": [
    {
     "data": {
      "text/plain": [
       "219.99"
      ]
     },
     "execution_count": 3,
     "metadata": {},
     "output_type": "execute_result"
    }
   ],
   "source": [
    "item_details[1][1]"
   ]
  },
  {
   "cell_type": "code",
   "execution_count": 5,
   "metadata": {},
   "outputs": [
    {
     "data": {
      "text/plain": [
       "274.99"
      ]
     },
     "execution_count": 5,
     "metadata": {},
     "output_type": "execute_result"
    }
   ],
   "source": [
    "# 10% increase in price (what it would look like)\n",
    "round(item_details[0][1] * 1.1, 2)"
   ]
  },
  {
   "cell_type": "code",
   "execution_count": 6,
   "metadata": {},
   "outputs": [
    {
     "data": {
      "text/plain": [
       "[[5, 249.99], [0, 219.99], [0, 99.99], [12, 79.99]]"
      ]
     },
     "execution_count": 6,
     "metadata": {},
     "output_type": "execute_result"
    }
   ],
   "source": [
    "# know what our winter price for skis looks like, start to create a winter plan list\n",
    "\n",
    "# both of these objects are pointing to the same nested lists in memory\n",
    "# so if I make a change to one of these lists, the change will be reflected in the other list\n",
    "\n",
    "winter_deals = item_details # assign the list to a new variable\n",
    "\n",
    "winter_deals"
   ]
  },
  {
   "cell_type": "code",
   "execution_count": 7,
   "metadata": {},
   "outputs": [
    {
     "data": {
      "text/plain": [
       "[[100, 274.99], [0, 219.99], [0, 99.99], [12, 79.99]]"
      ]
     },
     "execution_count": 7,
     "metadata": {},
     "output_type": "execute_result"
    }
   ],
   "source": [
    "winter_deals[0] = [100, 274.99]\n",
    "\n",
    "winter_deals"
   ]
  },
  {
   "cell_type": "code",
   "execution_count": 8,
   "metadata": {},
   "outputs": [
    {
     "data": {
      "text/plain": [
       "[[100, 274.99], [0, 219.99], [0, 99.99], [12, 79.99]]"
      ]
     },
     "execution_count": 8,
     "metadata": {},
     "output_type": "execute_result"
    }
   ],
   "source": [
    "item_details"
   ]
  },
  {
   "cell_type": "code",
   "execution_count": 9,
   "metadata": {},
   "outputs": [],
   "source": [
    "# recreate our item_details list\n",
    "item_details = [[5, 249.99], [0, 219.99], [0, 99.99], [12, 79.99]]"
   ]
  },
  {
   "cell_type": "code",
   "execution_count": 10,
   "metadata": {},
   "outputs": [
    {
     "data": {
      "text/plain": [
       "[[5, 249.99], [0, 219.99], [0, 99.99], [12, 79.99]]"
      ]
     },
     "execution_count": 10,
     "metadata": {},
     "output_type": "execute_result"
    }
   ],
   "source": [
    "# this is going to create a separate outer list in memory\n",
    "# but the inner lists will still be pointing to the same memory location\n",
    "\n",
    "winter_deals = item_details.copy() # create a copy of the list\n",
    "\n",
    "winter_deals"
   ]
  },
  {
   "cell_type": "code",
   "execution_count": 11,
   "metadata": {},
   "outputs": [
    {
     "data": {
      "text/plain": [
       "[[100, 274.99], [0, 219.99], [0, 99.99], [12, 79.99]]"
      ]
     },
     "execution_count": 11,
     "metadata": {},
     "output_type": "execute_result"
    }
   ],
   "source": [
    "# now perform the same change to the winter_deals list\n",
    "\n",
    "winter_deals[0] = [100, 274.99]\n",
    "\n",
    "winter_deals"
   ]
  },
  {
   "cell_type": "code",
   "execution_count": 12,
   "metadata": {},
   "outputs": [
    {
     "data": {
      "text/plain": [
       "[[5, 249.99], [0, 219.99], [0, 99.99], [12, 79.99]]"
      ]
     },
     "execution_count": 12,
     "metadata": {},
     "output_type": "execute_result"
    }
   ],
   "source": [
    "# as long as I replace an entire object in memory, these lists aren't going to be linked/connected\n",
    "item_details"
   ]
  },
  {
   "cell_type": "code",
   "execution_count": 13,
   "metadata": {},
   "outputs": [
    {
     "data": {
      "text/plain": [
       "[[100, 274.99], [50, 219.99], [0, 99.99], [12, 79.99]]"
      ]
     },
     "execution_count": 13,
     "metadata": {},
     "output_type": "execute_result"
    }
   ],
   "source": [
    "# but maybe for winter i want to keep the price the same for my snowboard, but I want to change my inventory level to 50\n",
    "\n",
    "winter_deals[1][0] = 50\n",
    "\n",
    "winter_deals"
   ]
  },
  {
   "cell_type": "code",
   "execution_count": 14,
   "metadata": {},
   "outputs": [
    {
     "data": {
      "text/plain": [
       "[[5, 249.99], [50, 219.99], [0, 99.99], [12, 79.99]]"
      ]
     },
     "execution_count": 14,
     "metadata": {},
     "output_type": "execute_result"
    }
   ],
   "source": [
    "# when I only change a single element of a nested list, our lists are still pointing to the same nested lists in memory\n",
    "# the change will be reflected in both lists (this is where deepcopy()) comes in)\n",
    "\n",
    "item_details"
   ]
  },
  {
   "cell_type": "code",
   "execution_count": 15,
   "metadata": {},
   "outputs": [],
   "source": [
    "# recreate our item_details list\n",
    "item_details = [[5, 249.99], [0, 219.99], [0, 99.99], [12, 79.99]]"
   ]
  },
  {
   "cell_type": "code",
   "execution_count": 16,
   "metadata": {},
   "outputs": [
    {
     "data": {
      "text/plain": [
       "[[5, 249.99], [0, 219.99], [0, 99.99], [12, 79.99]]"
      ]
     },
     "execution_count": 16,
     "metadata": {},
     "output_type": "execute_result"
    }
   ],
   "source": [
    "from copy import deepcopy\n",
    "\n",
    "winter_deals = deepcopy(item_details)\n",
    "\n",
    "winter_deals"
   ]
  },
  {
   "cell_type": "code",
   "execution_count": 18,
   "metadata": {},
   "outputs": [
    {
     "data": {
      "text/plain": [
       "[[100, 274.99], [0, 219.99], [0, 99.99], [12, 79.99]]"
      ]
     },
     "execution_count": 18,
     "metadata": {},
     "output_type": "execute_result"
    }
   ],
   "source": [
    "winter_deals[0] = [100, 274.99]\n",
    "\n",
    "winter_deals"
   ]
  },
  {
   "cell_type": "code",
   "execution_count": 19,
   "metadata": {},
   "outputs": [
    {
     "data": {
      "text/plain": [
       "[[5, 249.99], [0, 219.99], [0, 99.99], [12, 79.99]]"
      ]
     },
     "execution_count": 19,
     "metadata": {},
     "output_type": "execute_result"
    }
   ],
   "source": [
    "# item_details has remain unchanged\n",
    "\n",
    "item_details"
   ]
  },
  {
   "cell_type": "code",
   "execution_count": 20,
   "metadata": {},
   "outputs": [
    {
     "data": {
      "text/plain": [
       "[[100, 274.99], [50, 219.99], [0, 99.99], [12, 79.99]]"
      ]
     },
     "execution_count": 20,
     "metadata": {},
     "output_type": "execute_result"
    }
   ],
   "source": [
    "winter_deals[1][0] = 50\n",
    "\n",
    "winter_deals"
   ]
  },
  {
   "cell_type": "code",
   "execution_count": 21,
   "metadata": {},
   "outputs": [
    {
     "data": {
      "text/plain": [
       "[[5, 249.99], [0, 219.99], [0, 99.99], [12, 79.99]]"
      ]
     },
     "execution_count": 21,
     "metadata": {},
     "output_type": "execute_result"
    }
   ],
   "source": [
    "item_details"
   ]
  }
 ],
 "metadata": {
  "kernelspec": {
   "display_name": "data--n9soBp0",
   "language": "python",
   "name": "python3"
  },
  "language_info": {
   "codemirror_mode": {
    "name": "ipython",
    "version": 3
   },
   "file_extension": ".py",
   "mimetype": "text/x-python",
   "name": "python",
   "nbconvert_exporter": "python",
   "pygments_lexer": "ipython3",
   "version": "3.10.11"
  },
  "orig_nbformat": 4
 },
 "nbformat": 4,
 "nbformat_minor": 2
}
