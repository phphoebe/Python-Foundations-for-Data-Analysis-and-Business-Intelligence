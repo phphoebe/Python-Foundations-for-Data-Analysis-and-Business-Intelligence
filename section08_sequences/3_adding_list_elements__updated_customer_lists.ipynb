{
 "cells": [
  {
   "attachments": {},
   "cell_type": "markdown",
   "id": "80f78a5d",
   "metadata": {},
   "source": [
    "### Updated Customer Lists\n",
    "\n",
    "Hi there, we need to add customer 'C00009' to `customer_list`, we just found their receipt in the warehouse.\n",
    "\n",
    "I've included the original `customer_list` below."
   ]
  },
  {
   "cell_type": "code",
   "execution_count": 1,
   "id": "ae8b954c",
   "metadata": {},
   "outputs": [],
   "source": [
    "customer_list = [\n",
    "    'C00001', 'C00003', 'C00004','C00005', 'C00006', \n",
    "    'C00007', 'C00008', 'C00010', 'C00013', 'C00014', \n",
    "    'C00015', 'C00016', 'C00020'\n",
    "]"
   ]
  },
  {
   "cell_type": "code",
   "execution_count": null,
   "id": "ed0b3c31",
   "metadata": {},
   "outputs": [],
   "source": [
    "# Add C00009 to end of list (if we don't care about the order)\n",
    "customer_list.append('C00009')\n",
    "\n",
    "customer_list"
   ]
  },
  {
   "cell_type": "code",
   "execution_count": 2,
   "id": "325d8278",
   "metadata": {},
   "outputs": [
    {
     "data": {
      "text/plain": [
       "['C00001',\n",
       " 'C00003',\n",
       " 'C00004',\n",
       " 'C00005',\n",
       " 'C00006',\n",
       " 'C00007',\n",
       " 'C00008',\n",
       " 'C00009',\n",
       " 'C00010',\n",
       " 'C00013',\n",
       " 'C00014',\n",
       " 'C00015',\n",
       " 'C00016',\n",
       " 'C00020']"
      ]
     },
     "execution_count": 2,
     "metadata": {},
     "output_type": "execute_result"
    }
   ],
   "source": [
    "# if we want to maintain the numerical order of the list, we can use the insert method\n",
    "\n",
    "customer_list.insert(7, 'C00009')\n",
    "\n",
    "customer_list\n",
    "\n",
    "# we have 'C00009' twice now, so we can remove the first instance of it or just restart the kernel (not run the above cell)"
   ]
  },
  {
   "attachments": {},
   "cell_type": "markdown",
   "id": "dd19810a",
   "metadata": {},
   "source": [
    "### Adding Saturday Customers\n",
    "\n",
    "Add the customers from `saturday_list` to `customer_list` below."
   ]
  },
  {
   "cell_type": "code",
   "execution_count": 4,
   "id": "f2fd414a",
   "metadata": {},
   "outputs": [],
   "source": [
    "saturday_list = [\n",
    "    'C00004', 'C00017', 'C00019', 'C00002', 'C00008',\n",
    "    'C00021', 'C00022'\n",
    "]"
   ]
  },
  {
   "cell_type": "code",
   "execution_count": 5,
   "id": "6d1c10d4",
   "metadata": {},
   "outputs": [
    {
     "data": {
      "text/plain": [
       "['C00001',\n",
       " 'C00003',\n",
       " 'C00004',\n",
       " 'C00005',\n",
       " 'C00006',\n",
       " 'C00007',\n",
       " 'C00008',\n",
       " 'C00009',\n",
       " 'C00010',\n",
       " 'C00013',\n",
       " 'C00014',\n",
       " 'C00015',\n",
       " 'C00016',\n",
       " 'C00020',\n",
       " 'C00004',\n",
       " 'C00017',\n",
       " 'C00019',\n",
       " 'C00002',\n",
       " 'C00008',\n",
       " 'C00021',\n",
       " 'C00022']"
      ]
     },
     "execution_count": 5,
     "metadata": {},
     "output_type": "execute_result"
    }
   ],
   "source": [
    "customer_list = customer_list + saturday_list\n",
    "\n",
    "# or use the extend method: customer_list.extend(saturday_list)\n",
    "\n",
    "customer_list"
   ]
  }
 ],
 "metadata": {
  "kernelspec": {
   "display_name": "Python 3 (ipykernel)",
   "language": "python",
   "name": "python3"
  },
  "language_info": {
   "codemirror_mode": {
    "name": "ipython",
    "version": 3
   },
   "file_extension": ".py",
   "mimetype": "text/x-python",
   "name": "python",
   "nbconvert_exporter": "python",
   "pygments_lexer": "ipython3",
   "version": "3.10.11"
  }
 },
 "nbformat": 4,
 "nbformat_minor": 5
}
