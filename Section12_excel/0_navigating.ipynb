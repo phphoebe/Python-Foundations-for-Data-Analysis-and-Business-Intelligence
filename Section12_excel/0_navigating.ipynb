{
 "cells": [
  {
   "attachments": {},
   "cell_type": "markdown",
   "metadata": {},
   "source": [
    "## Navigating Workbooks"
   ]
  },
  {
   "attachments": {},
   "cell_type": "markdown",
   "metadata": {},
   "source": [
    "The `load_workbook()` function reads in an Excel workbook \n",
    "\n",
    "```python\n",
    "import openpyxl as xl\n",
    "\n",
    "workbook = xl.load_workbook(filename='maven_ski_shop_data.xlsx')\n",
    "```"
   ]
  },
  {
   "attachments": {},
   "cell_type": "markdown",
   "metadata": {},
   "source": [
    "`workbook.sheetnames` returns the worksheet names in a workbook \n",
    "\n",
    "_Note that `workbook` is simply a variable name that stores the workbook object_\n",
    "\n",
    "_Using this intuitive name makes the code easier to read, but any name can be used instead (`wb` is common as well)_"
   ]
  },
  {
   "attachments": {},
   "cell_type": "markdown",
   "metadata": {},
   "source": [
    "## Navigating Worksheets"
   ]
  },
  {
   "attachments": {},
   "cell_type": "markdown",
   "metadata": {},
   "source": [
    "`workbook.active` returns the name of the worksheet openpyxl is pointed to\n",
    "\n",
    "Add `.title` to return the title as text: `workbook.active.title` \n",
    "\n",
    "_The first sheet (value of 0) is active by default, but you can change it by assigning the sheet's index to `workbook.active`_\n",
    "```python\n",
    "workbook.active = 1\n",
    "workbook.active\n",
    "```"
   ]
  },
  {
   "attachments": {},
   "cell_type": "markdown",
   "metadata": {},
   "source": [
    "Sheets can also be `referenced by name` (like dictionary keys)\n",
    "\n",
    "`workbook['Item_Info']`\n",
    "\n",
    "_Assign sheet names to variables to make the workbook easier to navigate_\n",
    "\n",
    "```python\n",
    "items = workbook['Item_Info']\n",
    "inventory = workbook['Inventory_Levels']\n",
    "orders = workbook['Orders_Info']\n",
    "```"
   ]
  },
  {
   "attachments": {},
   "cell_type": "markdown",
   "metadata": {},
   "source": [
    "## Navigating Cells"
   ]
  },
  {
   "attachments": {},
   "cell_type": "markdown",
   "metadata": {},
   "source": [
    "You can `navigate cells` by using `A1` style coordinates, or Python-esque indices\n",
    "\n",
    "`sheet['coordinate']` returns the specified cell object, and `cell.value` returns the cell's contents \n",
    "\n",
    "`items['B1']` -- *remember that 'items' is the anme assigned to workbook ['Item_Info']*\n",
    "\n",
    "```python\n",
    "print(items[\"B1\"].value)\n",
    "print(items[\"B4\"].value)\n",
    "```\n",
    "\n",
    "`sheet.cell(row=, column=)` returns cell objects as well \n",
    "\n",
    "```python\n",
    "items.cell(row=4, column=2).value\n",
    "```\n",
    "_Note - `row=4` is equivalent to `B4` (0 indexing doesn't apply!)_"
   ]
  },
  {
   "attachments": {},
   "cell_type": "markdown",
   "metadata": {},
   "source": [
    "## Practice"
   ]
  },
  {
   "cell_type": "code",
   "execution_count": 1,
   "metadata": {},
   "outputs": [],
   "source": [
    "import openpyxl as xl"
   ]
  },
  {
   "cell_type": "code",
   "execution_count": 3,
   "metadata": {},
   "outputs": [],
   "source": [
    "wb = xl.load_workbook(filename='maven_ski_shop_data.xlsx')"
   ]
  },
  {
   "cell_type": "code",
   "execution_count": 4,
   "metadata": {},
   "outputs": [
    {
     "data": {
      "text/plain": [
       "'Quantity_in_stock'"
      ]
     },
     "execution_count": 4,
     "metadata": {},
     "output_type": "execute_result"
    }
   ],
   "source": [
    "wb['Inventory_Levels']['B1'].value"
   ]
  },
  {
   "cell_type": "code",
   "execution_count": 5,
   "metadata": {},
   "outputs": [],
   "source": [
    "inventory = wb['Inventory_Levels']"
   ]
  },
  {
   "cell_type": "code",
   "execution_count": 6,
   "metadata": {},
   "outputs": [
    {
     "data": {
      "text/plain": [
       "'Quantity_in_stock'"
      ]
     },
     "execution_count": 6,
     "metadata": {},
     "output_type": "execute_result"
    }
   ],
   "source": [
    "inventory['B1'].value"
   ]
  },
  {
   "cell_type": "code",
   "execution_count": 7,
   "metadata": {},
   "outputs": [
    {
     "data": {
      "text/plain": [
       "<Cell 'Inventory_Levels'.B1>"
      ]
     },
     "execution_count": 7,
     "metadata": {},
     "output_type": "execute_result"
    }
   ],
   "source": [
    "inventory['B1']"
   ]
  },
  {
   "cell_type": "code",
   "execution_count": 8,
   "metadata": {},
   "outputs": [
    {
     "data": {
      "text/plain": [
       "100"
      ]
     },
     "execution_count": 8,
     "metadata": {},
     "output_type": "execute_result"
    }
   ],
   "source": [
    "inventory['B2'].value"
   ]
  },
  {
   "cell_type": "code",
   "execution_count": 9,
   "metadata": {},
   "outputs": [
    {
     "name": "stdout",
     "output_type": "stream",
     "text": [
      "Healthy Stock\n"
     ]
    }
   ],
   "source": [
    "if inventory['B2'].value < 5:\n",
    "    print('Low Stock')\n",
    "else:\n",
    "    print('Healthy Stock')"
   ]
  }
 ],
 "metadata": {
  "kernelspec": {
   "display_name": "maven-python",
   "language": "python",
   "name": "maven-python"
  },
  "language_info": {
   "codemirror_mode": {
    "name": "ipython",
    "version": 3
   },
   "file_extension": ".py",
   "mimetype": "text/x-python",
   "name": "python",
   "nbconvert_exporter": "python",
   "pygments_lexer": "ipython3",
   "version": "3.10.11"
  },
  "orig_nbformat": 4
 },
 "nbformat": 4,
 "nbformat_minor": 2
}
