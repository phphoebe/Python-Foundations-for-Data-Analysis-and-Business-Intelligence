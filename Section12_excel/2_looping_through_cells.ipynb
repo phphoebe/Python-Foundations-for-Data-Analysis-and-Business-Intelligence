{
 "cells": [
  {
   "attachments": {},
   "cell_type": "markdown",
   "metadata": {},
   "source": [
    "## Looping Through Cells"
   ]
  },
  {
   "attachments": {},
   "cell_type": "markdown",
   "metadata": {},
   "source": [
    "### Determining Sheet Ranges"
   ]
  },
  {
   "attachments": {},
   "cell_type": "markdown",
   "metadata": {},
   "source": [
    "`sheet.max_row` and `sheet.max_column` help determine the number of rows and columns with data in a worksheet, to then use as stopping conditions for loops"
   ]
  },
  {
   "attachments": {},
   "cell_type": "markdown",
   "metadata": {},
   "source": [
    "*This returns the index of the last row with data*\n",
    "\n",
    "```python\n",
    "items.max_row\n",
    "```\n",
    "14\n",
    "\n",
    "*This returns the index of the last column with data ('E' is the fifth column)*\n",
    "\n",
    "```python\n",
    "items.max_column\n",
    "```\n",
    "5"
   ]
  },
  {
   "attachments": {},
   "cell_type": "markdown",
   "metadata": {},
   "source": [
    "### Looping Through Cells"
   ]
  },
  {
   "attachments": {},
   "cell_type": "markdown",
   "metadata": {},
   "source": [
    "Excel columns usually contain data fields, while rows contain individual records\n",
    "\n",
    "To **loop through cells** in a column, you need to move row by row in that column"
   ]
  },
  {
   "attachments": {},
   "cell_type": "markdown",
   "metadata": {},
   "source": [
    "```python\n",
    "for row in range(1, items.max_row + 1):\n",
    "    print(f'B{row}', items[f'B{row}'].value)\n",
    "```\n",
    "\n",
    "How does the above code work?\n",
    "* The for loop is iterating through each **row** in a specified range\n",
    "* Since the end of **range** is not inclusive, we need to stop at `items.max_row + 1`\n",
    "* The range goes from `1-14`, so the loop will run `14 times` "
   ]
  },
  {
   "attachments": {},
   "cell_type": "markdown",
   "metadata": {},
   "source": [
    "### PRACTICE - Writing to Excel from Python"
   ]
  },
  {
   "cell_type": "code",
   "execution_count": 1,
   "metadata": {},
   "outputs": [],
   "source": [
    "import openpyxl as xl"
   ]
  },
  {
   "cell_type": "code",
   "execution_count": 2,
   "metadata": {},
   "outputs": [],
   "source": [
    "wb = xl.load_workbook(filename='maven_ski_shop_data.xlsx')\n",
    "\n",
    "inventory = wb['Inventory_Levels']"
   ]
  },
  {
   "cell_type": "code",
   "execution_count": 3,
   "metadata": {},
   "outputs": [
    {
     "name": "stdout",
     "output_type": "stream",
     "text": [
      "0 Quantity_in_stock\n",
      "1 100\n",
      "2 15\n",
      "3 10\n",
      "4 25\n",
      "5 8\n",
      "6 6\n",
      "7 0\n",
      "8 0\n",
      "9 1\n",
      "10 5\n",
      "11 0\n",
      "12 4\n"
     ]
    }
   ],
   "source": [
    "for i, cell in enumerate(inventory['B']):\n",
    "    print(i, cell.value)"
   ]
  },
  {
   "cell_type": "code",
   "execution_count": 4,
   "metadata": {},
   "outputs": [
    {
     "name": "stdout",
     "output_type": "stream",
     "text": [
      "1 Quantity_in_stock\n",
      "2 100\n",
      "3 15\n",
      "4 10\n",
      "5 25\n",
      "6 8\n",
      "7 6\n",
      "8 0\n",
      "9 0\n",
      "10 1\n",
      "11 5\n",
      "12 0\n",
      "13 4\n"
     ]
    }
   ],
   "source": [
    "# make this align with Excel indices, specify a start value equals to 1\n",
    "# cell 'B1' will be the column header\n",
    "\n",
    "for i, cell in enumerate(inventory['B'], start=1):\n",
    "    print(i, cell.value)"
   ]
  },
  {
   "cell_type": "code",
   "execution_count": 5,
   "metadata": {},
   "outputs": [],
   "source": [
    "for i, cell in enumerate(inventory['B'], start=1):\n",
    "    # create/write the column header\n",
    "    if i == 1:\n",
    "        inventory[f'C{1}'] = 'Inventory Status'\n",
    "    elif cell.value > 5:\n",
    "        inventory[f'C{i}'] = 'Health Stock'\n",
    "    elif cell.value > 0:\n",
    "        inventory[f'C{i}'] = 'Low Stock'\n",
    "    else:\n",
    "        inventory[f'C{i}'] = 'Out of Stock'"
   ]
  },
  {
   "cell_type": "code",
   "execution_count": 6,
   "metadata": {},
   "outputs": [],
   "source": [
    "wb.save('maven_ski_shop_inventory_fix.xlsx')"
   ]
  }
 ],
 "metadata": {
  "kernelspec": {
   "display_name": "maven-python",
   "language": "python",
   "name": "maven-python"
  },
  "language_info": {
   "codemirror_mode": {
    "name": "ipython",
    "version": 3
   },
   "file_extension": ".py",
   "mimetype": "text/x-python",
   "name": "python",
   "nbconvert_exporter": "python",
   "pygments_lexer": "ipython3",
   "version": "3.10.11"
  },
  "orig_nbformat": 4
 },
 "nbformat": 4,
 "nbformat_minor": 2
}
