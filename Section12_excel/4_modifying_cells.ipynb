{
 "cells": [
  {
   "attachments": {},
   "cell_type": "markdown",
   "metadata": {},
   "source": [
    "## Modifying Cells"
   ]
  },
  {
   "attachments": {},
   "cell_type": "markdown",
   "metadata": {},
   "source": [
    "### Writing Data To Cells"
   ]
  },
  {
   "attachments": {},
   "cell_type": "markdown",
   "metadata": {},
   "source": [
    "You can `write data to a cell` by assigning a value to it using the cell's coordinates"
   ]
  },
  {
   "attachments": {},
   "cell_type": "markdown",
   "metadata": {},
   "source": [
    "*Cell `F1` starts with no data, and then a value of `Euro Price` is assigned to it*\n",
    "\n",
    "```python\n",
    "items['F1'].value \n",
    "items['F1'] = 'Euro Price'\n",
    "items['F1'].value \n",
    "```"
   ]
  },
  {
   "attachments": {},
   "cell_type": "markdown",
   "metadata": {},
   "source": [
    "*Now that column `F` has data, `max_column` has increased to 6*\n",
    "\n",
    "```python\n",
    "items.max_column\n",
    "```"
   ]
  },
  {
   "attachments": {},
   "cell_type": "markdown",
   "metadata": {},
   "source": [
    "### Writing Data To a Column"
   ]
  },
  {
   "attachments": {},
   "cell_type": "markdown",
   "metadata": {},
   "source": [
    "You can `write data to a column` by looping through its rows and assigning values "
   ]
  },
  {
   "attachments": {},
   "cell_type": "markdown",
   "metadata": {},
   "source": [
    "*Each row in column `F` is now equal to the matching value in column `C` multiplied by `.88`*\n",
    "\n",
    "*Note that the range is starting at 2, since the first row is reserved for the column header*\n",
    "\n",
    "```python\n",
    "exchange_rate = .88\n",
    "\n",
    "for row in range(2, items.max_row + 1):\n",
    "    items[f'F{row}'] = round(items[f'C{row}'].value * exchange_rate, 2)\n",
    "\n",
    "```"
   ]
  },
  {
   "attachments": {},
   "cell_type": "markdown",
   "metadata": {},
   "source": [
    "*You can reference all the cells in a column!*\n",
    "\n",
    "```python\n",
    "for index, cell in enumerate(items['F'], start=1):\n",
    "    print(f'F{index}', cell.value)\n",
    "\n",
    "```"
   ]
  },
  {
   "attachments": {},
   "cell_type": "markdown",
   "metadata": {},
   "source": [
    "### Inserting Columns"
   ]
  },
  {
   "attachments": {},
   "cell_type": "markdown",
   "metadata": {},
   "source": [
    "You can `insert columns` to a worksheet without overwriting existing data"
   ]
  },
  {
   "attachments": {},
   "cell_type": "markdown",
   "metadata": {},
   "source": [
    "`sheet.insert_cols(idx=index)` inserts a column in the specified sheet and index\n"
   ]
  },
  {
   "attachments": {},
   "cell_type": "markdown",
   "metadata": {},
   "source": [
    "```python\n",
    "items['E1'].value\n",
    "```\n",
    "\n",
    "'Availabe Sizes' _(this is the current value for cell `E1`)_\n"
   ]
  },
  {
   "attachments": {},
   "cell_type": "markdown",
   "metadata": {},
   "source": [
    "```python\n",
    "items.insert_cols(idx=5)\n",
    "items['E1'] = 'Euro Price'\n",
    "\n",
    "print('Column E header: ' + items['E1'].value)\n",
    "print('Column F header: ' + items['F1'].value)\n",
    "```\n",
    "```\n",
    "Column E header: Euro Price\n",
    "Column F header: Available Sizes\n",
    "```\n",
    "\n",
    "_After inserting a column at `index 5` (`Column E`), and assigning `E1` a value of `Euro Price`,_\n",
    "_note that `Available Sizes` was shifted to `F1`_"
   ]
  },
  {
   "attachments": {},
   "cell_type": "markdown",
   "metadata": {},
   "source": [
    "### Deleting Columns"
   ]
  },
  {
   "attachments": {},
   "cell_type": "markdown",
   "metadata": {},
   "source": [
    "You can `delete columns` from a worksheet as well\n",
    "\n",
    "`sheet.delete_cols(idx=index)` deletes the column at the specified sheet and index \n"
   ]
  },
  {
   "attachments": {},
   "cell_type": "markdown",
   "metadata": {},
   "source": [
    "```python\n",
    "items['E1'].value\n",
    "```\n",
    "'Euro_Price' _(this is the current value for cell `E1`)_"
   ]
  },
  {
   "attachments": {},
   "cell_type": "markdown",
   "metadata": {},
   "source": [
    "```python\n",
    "items.delete_cols(idx=5)\n",
    "print('Column E header: ' + items['E1'].value)\n",
    "```\n",
    "_After deleting the column at `index 5` (`column E`), `Availabe Sizes` was moved back to `E1` from `F1`_"
   ]
  },
  {
   "attachments": {},
   "cell_type": "markdown",
   "metadata": {},
   "source": [
    "### Saving Your Worrkbook"
   ]
  },
  {
   "attachments": {},
   "cell_type": "markdown",
   "metadata": {},
   "source": [
    "Use `workbook.save` to save your workbook in your local machine"
   ]
  },
  {
   "attachments": {},
   "cell_type": "markdown",
   "metadata": {},
   "source": [
    "```python\n",
    "wb.save('maven_data_new_pricing.xlsx')\n",
    "```"
   ]
  },
  {
   "attachments": {},
   "cell_type": "markdown",
   "metadata": {},
   "source": [
    "#### BRING IT ALL TOGETHER"
   ]
  },
  {
   "attachments": {},
   "cell_type": "markdown",
   "metadata": {},
   "source": [
    "We now have a workflow that reads in an Excel workbook, creates a `Euro Price` column based on a given exchange rate, and saves it back out"
   ]
  },
  {
   "attachments": {},
   "cell_type": "markdown",
   "metadata": {},
   "source": [
    "* _import openpyxl_\n",
    "    ```python\n",
    "    import openpyxl as xl\n",
    "    ```"
   ]
  },
  {
   "attachments": {},
   "cell_type": "markdown",
   "metadata": {},
   "source": [
    "* _Read in the Excel workbook_\n",
    "    ```python\n",
    "    workbook = xl.load_workbook(filename='maven_ski_shop_data.xlsx')\n",
    "    ```\n",
    "* _Assign the sheet to a variable_\n",
    "    ```python\n",
    "    items = workbook['Item_Info']\n",
    "    ```"
   ]
  },
  {
   "attachments": {},
   "cell_type": "markdown",
   "metadata": {},
   "source": [
    "* _Write the column header_\n",
    "* _Set the exchange rate_\n",
    "* _Loop through the column, convert, and write the values_\n",
    "\n",
    "    ```python\n",
    "    items['F1'] = 'Euro Prices'\n",
    "\n",
    "    exchange_rate = .88\n",
    "\n",
    "    for row in range(2, items.max_row + 1):\n",
    "        items[f'F{row}'] = round(items[f'C{row}'].value * exchange_rate, 2)\n",
    "    ```"
   ]
  },
  {
   "attachments": {},
   "cell_type": "markdown",
   "metadata": {},
   "source": [
    "* _Save the Excel workbook_\n",
    "\n",
    "    ```python\n",
    "    workbook.save('maven_data_new_pricing.xlsx')\n",
    "    ```"
   ]
  }
 ],
 "metadata": {
  "kernelspec": {
   "display_name": "maven-python",
   "language": "python",
   "name": "maven-python"
  },
  "language_info": {
   "name": "python",
   "version": "3.10.11"
  },
  "orig_nbformat": 4
 },
 "nbformat": 4,
 "nbformat_minor": 2
}
