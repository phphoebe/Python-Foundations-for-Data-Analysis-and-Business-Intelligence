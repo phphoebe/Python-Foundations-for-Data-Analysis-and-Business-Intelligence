{
 "cells": [
  {
   "cell_type": "code",
   "execution_count": 1,
   "metadata": {},
   "outputs": [],
   "source": [
    "items = ['skis', 'snowboards', 'goggles', 'boots']\n",
    "\n",
    "item_reviews = [\n",
    "    ['5 stars', '1 star', '3 stars'],\n",
    "    ['5 stars', '4 stars'],\n",
    "    ['2 stars', '2 star'],\n",
    "    ['1 star']\n",
    "]"
   ]
  },
  {
   "cell_type": "code",
   "execution_count": 2,
   "metadata": {},
   "outputs": [
    {
     "name": "stdout",
     "output_type": "stream",
     "text": [
      "['5 stars', '1 star', '3 stars']\n",
      "['5 stars', '4 stars']\n",
      "['2 stars', '2 star']\n",
      "['1 star']\n"
     ]
    }
   ],
   "source": [
    "for item in item_reviews:\n",
    "    print(item)"
   ]
  },
  {
   "cell_type": "code",
   "execution_count": 3,
   "metadata": {},
   "outputs": [
    {
     "name": "stdout",
     "output_type": "stream",
     "text": [
      "5 stars\n",
      "1 star\n",
      "3 stars\n",
      "5 stars\n",
      "4 stars\n",
      "2 stars\n",
      "2 star\n",
      "1 star\n"
     ]
    }
   ],
   "source": [
    "# printing out the granular data that we need\n",
    "\n",
    "for item in item_reviews:\n",
    "    for review in item:\n",
    "        print(review)"
   ]
  },
  {
   "cell_type": "code",
   "execution_count": 4,
   "metadata": {},
   "outputs": [
    {
     "name": "stdout",
     "output_type": "stream",
     "text": [
      "5\n",
      "1\n",
      "3\n",
      "5\n",
      "4\n",
      "2\n",
      "2\n",
      "1\n"
     ]
    }
   ],
   "source": [
    "# create an integer_rating variable that converts the string rating to an integer\n",
    "\n",
    "for item in item_reviews:\n",
    "    for review in item:\n",
    "        integer_rating = int(review[0])\n",
    "        print(integer_rating)"
   ]
  },
  {
   "cell_type": "code",
   "execution_count": 5,
   "metadata": {},
   "outputs": [
    {
     "name": "stdout",
     "output_type": "stream",
     "text": [
      "[5, 1, 3]\n",
      "[5, 4]\n",
      "[2, 2]\n",
      "[1]\n"
     ]
    }
   ],
   "source": [
    "# create a new list \n",
    "\n",
    "for item in item_reviews:\n",
    "    integer_ratings = []\n",
    "    for review in item:\n",
    "        integer_rating = int(review[0])\n",
    "        integer_ratings.append(integer_rating)\n",
    "    print(integer_ratings)"
   ]
  },
  {
   "cell_type": "code",
   "execution_count": 6,
   "metadata": {},
   "outputs": [
    {
     "name": "stdout",
     "output_type": "stream",
     "text": [
      "[[5, 1, 3], [5, 4], [2, 2], [1]]\n"
     ]
    }
   ],
   "source": [
    "# create one additional layer of nesting \n",
    "item_reviews_numeric = []\n",
    "\n",
    "for item in item_reviews:\n",
    "    integer_ratings = []\n",
    "    for review in item:\n",
    "        integer_rating = int(review[0])\n",
    "        integer_ratings.append(integer_rating)\n",
    "    item_reviews_numeric.append(integer_ratings)\n",
    "\n",
    "print(item_reviews_numeric)"
   ]
  },
  {
   "cell_type": "code",
   "execution_count": 7,
   "metadata": {},
   "outputs": [
    {
     "name": "stdout",
     "output_type": "stream",
     "text": [
      "3.0\n",
      "4.5\n",
      "2.0\n",
      "1.0\n"
     ]
    }
   ],
   "source": [
    "# loop through this nested list and calculate the average review for each item\n",
    "\n",
    "for item in item_reviews_numeric:\n",
    "    average_review = sum(item) / len(item)\n",
    "    print(average_review)"
   ]
  }
 ],
 "metadata": {
  "kernelspec": {
   "display_name": "data--n9soBp0",
   "language": "python",
   "name": "python3"
  },
  "language_info": {
   "codemirror_mode": {
    "name": "ipython",
    "version": 3
   },
   "file_extension": ".py",
   "mimetype": "text/x-python",
   "name": "python",
   "nbconvert_exporter": "python",
   "pygments_lexer": "ipython3",
   "version": "3.10.11"
  },
  "orig_nbformat": 4
 },
 "nbformat": 4,
 "nbformat_minor": 2
}
