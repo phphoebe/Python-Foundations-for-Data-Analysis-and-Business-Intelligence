{
 "cells": [
  {
   "attachments": {},
   "cell_type": "markdown",
   "metadata": {},
   "source": [
    "**Loop control** statements help refine loop behavior and handle potential errors "
   ]
  },
  {
   "cell_type": "code",
   "execution_count": 1,
   "metadata": {},
   "outputs": [
    {
     "name": "stdout",
     "output_type": "stream",
     "text": [
      "I can buy 8.0 of this these.\n",
      "That's not a number.\n",
      "I can buy 2.0 of this these.\n",
      "I can buy 2.0 of this these.\n",
      "This item is free! I can take as many as I like.\n",
      "That's not a number.\n",
      "I can buy 0.0 of this these.\n"
     ]
    }
   ],
   "source": [
    "price_list = [5.99, None, 19.99, 24.99, 0, '74.99', 99.99]\n",
    "\n",
    "# loop to calculate how many of each item I can buy \n",
    "for price in price_list:\n",
    "    try:\n",
    "        affordable_quantity = 50 // price # My budget is 50 dollars \n",
    "        print(f'I can buy {affordable_quantity} of this these.')\n",
    "    except ZeroDivisionError:\n",
    "        print('This item is free! I can take as many as I like.')\n",
    "    except:\n",
    "        print(\"That's not a number.\")"
   ]
  },
  {
   "cell_type": "code",
   "execution_count": 2,
   "metadata": {},
   "outputs": [
    {
     "name": "stdout",
     "output_type": "stream",
     "text": [
      "Maven\n"
     ]
    }
   ],
   "source": [
    "word = 'Maven'\n",
    "new_word = ''\n",
    "\n",
    "for letter in word:\n",
    "    new_word += letter\n",
    "\n",
    "print(new_word)"
   ]
  },
  {
   "cell_type": "code",
   "execution_count": 3,
   "metadata": {},
   "outputs": [
    {
     "name": "stdout",
     "output_type": "stream",
     "text": [
      "Mvn\n"
     ]
    }
   ],
   "source": [
    "word = 'Maven'\n",
    "new_word = ''\n",
    "\n",
    "for letter in word:\n",
    "    if letter in 'aeiou':\n",
    "        continue\n",
    "    new_word += letter\n",
    "\n",
    "print(new_word)"
   ]
  },
  {
   "cell_type": "code",
   "execution_count": 4,
   "metadata": {},
   "outputs": [
    {
     "name": "stdout",
     "output_type": "stream",
     "text": [
      "Maven\n"
     ]
    }
   ],
   "source": [
    "word = 'Maven'\n",
    "new_word = ''\n",
    "\n",
    "for letter in word:\n",
    "    if letter in 'aeiou':\n",
    "        pass # create a new word with vowels later \n",
    "    new_word += letter\n",
    "\n",
    "print(new_word)"
   ]
  },
  {
   "cell_type": "code",
   "execution_count": 5,
   "metadata": {},
   "outputs": [
    {
     "name": "stdout",
     "output_type": "stream",
     "text": [
      "Ma\n"
     ]
    }
   ],
   "source": [
    "word = 'Maven'\n",
    "new_word = ''\n",
    "\n",
    "for letter in word:\n",
    "    if letter == 'v':\n",
    "        break\n",
    "    new_word += letter\n",
    "\n",
    "print(new_word)"
   ]
  },
  {
   "cell_type": "code",
   "execution_count": 6,
   "metadata": {},
   "outputs": [
    {
     "name": "stdout",
     "output_type": "stream",
     "text": [
      "1\n",
      "5\n",
      "3\n"
     ]
    },
    {
     "ename": "ValueError",
     "evalue": "invalid literal for int() with base 10: 's'",
     "output_type": "error",
     "traceback": [
      "\u001b[0;31m---------------------------------------------------------------------------\u001b[0m",
      "\u001b[0;31mValueError\u001b[0m                                Traceback (most recent call last)",
      "Cell \u001b[0;32mIn[6], line 6\u001b[0m\n\u001b[1;32m      1\u001b[0m ratings \u001b[39m=\u001b[39m [\n\u001b[1;32m      2\u001b[0m     \u001b[39m'\u001b[39m\u001b[39m1 star\u001b[39m\u001b[39m'\u001b[39m, \u001b[39m'\u001b[39m\u001b[39m5 star\u001b[39m\u001b[39m'\u001b[39m, \u001b[39m'\u001b[39m\u001b[39m3 star\u001b[39m\u001b[39m'\u001b[39m, \u001b[39m'\u001b[39m\u001b[39mstar 5\u001b[39m\u001b[39m'\u001b[39m, \u001b[39m'\u001b[39m\u001b[39m4 star\u001b[39m\u001b[39m'\u001b[39m\n\u001b[1;32m      3\u001b[0m ]\n\u001b[1;32m      5\u001b[0m \u001b[39mfor\u001b[39;00m rating \u001b[39min\u001b[39;00m ratings:\n\u001b[0;32m----> 6\u001b[0m     \u001b[39mprint\u001b[39m(\u001b[39mint\u001b[39;49m(rating[\u001b[39m0\u001b[39;49m]))\n",
      "\u001b[0;31mValueError\u001b[0m: invalid literal for int() with base 10: 's'"
     ]
    }
   ],
   "source": [
    "ratings = [\n",
    "    '1 star', '5 star', '3 star', 'star 5', '4 star'\n",
    "]\n",
    "\n",
    "for rating in ratings:\n",
    "    print(int(rating[0]))"
   ]
  },
  {
   "cell_type": "code",
   "execution_count": 7,
   "metadata": {},
   "outputs": [
    {
     "name": "stdout",
     "output_type": "stream",
     "text": [
      "1\n",
      "5\n",
      "3\n",
      "incorrect data\n",
      "4\n"
     ]
    }
   ],
   "source": [
    "ratings = [\n",
    "    '1 star', '5 star', '3 star', 'star 5', '4 star'\n",
    "]\n",
    "\n",
    "for rating in ratings:\n",
    "    try:\n",
    "        print(int(rating[0]))\n",
    "    except ValueError:\n",
    "        print('incorrect data')"
   ]
  }
 ],
 "metadata": {
  "kernelspec": {
   "display_name": "data--n9soBp0",
   "language": "python",
   "name": "python3"
  },
  "language_info": {
   "codemirror_mode": {
    "name": "ipython",
    "version": 3
   },
   "file_extension": ".py",
   "mimetype": "text/x-python",
   "name": "python",
   "nbconvert_exporter": "python",
   "pygments_lexer": "ipython3",
   "version": "3.10.11"
  },
  "orig_nbformat": 4
 },
 "nbformat": 4,
 "nbformat_minor": 2
}
