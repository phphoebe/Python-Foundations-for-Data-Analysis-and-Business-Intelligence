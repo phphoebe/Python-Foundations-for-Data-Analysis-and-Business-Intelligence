{
 "cells": [
  {
   "attachments": {},
   "cell_type": "markdown",
   "metadata": {},
   "source": [
    "### WHILE LOOPS"
   ]
  },
  {
   "attachments": {},
   "cell_type": "markdown",
   "metadata": {},
   "source": [
    "**While loops** run until a given logical expression becomes FALSE \n",
    "* In other words, the loop runs _while_ the expression is TRUE\n",
    "\n",
    "```python\n",
    "while logical expression:\n",
    "    do this\n",
    "```"
   ]
  },
  {
   "attachments": {},
   "cell_type": "markdown",
   "metadata": {},
   "source": [
    "While loops often include **counters** that grow with each iteration\n",
    "* Counters help us track how many times our loop has run \n",
    "* They can also serve as a backup condition to exit a loop early \n",
    "\n",
    "```python\n",
    "counter = 0 \n",
    "while counter < 10:\n",
    "    counter += 1\n",
    "    print(counter)\n",
    "```"
   ]
  },
  {
   "attachments": {},
   "cell_type": "markdown",
   "metadata": {},
   "source": [
    "**EXAMPLE |** Run a calcuation until a goal is reached"
   ]
  },
  {
   "cell_type": "code",
   "execution_count": 1,
   "metadata": {},
   "outputs": [
    {
     "name": "stdout",
     "output_type": "stream",
     "text": [
      "Year 1 portfolio balance: $84000.00\n",
      "Year 2 portfolio balance: $88200.00\n",
      "Year 3 portfolio balance: $92610.00\n",
      "Year 4 portfolio balance: $97240.50\n",
      "Year 5 portfolio balance: $102102.52\n"
     ]
    }
   ],
   "source": [
    "# starting portfolio balace is 80000\n",
    "stock_portfolio = 80000\n",
    "year_counter = 0\n",
    "\n",
    "while stock_portfolio < 100000:\n",
    "    # calculate annual investment income \n",
    "    investment_income = stock_portfolio * 0.05 # 5% interest rate \n",
    "\n",
    "    # add income to end of year portfolio balance\n",
    "    stock_portfolio += investment_income\n",
    "\n",
    "    # add 1 to year counter\n",
    "    year_counter += 1\n",
    "\n",
    "    print(f\"Year {year_counter} portfolio balance: ${stock_portfolio:.2f}\")\n",
    "\n",
    "    # print(f'At the end of year {year_counter}: '\n",
    "    #       + f'My balace is ${round(stock_portfolio}, 2)}')"
   ]
  },
  {
   "attachments": {},
   "cell_type": "markdown",
   "metadata": {},
   "source": [
    "**EXAMPLE |** Calculating bank balance until we're out of money"
   ]
  },
  {
   "cell_type": "code",
   "execution_count": 2,
   "metadata": {},
   "outputs": [
    {
     "name": "stdout",
     "output_type": "stream",
     "text": [
      "Month 1 balance: $4000.00\n",
      "Month 2 balance: $3000.00\n",
      "Month 3 balance: $2000.00\n",
      "Month 4 balance: $1000.00\n",
      "Month 5 balance: $0.00\n"
     ]
    }
   ],
   "source": [
    "bank_balance = 5000\n",
    "month_counter = 0\n",
    "\n",
    "while bank_balance > 0:\n",
    "    spending = 1000\n",
    "    bank_balance -= spending\n",
    "    month_counter += 1\n",
    "    print(f'Month {month_counter} balance: ${bank_balance:.2f}')"
   ]
  },
  {
   "attachments": {},
   "cell_type": "markdown",
   "metadata": {},
   "source": [
    "### Practice"
   ]
  },
  {
   "cell_type": "code",
   "execution_count": 5,
   "metadata": {},
   "outputs": [],
   "source": [
    "customer_ratings = [\n",
    "    '5 stars', '3 stars', '1 star', '5 stars', '1 star', '4 stars', \n",
    "    '4 stars', '1 star', '1 star', '5 stars', '2 stars', '4 stars',\n",
    "    ]"
   ]
  },
  {
   "cell_type": "code",
   "execution_count": 6,
   "metadata": {},
   "outputs": [
    {
     "name": "stdout",
     "output_type": "stream",
     "text": [
      "1\n",
      "2\n",
      "3\n",
      "4\n"
     ]
    },
    {
     "data": {
      "text/plain": [
       "['5 stars',\n",
       " '3 stars',\n",
       " '5 stars',\n",
       " '4 stars',\n",
       " '4 stars',\n",
       " '5 stars',\n",
       " '2 stars',\n",
       " '4 stars']"
      ]
     },
     "execution_count": 6,
     "metadata": {},
     "output_type": "execute_result"
    }
   ],
   "source": [
    "onestart_count = 0\n",
    "\n",
    "while '1 star' in customer_ratings:\n",
    "    customer_ratings.remove('1 star')\n",
    "    onestart_count += 1\n",
    "    print(onestart_count)\n",
    "\n",
    "customer_ratings"
   ]
  }
 ],
 "metadata": {
  "kernelspec": {
   "display_name": "data--n9soBp0",
   "language": "python",
   "name": "python3"
  },
  "language_info": {
   "codemirror_mode": {
    "name": "ipython",
    "version": 3
   },
   "file_extension": ".py",
   "mimetype": "text/x-python",
   "name": "python",
   "nbconvert_exporter": "python",
   "pygments_lexer": "ipython3",
   "version": "3.10.11"
  },
  "orig_nbformat": 4
 },
 "nbformat": 4,
 "nbformat_minor": 2
}
