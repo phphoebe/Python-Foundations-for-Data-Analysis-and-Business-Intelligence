{
 "cells": [
  {
   "attachments": {},
   "cell_type": "markdown",
   "metadata": {},
   "source": [
    "### Loops"
   ]
  },
  {
   "attachments": {},
   "cell_type": "markdown",
   "metadata": {},
   "source": [
    "A **loop** is a block of code that will repeat until a given condition is met\n",
    "\n",
    "**EXAMPLE** _Converting elements in a price list from USD to Euros_\n",
    "\n",
    "**PRO TIP:** To create a new list (or other data types) with loops, first create an empty list, then append values as your loop iterates"
   ]
  },
  {
   "cell_type": "code",
   "execution_count": 1,
   "metadata": {},
   "outputs": [
    {
     "name": "stdout",
     "output_type": "stream",
     "text": [
      "[5.27, 8.79, 17.59, 21.99, 87.99]\n"
     ]
    }
   ],
   "source": [
    "exchange_rate = 0.88\n",
    "usd_list = [5.99, 9.99, 19.99, 24.99, 99.99]\n",
    "euro_list = []\n",
    "\n",
    "for price in usd_list:\n",
    "    euro_list.append(round(price * exchange_rate, 2))\n",
    "\n",
    "print(euro_list)"
   ]
  },
  {
   "attachments": {},
   "cell_type": "markdown",
   "metadata": {},
   "source": [
    "### Practice"
   ]
  },
  {
   "cell_type": "code",
   "execution_count": 1,
   "metadata": {},
   "outputs": [],
   "source": [
    "# grab th integer portion of these reviews and calculate average rating\n",
    "\n",
    "customer_ratings = [\n",
    "    '5 stars', '3 stars', '5 stars', '4 stars', '4 star', \n",
    "    '1 star', '4 stars', '5 stars', '2 stars', '5 stars',\n",
    "    ]"
   ]
  },
  {
   "cell_type": "code",
   "execution_count": 4,
   "metadata": {},
   "outputs": [
    {
     "data": {
      "text/plain": [
       "5"
      ]
     },
     "execution_count": 4,
     "metadata": {},
     "output_type": "execute_result"
    }
   ],
   "source": [
    "# create a variable that just grabs a single rating so we can figure out how to clean this \n",
    "\n",
    "rating = int(customer_ratings[0][0])\n",
    "\n",
    "rating"
   ]
  },
  {
   "cell_type": "code",
   "execution_count": 10,
   "metadata": {},
   "outputs": [
    {
     "name": "stdout",
     "output_type": "stream",
     "text": [
      "[5, 3, 5, 4, 4, 1, 4, 5, 2, 5]\n"
     ]
    }
   ],
   "source": [
    "numeric_ratings = []\n",
    "\n",
    "for rating in customer_ratings:\n",
    "    numeric_ratings.append(int(rating[0]))\n",
    "\n",
    "print(numeric_ratings)"
   ]
  },
  {
   "cell_type": "code",
   "execution_count": 11,
   "metadata": {},
   "outputs": [
    {
     "name": "stdout",
     "output_type": "stream",
     "text": [
      "3.8\n"
     ]
    }
   ],
   "source": [
    "# calculate the average rating\n",
    "\n",
    "average_rating = sum(numeric_ratings) / len(numeric_ratings)\n",
    "\n",
    "print(average_rating)"
   ]
  }
 ],
 "metadata": {
  "kernelspec": {
   "display_name": "data--n9soBp0",
   "language": "python",
   "name": "python3"
  },
  "language_info": {
   "codemirror_mode": {
    "name": "ipython",
    "version": 3
   },
   "file_extension": ".py",
   "mimetype": "text/x-python",
   "name": "python",
   "nbconvert_exporter": "python",
   "pygments_lexer": "ipython3",
   "version": "3.10.11"
  },
  "orig_nbformat": 4
 },
 "nbformat": 4,
 "nbformat_minor": 2
}
