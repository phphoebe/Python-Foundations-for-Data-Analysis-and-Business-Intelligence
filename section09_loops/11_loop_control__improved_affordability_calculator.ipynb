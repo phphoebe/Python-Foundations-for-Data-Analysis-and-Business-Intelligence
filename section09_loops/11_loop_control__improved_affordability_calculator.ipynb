{
 "cells": [
  {
   "attachments": {},
   "cell_type": "markdown",
   "id": "f119d43f",
   "metadata": {},
   "source": [
    "### Improved Affordability Calculator.\n",
    "\n",
    "We need to make sure our affordability calculator can handle many data types without stopping - our data is VERY messy. We need to make the following changes to the code below:\n",
    "\n",
    "\n",
    "* Make sure it converts the string in the list below into a float. Print a warning that this was string data. Then process as usual.\n",
    "\n",
    "* Also, have the loop skip any instances of None data type.\n",
    "\n",
    "* Then, remove the generic except statement to avoid processing errors.\n",
    "\n",
    "* Finally, change the hard coded value 50 into a variable so we can change this value based on each customer's budget."
   ]
  },
  {
   "cell_type": "code",
   "execution_count": 1,
   "id": "fcfa2a1a",
   "metadata": {},
   "outputs": [
    {
     "name": "stdout",
     "output_type": "stream",
     "text": [
      "I can buy 8.0 of these.\n",
      "Thats not a number\n",
      "I can buy 2.0 of these.\n",
      "I can buy 2.0 of these.\n",
      "This product is free, I can take as many as I like.\n",
      "Thats not a number\n",
      "I can buy 0.0 of these.\n"
     ]
    }
   ],
   "source": [
    "price_list = [5.99, None, 19.99, 24.99, 0, '74.99', 99.99]\n",
    "\n",
    "# loop to calculate how many of each item I can buy\n",
    "for price in price_list:\n",
    "    try:\n",
    "        affordable_quantity = 50//price  # My budget is 50 dollars\n",
    "        print(f\"I can buy {affordable_quantity} of these.\")\n",
    "    except ZeroDivisionError:\n",
    "        print(\"This product is free, I can take as many as I like.\")\n",
    "    except:  # need to get rid of general except statement\n",
    "        print('Thats not a number')"
   ]
  },
  {
   "cell_type": "code",
   "execution_count": 5,
   "id": "17723806",
   "metadata": {},
   "outputs": [
    {
     "name": "stdout",
     "output_type": "stream",
     "text": [
      "I can buy 16.0 of these.\n",
      "I can buy 5.0 of these.\n",
      "I can buy 4.0 of these.\n",
      "This product is free, I can take as many as I like.\n",
      "string data detected\n",
      "I can buy 1.0 of these.\n",
      "I can buy 1.0 of these.\n"
     ]
    }
   ],
   "source": [
    "price_list = [5.99, None, 19.99, 24.99, 0, '74.99', 99.99]\n",
    "\n",
    "# Create Budget Variable\n",
    "budget = 100\n",
    "\n",
    "for price in price_list:\n",
    "    if price is None:  # is keyword to test for none\n",
    "        continue\n",
    "    try:\n",
    "        affordable_quantity = budget // price\n",
    "        print(f\"I can buy {affordable_quantity} of these.\")\n",
    "    # If we get a ZeroDivisionError, print a special message\n",
    "    except ZeroDivisionError:\n",
    "        print(\"This product is free, I can take as many as I like.\")\n",
    "    # If TypeError, try converting to float\n",
    "    except TypeError:\n",
    "        affordable_quantity = budget // float(price)\n",
    "        print('string data detected')  ## let user know improper data detected\n",
    "        print(f\"I can buy {affordable_quantity} of these.\")"
   ]
  }
 ],
 "metadata": {
  "kernelspec": {
   "display_name": "Python 3 (ipykernel)",
   "language": "python",
   "name": "python3"
  },
  "language_info": {
   "codemirror_mode": {
    "name": "ipython",
    "version": 3
   },
   "file_extension": ".py",
   "mimetype": "text/x-python",
   "name": "python",
   "nbconvert_exporter": "python",
   "pygments_lexer": "ipython3",
   "version": "3.10.11"
  }
 },
 "nbformat": 4,
 "nbformat_minor": 5
}
