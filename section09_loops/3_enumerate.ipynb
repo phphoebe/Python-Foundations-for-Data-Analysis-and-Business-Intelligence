{
 "cells": [
  {
   "attachments": {},
   "cell_type": "markdown",
   "metadata": {},
   "source": [
    "### ENUMERATE"
   ]
  },
  {
   "attachments": {},
   "cell_type": "markdown",
   "metadata": {},
   "source": [
    "The **enumerate** function will return _both_ the index and item of each item in an iterable as it loops through\n",
    "\n",
    "**PRO TIP:** - Use enumerate if you want to loop over an index; it is slightlymore efficient and considered best practice, as we are looping over an index derived from the list itself, rather than generating a new object to do so."
   ]
  },
  {
   "cell_type": "code",
   "execution_count": 1,
   "metadata": {},
   "outputs": [
    {
     "name": "stdout",
     "output_type": "stream",
     "text": [
      "0 5.27\n",
      "1 8.79\n",
      "2 17.59\n",
      "3 21.99\n",
      "4 87.99\n"
     ]
    }
   ],
   "source": [
    "euro_list = [5.27, 8.79, 17.59, 21.99, 87.99]\n",
    "\n",
    "for index, value in enumerate(euro_list):\n",
    "    print(index, value)"
   ]
  },
  {
   "cell_type": "code",
   "execution_count": 2,
   "metadata": {},
   "outputs": [
    {
     "name": "stdout",
     "output_type": "stream",
     "text": [
      "Snowboard 5.27\n",
      "Boots 8.79\n",
      "Helmet 17.59\n",
      "Goggles 21.99\n",
      "Bindings 87.99\n"
     ]
    }
   ],
   "source": [
    "euro_list = [5.27, 8.79, 17.59, 21.99, 87.99]\n",
    "item_list = ['Snowboard', 'Boots', 'Helmet', 'Goggles', 'Bindings']\n",
    "\n",
    "for index, element in enumerate(euro_list):\n",
    "    print(item_list[index], element)"
   ]
  },
  {
   "attachments": {},
   "cell_type": "markdown",
   "metadata": {},
   "source": [
    "### Practice"
   ]
  },
  {
   "cell_type": "code",
   "execution_count": 4,
   "metadata": {},
   "outputs": [],
   "source": [
    "item_names = [\n",
    "    'Keychain', 'Helmet', 'Snowboard', \n",
    "    'Ski Poles', 'Sweatshirt', 'Boots'\n",
    "    ]\n",
    "\n",
    "inventories = [10, 14, 10, 15, 8, 27]\n",
    "\n",
    "prices = [2.99, 99.99, 219.99, 89.99, 29.99, 9.99]"
   ]
  },
  {
   "cell_type": "code",
   "execution_count": 5,
   "metadata": {},
   "outputs": [
    {
     "data": {
      "text/plain": [
       "5489.16"
      ]
     },
     "execution_count": 5,
     "metadata": {},
     "output_type": "execute_result"
    }
   ],
   "source": [
    "# last practice \n",
    "\n",
    "product_values = []\n",
    "\n",
    "for i in range(len(inventories)):\n",
    "    product_values.append(round(inventories[i] * prices[i], 2))\n",
    "\n",
    "product_values\n",
    "\n",
    "sum(product_values)"
   ]
  },
  {
   "cell_type": "code",
   "execution_count": 6,
   "metadata": {},
   "outputs": [
    {
     "data": {
      "text/plain": [
       "5489.16"
      ]
     },
     "execution_count": 6,
     "metadata": {},
     "output_type": "execute_result"
    }
   ],
   "source": [
    "# refactor the loop with the enumerate function\n",
    "\n",
    "product_values = []\n",
    "\n",
    "# replicate our prior loop with enumerate\n",
    "for index, inventory in enumerate(inventories):\n",
    "    product_values.append(round(inventory * prices[index], 2))\n",
    "\n",
    "product_values\n",
    "\n",
    "sum(product_values)"
   ]
  },
  {
   "cell_type": "code",
   "execution_count": 7,
   "metadata": {},
   "outputs": [
    {
     "data": {
      "text/plain": [
       "5489.16"
      ]
     },
     "execution_count": 7,
     "metadata": {},
     "output_type": "execute_result"
    }
   ],
   "source": [
    "# print the item name in the total product value for each product \n",
    "\n",
    "product_values = []\n",
    "\n",
    "for index, inventory in enumerate(inventories):\n",
    "    product_value = round(inventory * prices[index], 2)\n",
    "    product_values.append(product_value)\n",
    "\n",
    "product_values\n",
    "\n",
    "# sanity check - get the same result as before\n",
    "sum(product_values)"
   ]
  },
  {
   "cell_type": "code",
   "execution_count": 9,
   "metadata": {},
   "outputs": [
    {
     "name": "stdout",
     "output_type": "stream",
     "text": [
      "We have $29.9 worth of Keychain.\n",
      "We have $1399.86 worth of Helmet.\n",
      "We have $2199.9 worth of Snowboard.\n",
      "We have $1349.85 worth of Ski Poles.\n",
      "We have $239.92 worth of Sweatshirt.\n",
      "We have $269.73 worth of Boots.\n"
     ]
    },
    {
     "data": {
      "text/plain": [
       "5489.16"
      ]
     },
     "execution_count": 9,
     "metadata": {},
     "output_type": "execute_result"
    }
   ],
   "source": [
    "# now plug in the product name and the product value\n",
    "\n",
    "product_values = []\n",
    "\n",
    "for index, inventory in enumerate(inventories):\n",
    "    product_value = round(inventory * prices[index], 2)\n",
    "    product_values.append(product_value)\n",
    "    print(f'We have ${product_value} worth of {item_names[index]}.')\n",
    "\n",
    "product_values\n",
    "\n",
    "sum(product_values)"
   ]
  },
  {
   "cell_type": "code",
   "execution_count": 10,
   "metadata": {},
   "outputs": [],
   "source": [
    "# What happens if one of our lists has a shorter index than the others?\n",
    "\n",
    "item_names = [\n",
    "    'Keychain', 'Helmet', 'Snowboard', \n",
    "    'Ski Poles', 'Sweatshirt', 'Boots'\n",
    "    ]\n",
    "\n",
    "inventories = [10, 14, 10, 15, 8, 27]\n",
    "\n",
    "prices = [2.99, 99.99, 219.99, 89.99, 29.99]"
   ]
  },
  {
   "cell_type": "code",
   "execution_count": 11,
   "metadata": {},
   "outputs": [
    {
     "name": "stdout",
     "output_type": "stream",
     "text": [
      "We have $29.9 worth of Keychain.\n",
      "We have $1399.86 worth of Helmet.\n",
      "We have $2199.9 worth of Snowboard.\n",
      "We have $1349.85 worth of Ski Poles.\n",
      "We have $239.92 worth of Sweatshirt.\n"
     ]
    },
    {
     "ename": "IndexError",
     "evalue": "list index out of range",
     "output_type": "error",
     "traceback": [
      "\u001b[0;31m---------------------------------------------------------------------------\u001b[0m",
      "\u001b[0;31mIndexError\u001b[0m                                Traceback (most recent call last)",
      "Cell \u001b[0;32mIn[11], line 4\u001b[0m\n\u001b[1;32m      1\u001b[0m product_values \u001b[39m=\u001b[39m []\n\u001b[1;32m      3\u001b[0m \u001b[39mfor\u001b[39;00m index, inventory \u001b[39min\u001b[39;00m \u001b[39menumerate\u001b[39m(inventories):\n\u001b[0;32m----> 4\u001b[0m     product_value \u001b[39m=\u001b[39m \u001b[39mround\u001b[39m(inventory \u001b[39m*\u001b[39m prices[index], \u001b[39m2\u001b[39m)\n\u001b[1;32m      5\u001b[0m     product_values\u001b[39m.\u001b[39mappend(product_value)\n\u001b[1;32m      6\u001b[0m     \u001b[39mprint\u001b[39m(\u001b[39mf\u001b[39m\u001b[39m'\u001b[39m\u001b[39mWe have $\u001b[39m\u001b[39m{\u001b[39;00mproduct_value\u001b[39m}\u001b[39;00m\u001b[39m worth of \u001b[39m\u001b[39m{\u001b[39;00mitem_names[index]\u001b[39m}\u001b[39;00m\u001b[39m.\u001b[39m\u001b[39m'\u001b[39m)\n",
      "\u001b[0;31mIndexError\u001b[0m: list index out of range"
     ]
    }
   ],
   "source": [
    "# Index Error\n",
    "\n",
    "product_values = []\n",
    "\n",
    "for index, inventory in enumerate(inventories):\n",
    "    product_value = round(inventory * prices[index], 2)\n",
    "    product_values.append(product_value)\n",
    "    print(f'We have ${product_value} worth of {item_names[index]}.')\n",
    "\n",
    "product_values\n",
    "\n",
    "sum(product_values)"
   ]
  },
  {
   "cell_type": "code",
   "execution_count": 12,
   "metadata": {},
   "outputs": [],
   "source": [
    "# We have 5 indices to loop through\n",
    "\n",
    "item_names = [\n",
    "    'Keychain', 'Helmet', 'Snowboard', \n",
    "    'Ski Poles', 'Sweatshirt', 'Boots'\n",
    "    ]\n",
    "\n",
    "inventories = [10, 14, 10, 15, 8]\n",
    "\n",
    "prices = [2.99, 99.99, 219.99, 89.99, 29.99, 9.99]"
   ]
  },
  {
   "cell_type": "code",
   "execution_count": 13,
   "metadata": {},
   "outputs": [
    {
     "name": "stdout",
     "output_type": "stream",
     "text": [
      "We have $29.9 worth of Keychain.\n",
      "We have $1399.86 worth of Helmet.\n",
      "We have $2199.9 worth of Snowboard.\n",
      "We have $1349.85 worth of Ski Poles.\n",
      "We have $239.92 worth of Sweatshirt.\n"
     ]
    },
    {
     "data": {
      "text/plain": [
       "5219.43"
      ]
     },
     "execution_count": 13,
     "metadata": {},
     "output_type": "execute_result"
    }
   ],
   "source": [
    "# This loop is going to stop early\n",
    "\n",
    "product_values = []\n",
    "\n",
    "for index, inventory in enumerate(inventories):\n",
    "    product_value = round(inventory * prices[index], 2)\n",
    "    product_values.append(product_value)\n",
    "    print(f'We have ${product_value} worth of {item_names[index]}.')\n",
    "\n",
    "product_values\n",
    "\n",
    "sum(product_values)"
   ]
  }
 ],
 "metadata": {
  "kernelspec": {
   "display_name": "data--n9soBp0",
   "language": "python",
   "name": "python3"
  },
  "language_info": {
   "codemirror_mode": {
    "name": "ipython",
    "version": 3
   },
   "file_extension": ".py",
   "mimetype": "text/x-python",
   "name": "python",
   "nbconvert_exporter": "python",
   "pygments_lexer": "ipython3",
   "version": "3.10.11"
  },
  "orig_nbformat": 4
 },
 "nbformat": 4,
 "nbformat_minor": 2
}
