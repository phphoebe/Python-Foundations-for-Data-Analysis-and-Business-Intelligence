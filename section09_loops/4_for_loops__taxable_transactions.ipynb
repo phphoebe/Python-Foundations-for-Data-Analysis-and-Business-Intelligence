{
 "cells": [
  {
   "attachments": {},
   "cell_type": "markdown",
   "id": "d5858f7d",
   "metadata": {},
   "source": [
    "### Applying Sales Tax\n",
    "\n",
    "Last weekend our system went down and we didn't have a calculator on site, so we told customers we'd charge them for tax later. \n",
    "\n",
    "The transactions are below."
   ]
  },
  {
   "cell_type": "code",
   "execution_count": 1,
   "id": "ecf7bfd9",
   "metadata": {},
   "outputs": [],
   "source": [
    "subtotals = [15.98, 899.97, 799.97, 117.96, 5.99, 599.99, 24.99, 1799.94, 99.99]"
   ]
  },
  {
   "attachments": {},
   "cell_type": "markdown",
   "id": "e30ee503",
   "metadata": {},
   "source": [
    "Can you apply sales tax to all of the transactions?\n",
    "\n",
    "The tax rate is 8%. \n",
    "\n",
    "Once we've calculated the taxes, we'll need to add them to their subtotals and calculate the the total invoice value.\n",
    "\n",
    "Your code should produce two lists.\n",
    "\n",
    "* `taxes`:The first should be a list of the tax amounts on each transaction, rounded to the nearest .01.\n",
    "\n",
    "* `totals`: The second should be a list where each element is subtotal[i] + tax[i]"
   ]
  },
  {
   "cell_type": "code",
   "execution_count": 2,
   "id": "70a25441",
   "metadata": {},
   "outputs": [
    {
     "name": "stdout",
     "output_type": "stream",
     "text": [
      "[1.28, 72.0, 64.0, 9.44, 0.48, 48.0, 2.0, 144.0, 8.0]\n",
      "[17.26, 971.97, 863.97, 127.4, 6.47, 647.99, 26.99, 1943.94, 107.99]\n"
     ]
    }
   ],
   "source": [
    "# create empty lists to store taxes and totals\n",
    "taxes = []\n",
    "totals = []\n",
    "\n",
    "# loop through subtotals\n",
    "for subtotal in subtotals:\n",
    "    # calculate tax and subtotal\n",
    "    tax = round(subtotal * 0.08, 2)\n",
    "    total = round(subtotal + tax, 2)\n",
    "    # append tax to taxes list, and total to totals\n",
    "    taxes.append(tax)\n",
    "    totals.append(total)\n",
    "\n",
    "print(taxes)\n",
    "print(totals)"
   ]
  }
 ],
 "metadata": {
  "kernelspec": {
   "display_name": "Python 3 (ipykernel)",
   "language": "python",
   "name": "python3"
  },
  "language_info": {
   "codemirror_mode": {
    "name": "ipython",
    "version": 3
   },
   "file_extension": ".py",
   "mimetype": "text/x-python",
   "name": "python",
   "nbconvert_exporter": "python",
   "pygments_lexer": "ipython3",
   "version": "3.10.11"
  }
 },
 "nbformat": 4,
 "nbformat_minor": 5
}
